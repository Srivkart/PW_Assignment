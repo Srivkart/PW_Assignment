{
  "nbformat": 4,
  "nbformat_minor": 0,
  "metadata": {
    "colab": {
      "provenance": []
    },
    "kernelspec": {
      "name": "python3",
      "display_name": "Python 3"
    },
    "language_info": {
      "name": "python"
    }
  },
  "cells": [
    {
      "cell_type": "markdown",
      "source": [
        "# Theory Questions"
      ],
      "metadata": {
        "id": "rFkACB8OfABr"
      }
    },
    {
      "cell_type": "markdown",
      "source": [
        "#Ques1. What is a RESTful API?\n",
        "**Ans:** A RESTful API follows the principles of REST, letting systems communicate over HTTP using\n",
        "standard methods like GET, POST, PUT, and DELETE.\n"
      ],
      "metadata": {
        "id": "BxtC2dCIfEDD"
      }
    },
    {
      "cell_type": "markdown",
      "source": [
        "#Ques2. API Specification?\n",
        "**Ans:** It’s a detailed plan or contract explaining how an API works—what endpoints exist, what data is\n",
        "expected, and what responses look like.\n"
      ],
      "metadata": {
        "id": "iCbWQMSVfWD5"
      }
    },
    {
      "cell_type": "markdown",
      "source": [
        "#Ques3. What is Flask & why is it popular for APIs?\n",
        "**Ans:**Flask is a lightweight Python web framework, loved for its simplicity and flexibility—making it\n",
        "easy to build APIs quickly."
      ],
      "metadata": {
        "id": "9SJlVhZOffFY"
      }
    },
    {
      "cell_type": "markdown",
      "source": [
        "#Ques4. What is routing in Flask?\n",
        "**Ans:**Routing connects URLs to specific functions in your app, telling Flask what to do when someone\n",
        "visits a certain path.\n"
      ],
      "metadata": {
        "id": "W48JH2UQfnwl"
      }
    },
    {
      "cell_type": "markdown",
      "source": [
        "#Ques5. How to create a simple Flask app?\n",
        "**Ans:**Install Flask, import it, create an app object, define a route with @app.route(), and run it using\n",
        "app.run()."
      ],
      "metadata": {
        "id": "qIRkxcBfftcu"
      }
    },
    {
      "cell_type": "markdown",
      "source": [
        "#Ques6. HTTP Methods in RESTful APIs?\n",
        "**Ans:**\n",
        "Main ones are GET (fetch), POST (create), PUT (update), DELETE (remove).\n"
      ],
      "metadata": {
        "id": "jU66uprff08x"
      }
    },
    {
      "cell_type": "markdown",
      "source": [
        "#Ques7. Purpose of @app.route()?\n",
        "**Ans:**It links a URL path to a function, telling Flask what to do when someone visits that path."
      ],
      "metadata": {
        "id": "epNceBtuf9FS"
      }
    },
    {
      "cell_type": "markdown",
      "source": [
        "#Ques8. GET vs POST?\n",
        "**Ans:**GET is for fetching data; POST is for sending data (like form submissions)."
      ],
      "metadata": {
        "id": "JJvbGgKIgC5T"
      }
    },
    {
      "cell_type": "markdown",
      "source": [
        "#Ques9. Handling errors in Flask APIs?\n",
        "**Ans:**Use try-except blocks and Flask’s @app.errorhandler() to catch and respond to errors\n",
        "nicely."
      ],
      "metadata": {
        "id": "I4S-TTPSgHRb"
      }
    },
    {
      "cell_type": "markdown",
      "source": [
        "#Ques10. Connect Flask to SQL DB?\n",
        "**Ans:**Use libraries like SQLAlchemy or Flask-SQLAlchemy, configure your DB URI, and bind your\n",
        "models.\n"
      ],
      "metadata": {
        "id": "IAqFFH-8gNYk"
      }
    },
    {
      "cell_type": "markdown",
      "source": [
        "#Ques11. Role of Flask-SQLAlchemy?\n",
        "**Ans:**It integrates SQLAlchemy with Flask, making database handling simpler and more Pythonic.\n"
      ],
      "metadata": {
        "id": "96n5a8bkgR3W"
      }
    },
    {
      "cell_type": "markdown",
      "source": [
        "#Ques12. What are Blueprints?\n",
        "**Ans:**They let you split large apps into smaller, organized modules."
      ],
      "metadata": {
        "id": "l9twLhc2gV-K"
      }
    },
    {
      "cell_type": "markdown",
      "source": [
        "#Ques13. Purpose of request object?\n",
        "**Ans:**It helps you access incoming data like JSON payloads, form data, headers, etc."
      ],
      "metadata": {
        "id": "vYx0EuvAgdOj"
      }
    },
    {
      "cell_type": "markdown",
      "source": [
        "#Ques14. Creating RESTful endpoint?\n",
        "**Ans:**Define a route using @app.route() and use methods like GET or POST to control the behavior."
      ],
      "metadata": {
        "id": "C8iEr6hxgip6"
      }
    },
    {
      "cell_type": "markdown",
      "source": [
        "#Ques15. Purpose of jsonify()?\n",
        "**Ans:**It converts Python dictionaries to JSON format so they can be returned as proper API responses.\n"
      ],
      "metadata": {
        "id": "ED7QdGdMgoIJ"
      }
    },
    {
      "cell_type": "markdown",
      "source": [
        "#Ques16. url_for()?\n",
        "**Ans:**Generates dynamic URLs for routes using function names—handy for internal linking"
      ],
      "metadata": {
        "id": "P1Npi21Egs0l"
      }
    },
    {
      "cell_type": "markdown",
      "source": [
        "#Ques17. Handling static files?\n",
        "**Ans:**Use the static folder; Flask automatically serves files like CSS or JS from it.\n"
      ],
      "metadata": {
        "id": "MdKvdSsdgxdd"
      }
    },
    {
      "cell_type": "markdown",
      "source": [
        "#Ques18. What is API specification & its role?\n",
        "**Ans:**It helps devs understand how to interact with your API—what to send, what to expect."
      ],
      "metadata": {
        "id": "xJY4fvJqg14X"
      }
    },
    {
      "cell_type": "markdown",
      "source": [
        "#Ques19. HTTP Status Codes?\n",
        "Ans: **bold text**Codes like 200 (OK), 404 (Not Found), and 500 (Error) indicate success or failure in API\n",
        "responses.\n"
      ],
      "metadata": {
        "id": "QzI5Nooyg7M0"
      }
    },
    {
      "cell_type": "markdown",
      "source": [
        "#Ques20. Handling POST requests?\n",
        "**Ans:**Use request.get_json() or request.form inside a route with methods=['POST'].\n"
      ],
      "metadata": {
        "id": "CKo6u10mhAMv"
      }
    },
    {
      "cell_type": "markdown",
      "source": [
        "#Ques21. Securing Flask APIs?\n",
        "**Ans:**Use authentication (like tokens), input validation, HTTPS, and rate limiting"
      ],
      "metadata": {
        "id": "R5i0sVBXhGW_"
      }
    },
    {
      "cell_type": "markdown",
      "source": [
        "#Ques22. Flask-RESTful extension?\n",
        "**Ans:**Adds tools and structure for building APIs cleanly with less boilerplate.\n"
      ],
      "metadata": {
        "id": "hMk_7I-0hLNm"
      }
    },
    {
      "cell_type": "markdown",
      "source": [
        "#Ques23. Flask’s session object?\n",
        "**Ans:**Stores user-specific data (like login info) between requests"
      ],
      "metadata": {
        "id": "7I4stpn0hQHI"
      }
    },
    {
      "cell_type": "markdown",
      "source": [
        "# Practical Questions"
      ],
      "metadata": {
        "id": "bt751Io6Kfg2"
      }
    },
    {
      "cell_type": "markdown",
      "source": [
        "#Ques1.  How do you create a basic Flask application?\n",
        "**Ans:**  **Step 1: Install Flask**\n"
      ],
      "metadata": {
        "id": "tw7s24PCKmCe"
      }
    },
    {
      "cell_type": "code",
      "execution_count": 2,
      "metadata": {
        "colab": {
          "base_uri": "https://localhost:8080/"
        },
        "id": "_Ob80ul6Kbyo",
        "outputId": "0f505023-a61f-471c-98b9-c764601d1e6d"
      },
      "outputs": [
        {
          "output_type": "stream",
          "name": "stdout",
          "text": [
            "Requirement already satisfied: flask in /usr/local/lib/python3.11/dist-packages (3.1.1)\n",
            "Requirement already satisfied: blinker>=1.9.0 in /usr/local/lib/python3.11/dist-packages (from flask) (1.9.0)\n",
            "Requirement already satisfied: click>=8.1.3 in /usr/local/lib/python3.11/dist-packages (from flask) (8.2.1)\n",
            "Requirement already satisfied: itsdangerous>=2.2.0 in /usr/local/lib/python3.11/dist-packages (from flask) (2.2.0)\n",
            "Requirement already satisfied: jinja2>=3.1.2 in /usr/local/lib/python3.11/dist-packages (from flask) (3.1.6)\n",
            "Requirement already satisfied: markupsafe>=2.1.1 in /usr/local/lib/python3.11/dist-packages (from flask) (3.0.2)\n",
            "Requirement already satisfied: werkzeug>=3.1.0 in /usr/local/lib/python3.11/dist-packages (from flask) (3.1.3)\n"
          ]
        }
      ],
      "source": [
        "pip install flask"
      ]
    },
    {
      "cell_type": "markdown",
      "source": [
        "**Step 2: Create a Basic App**\n",
        "Create a new Python file (e.g., app.py)"
      ],
      "metadata": {
        "id": "jUW5Hfw-LnFI"
      }
    },
    {
      "cell_type": "code",
      "source": [
        "from flask import Flask\n",
        "\n",
        "# Create the Flask app\n",
        "app = Flask(__name__)\n",
        "\n",
        "# Define a route and view function\n",
        "@app.route('/')\n",
        "def home():\n",
        "    return \"Hello, World!\"\n",
        "\n",
        "# Run the app if this file is executed directly\n",
        "if __name__ == '__main__':\n",
        "    app.run(debug=True)"
      ],
      "metadata": {
        "colab": {
          "base_uri": "https://localhost:8080/"
        },
        "collapsed": true,
        "id": "atrOV8gWL0tq",
        "outputId": "061a00ff-1eca-47cc-baee-03ec67dd0a52"
      },
      "execution_count": 3,
      "outputs": [
        {
          "output_type": "stream",
          "name": "stdout",
          "text": [
            " * Serving Flask app '__main__'\n",
            " * Debug mode: on\n"
          ]
        },
        {
          "output_type": "stream",
          "name": "stderr",
          "text": [
            "INFO:werkzeug:\u001b[31m\u001b[1mWARNING: This is a development server. Do not use it in a production deployment. Use a production WSGI server instead.\u001b[0m\n",
            " * Running on http://127.0.0.1:5000\n",
            "INFO:werkzeug:\u001b[33mPress CTRL+C to quit\u001b[0m\n",
            "INFO:werkzeug: * Restarting with stat\n"
          ]
        }
      ]
    },
    {
      "cell_type": "markdown",
      "source": [
        "**Step 3: Run the Application**\n",
        "Execute the Python file:"
      ],
      "metadata": {
        "id": "XK-i9mzEMWU7"
      }
    },
    {
      "cell_type": "code",
      "source": [
        "python app.py"
      ],
      "metadata": {
        "id": "44fds_QAMumw"
      },
      "execution_count": null,
      "outputs": []
    },
    {
      "cell_type": "markdown",
      "source": [
        "**Step 4: Access the Application**\n",
        "Open a web browser You should see \"Hello, World!\" displayed."
      ],
      "metadata": {
        "id": "jQiqcVJVMkrF"
      }
    },
    {
      "cell_type": "markdown",
      "source": [
        "#Ques2. How do you serve static files like images or CSS in Flask?\n",
        "**Ans:** Step1. Create a static folder in your project directory:"
      ],
      "metadata": {
        "id": "jibM-4TyM5da"
      }
    },
    {
      "cell_type": "code",
      "source": [
        "your_project/\n",
        "│\n",
        "├── app.py\n",
        "├── static/\n",
        "│   ├── style.css\n",
        "│   ├── script.js\n",
        "│   └── image.png\n",
        "└── templates/\n",
        "    └── index.html\n"
      ],
      "metadata": {
        "id": "0Cdp2MsCOFdF"
      },
      "execution_count": null,
      "outputs": []
    },
    {
      "cell_type": "markdown",
      "source": [
        "Step2. Reference static files in your HTML using url_for()"
      ],
      "metadata": {
        "id": "7t3tYOgfNDKR"
      }
    },
    {
      "cell_type": "code",
      "source": [
        "<!-- templates/index.html -->\n",
        "<!DOCTYPE html>\n",
        "<html>\n",
        "<head>\n",
        "    <title>Static File Example</title>\n",
        "    <link rel=\"stylesheet\" href=\"{{ url_for('static', filename='style.css') }}\">\n",
        "</head>\n",
        "<body>\n",
        "    <h1>Hello Flask!</h1>\n",
        "    <img src=\"{{ url_for('static', filename='image.png') }}\" alt=\"Sample Image\">\n",
        "</body>\n",
        "</html>\n"
      ],
      "metadata": {
        "id": "6rmP_ggmOQxn"
      },
      "execution_count": null,
      "outputs": []
    },
    {
      "cell_type": "markdown",
      "source": [
        "Step3. Your Flask app (app.py):"
      ],
      "metadata": {
        "id": "dPBFEP-cOONv"
      }
    },
    {
      "cell_type": "code",
      "source": [
        "from flask import Flask, render_template\n",
        "\n",
        "app = Flask(__name__)\n",
        "\n",
        "@app.route('/')\n",
        "def home():\n",
        "    return render_template('index.html')\n",
        "\n",
        "if __name__ == '__main__':\n",
        "    app.run(debug=True)\n"
      ],
      "metadata": {
        "id": "Wnlt09EgOXlS"
      },
      "execution_count": null,
      "outputs": []
    },
    {
      "cell_type": "markdown",
      "source": [
        "#Ques3. How do you define different routes with different HTTP methods in Flask?"
      ],
      "metadata": {
        "id": "tehpRu2NOawd"
      }
    },
    {
      "cell_type": "code",
      "source": [
        "from flask import Flask, request\n",
        "\n",
        "app = Flask(__name__)\n",
        "\n",
        "@app.route('/submit', methods=['GET', 'POST'])\n",
        "def submit():\n",
        "    if request.method == 'POST':\n",
        "        return \"Form submitted using POST\"\n",
        "    else:\n",
        "        return \"Form page using GET\"\n",
        "\n",
        "@app.route('/delete-item', methods=['DELETE'])\n",
        "def delete_item():\n",
        "    return \"Item deleted\", 200\n",
        "\n",
        "@app.route('/update-item', methods=['PUT'])\n",
        "def update_item():\n",
        "    return \"Item updated\", 200\n",
        "\n",
        "if __name__ == '__main__':\n",
        "    app.run(debug=True)\n"
      ],
      "metadata": {
        "id": "o0-kKvQ_Olt8"
      },
      "execution_count": null,
      "outputs": []
    },
    {
      "cell_type": "markdown",
      "source": [
        "#Ques4.How do you render HTML templates in Flask?\n",
        "**Ans:**  Steps to Render HTML Templates in Flask\n",
        "Step1. Project Structure Example"
      ],
      "metadata": {
        "id": "1ByAmriiOxtB"
      }
    },
    {
      "cell_type": "code",
      "source": [
        "your_project/\n",
        "│\n",
        "├── app.py\n",
        "└── templates/\n",
        "    ├── index.html\n",
        "    └── about.html\n"
      ],
      "metadata": {
        "id": "TFg-gkKLO3pk"
      },
      "execution_count": null,
      "outputs": []
    },
    {
      "cell_type": "markdown",
      "source": [
        "Step 2. Create HTML Templates"
      ],
      "metadata": {
        "id": "4r5ZJe2KO3Cs"
      }
    },
    {
      "cell_type": "code",
      "source": [
        "<!-- templates/index.html -->\n",
        "<!DOCTYPE html>\n",
        "<html>\n",
        "<head>\n",
        "    <title>Home Page</title>\n",
        "</head>\n",
        "<body>\n",
        "    <h1>Welcome to Flask</h1>\n",
        "</body>\n",
        "</html>\n"
      ],
      "metadata": {
        "id": "cubMpXI3Poid"
      },
      "execution_count": null,
      "outputs": []
    },
    {
      "cell_type": "code",
      "source": [
        "<!-- templates/about.html -->\n",
        "<!DOCTYPE html>\n",
        "<html>\n",
        "<head>\n",
        "    <title>About</title>\n",
        "</head>\n",
        "<body>\n",
        "    <h1>About Page</h1>\n",
        "</body>\n",
        "</html>\n"
      ],
      "metadata": {
        "id": "oIsmjsMXQLud"
      },
      "execution_count": null,
      "outputs": []
    },
    {
      "cell_type": "code",
      "source": [
        "from flask import Flask, render_template\n",
        "\n",
        "app = Flask(__name__)\n",
        "\n",
        "@app.route('/')\n",
        "def home():\n",
        "    return render_template('index.html')\n",
        "\n",
        "@app.route('/about')\n",
        "def about():\n",
        "    return render_template('about.html')\n",
        "\n",
        "if __name__ == '__main__':\n",
        "    app.run(debug=True)\n"
      ],
      "metadata": {
        "id": "-BDTstKrQQJp"
      },
      "execution_count": null,
      "outputs": []
    },
    {
      "cell_type": "markdown",
      "source": [
        "**Passing Data to Templates**"
      ],
      "metadata": {
        "id": "tbZt0MjoQZXW"
      }
    },
    {
      "cell_type": "code",
      "source": [
        "@app.route('/user/<name>')\n",
        "def user(name):\n",
        "    return render_template('user.html', username=name)\n"
      ],
      "metadata": {
        "id": "EY6kD4tuQbz1"
      },
      "execution_count": null,
      "outputs": []
    },
    {
      "cell_type": "code",
      "source": [
        "<!-- templates/user.html -->\n",
        "<h1>Hello, {{ username }}!</h1>\n"
      ],
      "metadata": {
        "id": "E6NppsQAQeo8"
      },
      "execution_count": null,
      "outputs": []
    },
    {
      "cell_type": "markdown",
      "source": [
        "#Ques5. How can you generate URLs for routes in Flask using url_for?\n",
        "**1. Define a route:**"
      ],
      "metadata": {
        "id": "_UNxQ43MQm0G"
      }
    },
    {
      "cell_type": "code",
      "source": [
        "from flask import Flask, url_for\n",
        "\n",
        "app = Flask(__name__)\n",
        "\n",
        "@app.route('/user/<username>')\n",
        "def profile(username):\n",
        "    return f\"User: {username}\"\n"
      ],
      "metadata": {
        "id": "kE4fp0NkQ-Rd"
      },
      "execution_count": null,
      "outputs": []
    },
    {
      "cell_type": "markdown",
      "source": [
        "**2. Generate the URL:**"
      ],
      "metadata": {
        "id": "uwBAgUlRRI5n"
      }
    },
    {
      "cell_type": "code",
      "source": [
        "@app.route('/')\n",
        "def index():\n",
        "    # Generates: /user/john\n",
        "    return url_for('profile', username='john')\n"
      ],
      "metadata": {
        "id": "FZhaifXGRL_M"
      },
      "execution_count": null,
      "outputs": []
    },
    {
      "cell_type": "code",
      "source": [
        "<a href=\"{{ url_for('profile', username='john') }}\">John's Profile</a>\n"
      ],
      "metadata": {
        "id": "yfdvT3atRTvb"
      },
      "execution_count": null,
      "outputs": []
    },
    {
      "cell_type": "markdown",
      "source": [
        "#Ques6. How do you handle forms in Flask?\n",
        "**Ans:** **1. Create an HTML form**\n",
        "You define a form in your HTML template, usually with the POST method:"
      ],
      "metadata": {
        "id": "w5MOcBO5Rash"
      }
    },
    {
      "cell_type": "code",
      "source": [
        "<!-- templates/form.html -->\n",
        "<form method=\"POST\" action=\"/submit\">\n",
        "  <label for=\"name\">Name:</label>\n",
        "  <input type=\"text\" name=\"name\" id=\"name\">\n",
        "  <input type=\"submit\" value=\"Submit\">\n",
        "</form>\n"
      ],
      "metadata": {
        "id": "mEAWeqS-T8Bl"
      },
      "execution_count": null,
      "outputs": []
    },
    {
      "cell_type": "markdown",
      "source": [
        "2. **Define a route to handle the form**\n",
        "In your Flask app, create a route that accepts both GET and POST methods:"
      ],
      "metadata": {
        "id": "oQnIdcRYUAym"
      }
    },
    {
      "cell_type": "code",
      "source": [
        "from flask import Flask, request, render_template\n",
        "\n",
        "app = Flask(__name__)\n",
        "\n",
        "@app.route('/submit', methods=['GET', 'POST'])\n",
        "def submit():\n",
        "    if request.method == 'POST':\n",
        "        # Get data from the form\n",
        "        name = request.form['name']\n",
        "        return f'Hello, {name}!'\n",
        "    return render_template('form.html')\n"
      ],
      "metadata": {
        "id": "WAgGYdhmUG6C"
      },
      "execution_count": null,
      "outputs": []
    },
    {
      "cell_type": "markdown",
      "source": [
        " **3. Access form data using request.form**\n",
        " - request.form is a dictionary-like object that contains form data submitted via POST.\n",
        "\n",
        "- For GET requests, use request.args.\n",
        "**Example with Validation**"
      ],
      "metadata": {
        "id": "3ipP3_BsUKH2"
      }
    },
    {
      "cell_type": "code",
      "source": [
        "@app.route('/login', methods=['GET', 'POST'])\n",
        "def login():\n",
        "    error = None\n",
        "    if request.method == 'POST':\n",
        "        if request.form['username'] != 'admin':\n",
        "            error = 'Invalid username'\n",
        "        else:\n",
        "            return 'Logged in successfully!'\n",
        "    return render_template('login.html', error=error)\n"
      ],
      "metadata": {
        "id": "H1N1UFR9UYqf"
      },
      "execution_count": null,
      "outputs": []
    },
    {
      "cell_type": "markdown",
      "source": [
        "#Ques7. How can you validate form data in Flask?\n",
        "1. **Manual Validation (Basic Flask)**\n",
        "This involves checking values directly using Python logic."
      ],
      "metadata": {
        "id": "Ff7VsLpEUgu6"
      }
    },
    {
      "cell_type": "code",
      "source": [
        "from flask import Flask, request, render_template\n",
        "\n",
        "app = Flask(__name__)\n",
        "\n",
        "@app.route('/register', methods=['GET', 'POST'])\n",
        "def register():\n",
        "    error = ''\n",
        "    if request.method == 'POST':\n",
        "        username = request.form.get('username')\n",
        "        email = request.form.get('email')\n",
        "\n",
        "        # Simple validations\n",
        "        if not username or not email:\n",
        "            error = 'All fields are required.'\n",
        "        elif '@' not in email:\n",
        "            error = 'Invalid email format.'\n",
        "        else:\n",
        "            return f'Registered {username} with {email}'\n",
        "\n",
        "    return render_template('register.html', error=error)\n"
      ],
      "metadata": {
        "id": "4qNcLv1uUwT6"
      },
      "execution_count": null,
      "outputs": []
    },
    {
      "cell_type": "markdown",
      "source": [
        "**2. Using Flask-WTF (Recommended for Production)**\n",
        "Flask-WTF is a Flask extension that integrates WTForms for robust form handling and validation.\n",
        "**Install:**"
      ],
      "metadata": {
        "id": "TzLOkLewVxVK"
      }
    },
    {
      "cell_type": "code",
      "source": [
        "pip install flask-wtf\n"
      ],
      "metadata": {
        "id": "Wsocz8JrV52q"
      },
      "execution_count": null,
      "outputs": []
    },
    {
      "cell_type": "markdown",
      "source": [
        "**Example:**"
      ],
      "metadata": {
        "id": "xs0LxT3lV8jn"
      }
    },
    {
      "cell_type": "code",
      "source": [
        "#forms.py\n",
        "from flask_wtf import FlaskForm\n",
        "from wtforms import StringField, SubmitField\n",
        "from wtforms.validators import DataRequired, Email\n",
        "\n",
        "class RegistrationForm(FlaskForm):\n",
        "    username = StringField('Username', validators=[DataRequired()])\n",
        "    email = StringField('Email', validators=[DataRequired(), Email()])\n",
        "    submit = SubmitField('Register')\n"
      ],
      "metadata": {
        "id": "g8v3_K1YV_PP"
      },
      "execution_count": null,
      "outputs": []
    },
    {
      "cell_type": "code",
      "source": [
        "#app.py\n",
        "from flask import Flask, render_template\n",
        "from forms import RegistrationForm\n",
        "\n",
        "app = Flask(__name__)\n",
        "app.secret_key = 'your_secret_key'  # Needed for CSRF protection\n",
        "\n",
        "@app.route('/register', methods=['GET', 'POST'])\n",
        "def register():\n",
        "    form = RegistrationForm()\n",
        "    if form.validate_on_submit():\n",
        "        return f\"Registered {form.username.data} with {form.email.data}\"\n",
        "    return render_template('register.html', form=form)\n"
      ],
      "metadata": {
        "id": "p5BYm_FNWCUf"
      },
      "execution_count": null,
      "outputs": []
    },
    {
      "cell_type": "code",
      "source": [
        "#templates/register.html\n",
        "<form method=\"POST\">\n",
        "    {{ form.hidden_tag() }}\n",
        "    {{ form.username.label }} {{ form.username() }}<br>\n",
        "    {{ form.email.label }} {{ form.email() }}<br>\n",
        "    {{ form.submit() }}\n",
        "    {% for field, errors in form.errors.items() %}\n",
        "        {% for error in errors %}\n",
        "            <p style=\"color:red\">{{ error }}</p>\n",
        "        {% endfor %}\n",
        "    {% endfor %}\n",
        "</form>\n"
      ],
      "metadata": {
        "id": "hbH6lSnlWE57"
      },
      "execution_count": null,
      "outputs": []
    },
    {
      "cell_type": "markdown",
      "source": [
        "#Ques8. How do you manage sessions in Flask?\n",
        "**Ans:** **1. Setup: Set a Secret Key**\n",
        "You must define a secret key to sign session data:"
      ],
      "metadata": {
        "id": "5di5va-KWZvU"
      }
    },
    {
      "cell_type": "code",
      "source": [
        "from flask import Flask, session\n",
        "\n",
        "app = Flask(__name__)\n",
        "app.secret_key = 'your_secret_key_here'  # Keep this secret in production!\n"
      ],
      "metadata": {
        "id": "FZYPGqMjWuDJ"
      },
      "execution_count": null,
      "outputs": []
    },
    {
      "cell_type": "markdown",
      "source": [
        " **2. Set Session Data**"
      ],
      "metadata": {
        "id": "sE280LnYWwjc"
      }
    },
    {
      "cell_type": "code",
      "source": [
        "from flask import session\n",
        "\n",
        "@app.route('/login')\n",
        "def login():\n",
        "    session['username'] = 'JohnDoe'\n",
        "    return 'Logged in as JohnDoe'\n"
      ],
      "metadata": {
        "id": "r_OOFPUtWzHq"
      },
      "execution_count": null,
      "outputs": []
    },
    {
      "cell_type": "markdown",
      "source": [
        "**3. Access Session Data**"
      ],
      "metadata": {
        "id": "k6Lzx4L4W2Ft"
      }
    },
    {
      "cell_type": "code",
      "source": [
        "@app.route('/profile')\n",
        "def profile():\n",
        "    username = session.get('username')\n",
        "    if username:\n",
        "        return f'Welcome, {username}!'\n",
        "    return 'Not logged in'\n"
      ],
      "metadata": {
        "id": "erpZ6-2UW1kU"
      },
      "execution_count": null,
      "outputs": []
    },
    {
      "cell_type": "markdown",
      "source": [
        "**4. Remove Session Data (Logout)**"
      ],
      "metadata": {
        "id": "7YzzTqn-W7sX"
      }
    },
    {
      "cell_type": "code",
      "source": [
        "@app.route('/logout')\n",
        "def logout():\n",
        "    session.pop('username', None)  # Avoid KeyError\n",
        "    return 'Logged out'\n"
      ],
      "metadata": {
        "id": "UGbpe9VVW7Vh"
      },
      "execution_count": null,
      "outputs": []
    },
    {
      "cell_type": "markdown",
      "source": [
        "**5. Full Example**"
      ],
      "metadata": {
        "id": "FJaJiCy1XBQq"
      }
    },
    {
      "cell_type": "code",
      "source": [
        "from flask import Flask, session, redirect, url_for, request\n",
        "\n",
        "app = Flask(__name__)\n",
        "app.secret_key = 'supersecretkey'\n",
        "\n",
        "@app.route('/', methods=['GET', 'POST'])\n",
        "def index():\n",
        "    if request.method == 'POST':\n",
        "        session['username'] = request.form['username']\n",
        "        return redirect(url_for('profile'))\n",
        "    return '''\n",
        "        <form method=\"POST\">\n",
        "            <input name=\"username\">\n",
        "            <input type=\"submit\">\n",
        "        </form>\n",
        "    '''\n",
        "\n",
        "@app.route('/profile')\n",
        "def profile():\n",
        "    if 'username' in session:\n",
        "        return f\"Welcome back, {session['username']}!\"\n",
        "    return redirect(url_for('index'))\n",
        "\n",
        "@app.route('/logout')\n",
        "def logout():\n",
        "    session.pop('username', None)\n",
        "    return redirect(url_for('index'))\n"
      ],
      "metadata": {
        "id": "w03Gj-46XC4v"
      },
      "execution_count": null,
      "outputs": []
    },
    {
      "cell_type": "markdown",
      "source": [
        "#Ques9. How do you redirect to a different route in Flask?\n",
        "**Ans:** In Flask, you redirect to a different route using the redirect() function along with url_for() to generate the URL of the target view function.\n",
        "\n",
        "**Basic Syntax**"
      ],
      "metadata": {
        "id": "vPGqi41NXOnC"
      }
    },
    {
      "cell_type": "code",
      "source": [
        "from flask import redirect, url_for\n",
        "return redirect(url_for('target_function'))\n"
      ],
      "metadata": {
        "id": "WNXKmPxMXORZ"
      },
      "execution_count": null,
      "outputs": []
    },
    {
      "cell_type": "markdown",
      "source": [
        "** Example**"
      ],
      "metadata": {
        "id": "hnqaAMqgXos-"
      }
    },
    {
      "cell_type": "code",
      "source": [
        "from flask import Flask, redirect, url_for\n",
        "\n",
        "app = Flask(__name__)\n",
        "\n",
        "@app.route('/')\n",
        "def home():\n",
        "    return 'Home Page'\n",
        "\n",
        "@app.route('/login')\n",
        "def login():\n",
        "    # Redirect to home after login\n",
        "    return redirect(url_for('home'))\n"
      ],
      "metadata": {
        "id": "5AMZy7YMXrVa"
      },
      "execution_count": null,
      "outputs": []
    },
    {
      "cell_type": "markdown",
      "source": [
        "**Redirect with Parameters**"
      ],
      "metadata": {
        "id": "yvdGmso0XvCs"
      }
    },
    {
      "cell_type": "code",
      "source": [
        "@app.route('/user/<username>')\n",
        "def profile(username):\n",
        "    return f\"Welcome, {username}!\"\n",
        "\n",
        "@app.route('/go-to-profile')\n",
        "def go_to_profile():\n",
        "    return redirect(url_for('profile', username='john'))\n"
      ],
      "metadata": {
        "id": "kDUkUR7gXxjv"
      },
      "execution_count": null,
      "outputs": []
    },
    {
      "cell_type": "markdown",
      "source": [
        "**Permanent Redirect (HTTP 301)**"
      ],
      "metadata": {
        "id": "1BY7VbG7X0YS"
      }
    },
    {
      "cell_type": "code",
      "source": [
        "return redirect(url_for('home'), code=301)\n"
      ],
      "metadata": {
        "id": "QFeGVA6zX4Ie"
      },
      "execution_count": null,
      "outputs": []
    },
    {
      "cell_type": "markdown",
      "source": [
        "#Ques10. How do you handle errors in Flask (e.g., 404)?\n",
        "**Ans:** In Flask, you handle errors like 404 Not Found, 500 Internal Server Error, etc., using error handlers with the @app.errorhandler decorator.\n",
        " **Basic Syntax**"
      ],
      "metadata": {
        "id": "zCQgnO6iX-Xz"
      }
    },
    {
      "cell_type": "code",
      "source": [
        "@app.errorhandler(error_code)\n",
        "def handle_error(e):\n",
        "    return render_template('error.html'), error_code\n"
      ],
      "metadata": {
        "id": "edxPwLMJZEY_"
      },
      "execution_count": null,
      "outputs": []
    },
    {
      "cell_type": "markdown",
      "source": [
        "**Example: Handling 404 Errors**"
      ],
      "metadata": {
        "id": "rEC7MqlgZHhY"
      }
    },
    {
      "cell_type": "code",
      "source": [
        "from flask import Flask, render_template\n",
        "\n",
        "app = Flask(__name__)\n",
        "\n",
        "@app.errorhandler(404)\n",
        "def not_found_error(error):\n",
        "    return render_template('404.html'), 404\n"
      ],
      "metadata": {
        "id": "hVAknR_5ZKJD"
      },
      "execution_count": null,
      "outputs": []
    },
    {
      "cell_type": "markdown",
      "source": [
        "**Example: Handle 500 Errors**"
      ],
      "metadata": {
        "id": "_wjqrQvmZNBd"
      }
    },
    {
      "cell_type": "code",
      "source": [
        "@app.errorhandler(500)\n",
        "def internal_error(error):\n",
        "    return render_template('500.html'), 500\n"
      ],
      "metadata": {
        "id": "SjdZo2ScZQII"
      },
      "execution_count": null,
      "outputs": []
    },
    {
      "cell_type": "markdown",
      "source": [
        "**Optional: Custom Messages**"
      ],
      "metadata": {
        "id": "3KH-3W_MZTds"
      }
    },
    {
      "cell_type": "code",
      "source": [
        "@app.errorhandler(403)\n",
        "def forbidden(error):\n",
        "    return 'Access Denied: You do not have permission to access this page.', 403\n"
      ],
      "metadata": {
        "id": "oTGUsK15ZVxt"
      },
      "execution_count": null,
      "outputs": []
    },
    {
      "cell_type": "markdown",
      "source": [
        "**Example 404 Template (templates/404.html)**"
      ],
      "metadata": {
        "id": "8vuuF14HZbtW"
      }
    },
    {
      "cell_type": "code",
      "source": [
        "<!DOCTYPE html>\n",
        "<html>\n",
        "<head><title>Page Not Found</title></head>\n",
        "<body>\n",
        "  <h1>404 - Page Not Found</h1>\n",
        "  <p>Sorry, the page you're looking for doesn't exist.</p>\n",
        "  <a href=\"{{ url_for('home') }}\">Go back to Home</a>\n",
        "</body>\n",
        "</html>\n"
      ],
      "metadata": {
        "id": "6x7ONuMFZe6B"
      },
      "execution_count": null,
      "outputs": []
    },
    {
      "cell_type": "markdown",
      "source": [
        "#Ques11. How do you structure a Flask app using Blueprints?\n",
        "**Ans:** **1. Create a Blueprint (e.g., for auth)**\n"
      ],
      "metadata": {
        "id": "BqECUDpIZny8"
      }
    },
    {
      "cell_type": "code",
      "source": [
        "from flask import Blueprint, render_template\n",
        "\n",
        "auth_bp = Blueprint('auth', __name__, url_prefix='/auth')\n",
        "\n",
        "@auth_bp.route('/login')\n",
        "def login():\n",
        "    return render_template('login.html')\n",
        "\n",
        "@auth_bp.route('/logout')\n",
        "def logout():\n",
        "    return 'Logged out'\n"
      ],
      "metadata": {
        "id": "Z1o-9BXmaGlS"
      },
      "execution_count": null,
      "outputs": []
    },
    {
      "cell_type": "markdown",
      "source": [
        "**2. Expose the Blueprint**\n",
        "auth/__init__.py"
      ],
      "metadata": {
        "id": "F0fVkvVjaPam"
      }
    },
    {
      "cell_type": "code",
      "source": [
        "from .routes import auth_bp\n"
      ],
      "metadata": {
        "id": "Dtq6-md7aTfj"
      },
      "execution_count": null,
      "outputs": []
    },
    {
      "cell_type": "markdown",
      "source": [
        " **3. Main App: Register Blueprints**\n",
        "app.py"
      ],
      "metadata": {
        "id": "BKPhgTL9abl8"
      }
    },
    {
      "cell_type": "code",
      "source": [
        "from flask import Flask\n",
        "from auth import auth_bp\n",
        "from blog import blog_bp  # if you have another blueprint\n",
        "\n",
        "app = Flask(__name__)\n",
        "\n",
        "# Register blueprints\n",
        "app.register_blueprint(auth_bp)\n",
        "app.register_blueprint(blog_bp)\n",
        "\n",
        "@app.route('/')\n",
        "def home():\n",
        "    return 'Welcome to the Home Page!'\n",
        "\n",
        "if __name__ == '__main__':\n",
        "    app.run(debug=True)\n"
      ],
      "metadata": {
        "id": "YN-zXnlfaZQC"
      },
      "execution_count": null,
      "outputs": []
    },
    {
      "cell_type": "markdown",
      "source": [
        "**4. (Optional) Blueprint with its own templates and static files**\n",
        "python\n"
      ],
      "metadata": {
        "id": "t3FyQp2fakk7"
      }
    },
    {
      "cell_type": "code",
      "source": [
        "auth_bp = Blueprint(\n",
        "    'auth',\n",
        "    __name__,\n",
        "    url_prefix='/auth',\n",
        "    template_folder='templates',\n",
        "    static_folder='static'\n",
        ")\n"
      ],
      "metadata": {
        "id": "8iwi_kuOazLC"
      },
      "execution_count": null,
      "outputs": []
    },
    {
      "cell_type": "markdown",
      "source": [
        "#Ques12. How do you define a custom Jinja filter in Flask?\n",
        " **Ans: **\n",
        " Steps to Define a Custom Jinja Filter\n",
        "  **1. Create the filter function**\n",
        "This is a regular Python function that takes one or more arguments.\n"
      ],
      "metadata": {
        "id": "_dZ1fzSna3pz"
      }
    },
    {
      "cell_type": "code",
      "source": [
        "def reverse_string(s):\n",
        "    return s[::-1]\n"
      ],
      "metadata": {
        "id": "J1-YBcaKbXkU"
      },
      "execution_count": null,
      "outputs": []
    },
    {
      "cell_type": "markdown",
      "source": [
        "**2. Register the filter with your Flask app**\n",
        "You register it using app.template_filter() or app.add_template_filter()."
      ],
      "metadata": {
        "id": "e0XDmUhAbZ5p"
      }
    },
    {
      "cell_type": "code",
      "source": [
        "from flask import Flask\n",
        "\n",
        "app = Flask(__name__)\n",
        "\n",
        "@app.template_filter('reverse')\n",
        "def reverse_string(s):\n",
        "    return s[::-1]\n"
      ],
      "metadata": {
        "id": "7MqW807ybdUS"
      },
      "execution_count": null,
      "outputs": []
    },
    {
      "cell_type": "markdown",
      "source": [
        "**3. Use the custom filter in a Jinja template**\n",
        "template.html"
      ],
      "metadata": {
        "id": "VoNsuq0Pbf5h"
      }
    },
    {
      "cell_type": "code",
      "source": [
        "<p>Original: {{ name }}</p>\n",
        "<p>Reversed: {{ name | reverse }}</p>\n"
      ],
      "metadata": {
        "id": "M-LsWhYLbjEv"
      },
      "execution_count": null,
      "outputs": []
    },
    {
      "cell_type": "markdown",
      "source": [
        "If name = \"Flask\", it will output:"
      ],
      "metadata": {
        "id": "_eiBE9GXbmUC"
      }
    },
    {
      "cell_type": "code",
      "source": [
        "Original: Flask\n",
        "Reversed: ksalF\n"
      ],
      "metadata": {
        "id": "-6KDWcmobl8J"
      },
      "execution_count": null,
      "outputs": []
    },
    {
      "cell_type": "markdown",
      "source": [
        "Example with Arguments"
      ],
      "metadata": {
        "id": "1LfubykwbrMU"
      }
    },
    {
      "cell_type": "code",
      "source": [
        "@app.template_filter('repeat')\n",
        "def repeat_string(s, times=2):\n",
        "    return s * times\n"
      ],
      "metadata": {
        "id": "BMMQoyiybstD"
      },
      "execution_count": null,
      "outputs": []
    },
    {
      "cell_type": "markdown",
      "source": [
        "Usage in template:"
      ],
      "metadata": {
        "id": "5a0bQDGhbutP"
      }
    },
    {
      "cell_type": "code",
      "source": [
        "{{ \"Hi\" | repeat(3) }}  <!-- Output: HiHiHi -->\n"
      ],
      "metadata": {
        "id": "1RxHRWNnbwoH"
      },
      "execution_count": null,
      "outputs": []
    },
    {
      "cell_type": "markdown",
      "source": [
        "#Ques13. How can you redirect with query parameters in Flask?\n",
        "**Ans:** In Flask, you can redirect with query parameters using redirect() along with url_for() and its **values argument, which allows you to include query parameters.\n",
        "\n",
        "**Syntax**"
      ],
      "metadata": {
        "id": "PcXm67m1b3jB"
      }
    },
    {
      "cell_type": "code",
      "source": [
        "from flask import redirect, url_for\n",
        "\n",
        "return redirect(url_for('route_name', param1='value1', param2='value2'))\n"
      ],
      "metadata": {
        "id": "fF5ZCcoecHTD"
      },
      "execution_count": null,
      "outputs": []
    },
    {
      "cell_type": "markdown",
      "source": [
        "Full Example\n",
        " **1. Define a target route to receive the query parameters:**\n",
        "python\n"
      ],
      "metadata": {
        "id": "qxniPU8KcXtP"
      }
    },
    {
      "cell_type": "code",
      "source": [
        "from flask import Flask, request\n",
        "\n",
        "app = Flask(__name__)\n",
        "\n",
        "@app.route('/search')\n",
        "def search():\n",
        "    query = request.args.get('q')  # get 'q' from query string\n",
        "    return f\"Search results for: {query}\"\n"
      ],
      "metadata": {
        "id": "vZ_Xtwjrcd9h"
      },
      "execution_count": null,
      "outputs": []
    },
    {
      "cell_type": "markdown",
      "source": [
        " **2. Redirect to that route with query parameters:**"
      ],
      "metadata": {
        "id": "nRLFE0A8cgK9"
      }
    },
    {
      "cell_type": "code",
      "source": [
        "@app.route('/go-to-search')\n",
        "def go_to_search():\n",
        "    return redirect(url_for('search', q='flask tutorial'))\n"
      ],
      "metadata": {
        "id": "4yKBd0rEcjl2"
      },
      "execution_count": null,
      "outputs": []
    },
    {
      "cell_type": "markdown",
      "source": [
        "#Ques14. How do you return JSON responses in Flask?\n",
        "**Ans:** 1. **Using jsonify**"
      ],
      "metadata": {
        "id": "2KxtHeomcoJB"
      }
    },
    {
      "cell_type": "code",
      "source": [
        "  from flask import Flask, jsonify\n",
        "\n",
        "app = Flask(__name__)\n",
        "\n",
        "@app.route('/user')\n",
        "def get_user():\n",
        "    user = {\n",
        "        'id': 123,\n",
        "        'name': 'John Doe',\n",
        "        'email': 'john@example.com'\n",
        "    }\n",
        "    return jsonify(user)  # Automatically sets Content-Type to application/json\n",
        ""
      ],
      "metadata": {
        "id": "_c1iznPEc4tZ"
      },
      "execution_count": null,
      "outputs": []
    },
    {
      "cell_type": "markdown",
      "source": [
        "**2. Returning a Dictionary (Flask 2.0+)**\n",
        "In modern Flask versions, you can directly return a dictionary:"
      ],
      "metadata": {
        "id": "6o5kHbThdGQ9"
      }
    },
    {
      "cell_type": "code",
      "source": [
        "@app.route('/status')\n",
        "def status():\n",
        "    return {\n",
        "        'status': 'active',\n",
        "        'version': 1.2,\n",
        "        'services': ['auth', 'database']\n",
        "    }"
      ],
      "metadata": {
        "id": "YpVw7iizdKC_"
      },
      "execution_count": null,
      "outputs": []
    },
    {
      "cell_type": "markdown",
      "source": [
        "**3. With Custom Status Codes**"
      ],
      "metadata": {
        "id": "i9XwOLiqdMC2"
      }
    },
    {
      "cell_type": "code",
      "source": [
        "@app.route('/create', methods=['POST'])\n",
        "def create_item():\n",
        "    # Process creation logic...\n",
        "    return jsonify({'success': True, 'id': 42}), 201  # 201 Created status"
      ],
      "metadata": {
        "id": "MMKowe89dOMQ"
      },
      "execution_count": null,
      "outputs": []
    },
    {
      "cell_type": "markdown",
      "source": [
        "**4. Using JSON Responses with Lists**"
      ],
      "metadata": {
        "id": "dWUlaUz2dQQZ"
      }
    },
    {
      "cell_type": "code",
      "source": [
        "@app.route('/items')\n",
        "def get_items():\n",
        "    items = [\n",
        "        {'id': 1, 'name': 'Item 1'},\n",
        "        {'id': 2, 'name': 'Item 2'}\n",
        "    ]\n",
        "    return jsonify(items)  # Works with lists too"
      ],
      "metadata": {
        "id": "yB0KpOnCdTTS"
      },
      "execution_count": null,
      "outputs": []
    },
    {
      "cell_type": "markdown",
      "source": [
        "**5. Custom JSON Responses**"
      ],
      "metadata": {
        "id": "HcrqoRyCdS17"
      }
    },
    {
      "cell_type": "code",
      "source": [
        "from flask import make_response\n",
        "\n",
        "@app.route('/custom')\n",
        "def custom_json():\n",
        "    data = {'message': 'Custom response', 'code': 'CUSTOM200'}\n",
        "    response = make_response(jsonify(data))\n",
        "    response.headers['X-Custom-Header'] = 'SomeValue'\n",
        "    return response"
      ],
      "metadata": {
        "id": "UA_D90ZBdXvo"
      },
      "execution_count": null,
      "outputs": []
    },
    {
      "cell_type": "markdown",
      "source": [
        "#Ques15. How do you capture URL parameters in Flask?\n",
        "**Ans:** Capturing URL Parameters in Flask\n",
        "Flask provides several ways to capture parameters from URLs. Here are the most common methods:\n",
        "\n",
        "**1. Basic URL Parameters**"
      ],
      "metadata": {
        "id": "efvKchx5dbtz"
      }
    },
    {
      "cell_type": "code",
      "source": [
        "from flask import Flask\n",
        "\n",
        "app = Flask(__name__)\n",
        "\n",
        "@app.route('/user/<username>')\n",
        "def show_user_profile(username):\n",
        "    # Captures the username from the URL\n",
        "    return f'User: {username}'"
      ],
      "metadata": {
        "id": "ahi6Ag4xdbIe"
      },
      "execution_count": null,
      "outputs": []
    },
    {
      "cell_type": "markdown",
      "source": [
        "**2. Specifying Parameter Types**\n",
        "You can define the type of parameter expected:"
      ],
      "metadata": {
        "id": "UYApIy6Zeecd"
      }
    },
    {
      "cell_type": "code",
      "source": [
        "@app.route('/post/<int:post_id>')\n",
        "def show_post(post_id):\n",
        "    # Only matches integers\n",
        "    return f'Post ID: {post_id} (type: {type(post_id)})'\n",
        "\n",
        "@app.route('/price/<float:price>')\n",
        "def show_price(price):\n",
        "    # Only matches floats\n",
        "    return f'Price: {price:.2f}'"
      ],
      "metadata": {
        "id": "2_vDNFi9eg7I"
      },
      "execution_count": null,
      "outputs": []
    },
    {
      "cell_type": "markdown",
      "source": [
        "**3. Multiple Parameters**"
      ],
      "metadata": {
        "id": "NobeYGZqei0o"
      }
    },
    {
      "cell_type": "code",
      "source": [
        "@app.route('/product/<category>/<int:product_id>')\n",
        "def show_product(category, product_id):\n",
        "    return f'Category: {category}, Product ID: {product_id}'"
      ],
      "metadata": {
        "id": "kh-PuE_Bek3M"
      },
      "execution_count": null,
      "outputs": []
    },
    {
      "cell_type": "markdown",
      "source": [
        "**4. Query Parameters (GET parameters)**\n",
        "For URL parameters after ? (like /search?q=flask):"
      ],
      "metadata": {
        "id": "e90bSiMtenGP"
      }
    },
    {
      "cell_type": "code",
      "source": [
        "from flask import request\n",
        "\n",
        "@app.route('/search')\n",
        "def search():\n",
        "    query = request.args.get('q', '')  # Gets 'q' parameter or empty string\n",
        "    page = request.args.get('page', default=1, type=int)\n",
        "    return f'Searching for: {query}, Page: {page}'"
      ],
      "metadata": {
        "id": "hG45JWtheqLl"
      },
      "execution_count": null,
      "outputs": []
    },
    {
      "cell_type": "markdown",
      "source": [
        "**5. Accessing All Parameters**"
      ],
      "metadata": {
        "id": "ZdUN6y0XesD4"
      }
    },
    {
      "cell_type": "code",
      "source": [
        "@app.route('/filter')\n",
        "def filter():\n",
        "    # Get all query parameters as a dictionary\n",
        "    filters = request.args.to_dict()\n",
        "    # Get multiple values for same parameter (like ?color=red&color=blue)\n",
        "    colors = request.args.getlist('color')\n",
        "    return jsonify({'filters': filters, 'colors': colors})"
      ],
      "metadata": {
        "id": "h3EmbUv9euRL"
      },
      "execution_count": null,
      "outputs": []
    },
    {
      "cell_type": "markdown",
      "source": [
        "**6. Using Default Values**"
      ],
      "metadata": {
        "id": "WwL8gR40excE"
      }
    },
    {
      "cell_type": "code",
      "source": [
        "@app.route('/blog/', defaults={'page': 1})\n",
        "@app.route('/blog/page/<int:page>')\n",
        "def blog(page):\n",
        "    return f'Showing blog page {page}'"
      ],
      "metadata": {
        "id": "u7LKCocEezzm"
      },
      "execution_count": null,
      "outputs": []
    }
  ]
}