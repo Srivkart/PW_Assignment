{
  "nbformat": 4,
  "nbformat_minor": 0,
  "metadata": {
    "colab": {
      "provenance": []
    },
    "kernelspec": {
      "name": "python3",
      "display_name": "Python 3"
    },
    "language_info": {
      "name": "python"
    }
  },
  "cells": [
    {
      "cell_type": "markdown",
      "source": [
        "# Theory Questions:\n"
      ],
      "metadata": {
        "id": "TykJ2iCJbDw3"
      }
    },
    {
      "cell_type": "markdown",
      "source": [
        "1. What is Python, and why is it popular?\n",
        "   - **Answer:-** Python is a high-level, interpreted programming language known for its simplicity and readability. It was created by Guido van Rossum and first released in 1991. Python emphasizes code readability with its clean syntax and allows developers to write fewer lines of code.\n",
        "\n",
        "  - **Python is Popular for the Following Reasons are as Follow:-**\n",
        "  - **Easy to Learn and Use:**\n",
        "     Python has a straightforward syntax that closely resembles plain English, making it beginner-friendly.\n",
        "\n",
        "   - **Versatile and General-Purpose:**\n",
        "     Python can be used in many domains like web development, data analysis, machine learning, automation, scientific computing, game development, and more.\n",
        "\n",
        "   - **Massive Libraries and Frameworks:**\n",
        "     Libraries like NumPy, Pandas, TensorFlow, Flask, Django, and many others make development faster and easier.\n",
        "\n",
        "   - **Large Community and Support:**\n",
        "     Python has a huge global community. If you run into a problem, it’s likely someone else has already solved it.\n",
        "\n",
        "  - **Cross-Platform Compatibility:**\n",
        "      Python works on Windows, macOS, Linux, and more, making it easy to develop and run programs across different systems.\n",
        "\n",
        "   - **Used by Big Companies:**\n",
        "      Companies like Google, Facebook, Netflix, and NASA use Python for various purposes, adding to its credibility and demand.\n"
      ],
      "metadata": {
        "id": "osZIJB3jbrhS"
      }
    },
    {
      "cell_type": "markdown",
      "source": [
        "2. What is an interpreter in Python ?\n",
        "   - **Answer:-** An interpreter in Python is the program that reads and executes Python code line by line. Instead of converting the entire program into machine Language (knowns as Machine code) at once like a compiler, the interpreter processes the code one instruction at a time, directly running it.\n",
        "   - **Example:-**\n",
        "       When you run a script like this:\n",
        "     -  python my_script.py\n",
        "  - The python command invokes the Python interpreter, which then runs my_script.py.\n",
        "\n"
      ],
      "metadata": {
        "id": "AnH7PXFdfyxF"
      }
    },
    {
      "cell_type": "markdown",
      "source": [
        "3. What are pre-defined keywords in Python ?\n",
        "   - **Answer -:** Pre-defined keywords in Python are reserved words that have special meanings in the language. You cannot use them as variable names, function names, or identifiers, because they are part of Python's syntax and structure.\n",
        "    - **Example of Python Keywords :-**\n",
        "    - if, else, True, false, for, while, break, continue, return, import, etc.\n",
        "  - Example:-"
      ],
      "metadata": {
        "id": "y6b3csenh1YS"
      }
    },
    {
      "cell_type": "code",
      "source": [
        "\n",
        "      if True:\n",
        "       print(\"This is a keyword example.\")\n",
        "       '''In this case:\n",
        "if is used to create a condition,\n",
        "True is a boolean keyword,\n",
        "print is a built-in function (not a keyword, but still reserved in practice).'''\n"
      ],
      "metadata": {
        "colab": {
          "base_uri": "https://localhost:8080/"
        },
        "id": "z14MDkN7j0_-",
        "outputId": "040ed93b-3c1d-40a3-c76b-c15705059596"
      },
      "execution_count": 9,
      "outputs": [
        {
          "output_type": "stream",
          "name": "stdout",
          "text": [
            "This is a keyword example.\n"
          ]
        }
      ]
    },
    {
      "cell_type": "markdown",
      "source": [
        "4. Can keywords be used as variable names?\n",
        "   - **Answer:-**  No, keywords cannot be used as variable names in Python.\n",
        "      They are reserved by the language for specific purposes, such as controlling flow (if, while), defining functions (def), or working with data (True, None, etc.). Trying to use a keyword as a variable name will cause a syntax error.\n",
        "      - **Example with the code are as Follow:-**"
      ],
      "metadata": {
        "id": "SrjY_Lk3krw9"
      }
    },
    {
      "cell_type": "code",
      "source": [
        "if = 10  #This will raise a SyntaxError\n",
        "          #Example with Syntax Error\n"
      ],
      "metadata": {
        "colab": {
          "base_uri": "https://localhost:8080/",
          "height": 106
        },
        "id": "JzwM1dDRmJqV",
        "outputId": "2af48188-c9ba-4171-b818-1c991f0cf6ea"
      },
      "execution_count": 10,
      "outputs": [
        {
          "output_type": "error",
          "ename": "SyntaxError",
          "evalue": "invalid syntax (<ipython-input-10-9e47de3ef71c>, line 1)",
          "traceback": [
            "\u001b[0;36m  File \u001b[0;32m\"<ipython-input-10-9e47de3ef71c>\"\u001b[0;36m, line \u001b[0;32m1\u001b[0m\n\u001b[0;31m    if = 10  #This will raise a SyntaxError\u001b[0m\n\u001b[0m       ^\u001b[0m\n\u001b[0;31mSyntaxError\u001b[0m\u001b[0;31m:\u001b[0m invalid syntax\n"
          ]
        }
      ]
    },
    {
      "cell_type": "code",
      "source": [
        "number = 10  #This is fine\n",
        "             #Example with right syntax\n"
      ],
      "metadata": {
        "id": "NQckQ07KmXNH"
      },
      "execution_count": 12,
      "outputs": []
    },
    {
      "cell_type": "markdown",
      "source": [
        "5. What is mutability in Python?\n",
        "  - **Answer:-** Mutability in Python refers to whether an objects value can be changed after it is created.\n",
        "   -  **Example of Mutable**:- list, dict, set, bytearray.\n",
        "   - **Example of Immutable**:- int, float, str, tuple, bool, frozenset."
      ],
      "metadata": {
        "id": "V9Ce_xC9ohd1"
      }
    },
    {
      "cell_type": "markdown",
      "source": [
        "6. Why are lists mutable, but tuples are immutable?\n",
        "   - Answer:- Lists are mutable, and tuples are immutable in Python due to their intended use cases and design philosophy.\n",
        "- **Why Lists Are Mutable:**:-\n",
        "  - **Use case**: Lists are designed to hold a collection of items that can change—like growing, shrinking, or being updated.\n",
        " - **Design choice**: Making lists mutable allows Python to efficiently manage dynamic data, such as when you're collecting items in a loop or modifying content.\n",
        "- **Why Tuples Are Immutable:**\n",
        " - **Safer:** You can't accidentally modify a tuple.\n",
        "\n",
        " - **Hashable:** Tuples can be dictionary keys or set elements (lists can’t).\n",
        "\n",
        " - **Faster:** Slightly more memory-efficient and faster than lists.\n",
        "\n",
        "\n"
      ],
      "metadata": {
        "id": "clgyS2OzmvOu"
      }
    },
    {
      "cell_type": "code",
      "source": [
        "fruits = ['apple', 'banana']\n",
        "fruits.append('cherry')  # Allowed\n",
        "fruits[0] = 'orange'     # Allowed\n",
        "                         # The above is an Example of List.\n"
      ],
      "metadata": {
        "id": "Tn0o5aiojpAe"
      },
      "execution_count": 15,
      "outputs": []
    },
    {
      "cell_type": "code",
      "source": [
        "point = (3, 4)\n",
        "point[0] = 7  #TypeError: 'tuple' object does not support item assignment\n",
        "# The Above is an Example of Tuples"
      ],
      "metadata": {
        "colab": {
          "base_uri": "https://localhost:8080/",
          "height": 176
        },
        "id": "vcys23keh0cr",
        "outputId": "35b22d83-76d1-4ea2-b0ae-fc770ba05e99"
      },
      "execution_count": 14,
      "outputs": [
        {
          "output_type": "error",
          "ename": "TypeError",
          "evalue": "'tuple' object does not support item assignment",
          "traceback": [
            "\u001b[0;31m---------------------------------------------------------------------------\u001b[0m",
            "\u001b[0;31mTypeError\u001b[0m                                 Traceback (most recent call last)",
            "\u001b[0;32m<ipython-input-14-7670769eae97>\u001b[0m in \u001b[0;36m<cell line: 0>\u001b[0;34m()\u001b[0m\n\u001b[1;32m      1\u001b[0m \u001b[0mpoint\u001b[0m \u001b[0;34m=\u001b[0m \u001b[0;34m(\u001b[0m\u001b[0;36m3\u001b[0m\u001b[0;34m,\u001b[0m \u001b[0;36m4\u001b[0m\u001b[0;34m)\u001b[0m\u001b[0;34m\u001b[0m\u001b[0;34m\u001b[0m\u001b[0m\n\u001b[0;32m----> 2\u001b[0;31m \u001b[0mpoint\u001b[0m\u001b[0;34m[\u001b[0m\u001b[0;36m0\u001b[0m\u001b[0;34m]\u001b[0m \u001b[0;34m=\u001b[0m \u001b[0;36m7\u001b[0m  \u001b[0;31m#TypeError: 'tuple' object does not support item assignment\u001b[0m\u001b[0;34m\u001b[0m\u001b[0;34m\u001b[0m\u001b[0m\n\u001b[0m\u001b[1;32m      3\u001b[0m \u001b[0;31m#The Above is an Example of Tuples\u001b[0m\u001b[0;34m\u001b[0m\u001b[0;34m\u001b[0m\u001b[0m\n",
            "\u001b[0;31mTypeError\u001b[0m: 'tuple' object does not support item assignment"
          ]
        }
      ]
    },
    {
      "cell_type": "markdown",
      "source": [
        "7. What is the difference between “==” and “is” operators in Python?\n",
        "   - **Answer-:** In Python, **==** and **is** are not the same — they check for different types of equalityies.\n",
        "- **==  (Equality Operator):-**\n",
        "  - Checks if values are equal\n",
        "  - Compares the contents of two objects\n",
        "- **is (Identity Operator):-**\n",
        "  - Checks if both variables point to the same object in memory\n",
        "  - Compares the object identity (memory location)\n",
        "  "
      ],
      "metadata": {
        "id": "19BgC3Vjt7QX"
      }
    },
    {
      "cell_type": "markdown",
      "source": [
        "8. What are logical operators in Python?\n",
        " - Answer:- Logical operators in Python are used to combine or manipulate Boolean values (True and False) in expressions. They help control the flow of a program, especially in conditions like if statements.\n",
        " - Logical operators are especially useful in if statements, loops, and validations where multiple conditions must be considered.\n",
        "- **The Given Below is an example of Logical Operator Pyhton Code.**\n",
        ""
      ],
      "metadata": {
        "id": "qLzi4_JIwDs-"
      }
    },
    {
      "cell_type": "code",
      "source": [
        "x = 5\n",
        "\n",
        "# AND: both conditions must be True\n",
        "print(x > 2 and x < 10)   # True\n",
        "\n",
        "# OR: only one condition needs to be True\n",
        "print(x < 2 or x < 10)    # True\n",
        "\n",
        "# NOT: reverses the result\n",
        "print(not(x > 2))         # False\n"
      ],
      "metadata": {
        "colab": {
          "base_uri": "https://localhost:8080/"
        },
        "id": "4c8-RphYyFhB",
        "outputId": "11369521-ba59-4da4-8433-d6a1ee23c60d"
      },
      "execution_count": 16,
      "outputs": [
        {
          "output_type": "stream",
          "name": "stdout",
          "text": [
            "True\n",
            "True\n",
            "False\n"
          ]
        }
      ]
    },
    {
      "cell_type": "markdown",
      "source": [
        "9. What is type casting in Python ?\n",
        "   - **Answer:-** Type casting in Python means converting a value from one data type to another, such as turning a string into an integer, or a float into a string.\n",
        "  - **Two Main Types of Casting:**\n",
        "  - 1.IMPLICIT CASTING\n",
        "  - 2.EXPLICIT CASTING\n"
      ],
      "metadata": {
        "id": "fvlwL_eeyzga"
      }
    },
    {
      "cell_type": "markdown",
      "source": [
        "10. What is the difference between implicit and explicit type casting ?\n",
        "\n",
        "- **Implicit Type Casting**\n",
        "\n",
        " - Done by Python automatically\n",
        "\n",
        " - Happens when mixing types in an operation"
      ],
      "metadata": {
        "id": "nfMlPjE95ji6"
      }
    },
    {
      "cell_type": "code",
      "source": [
        "# EXAMPLE OF IMPLICIT CASTING.\n",
        "a = 5       # int\n",
        "b = 2.0     # float\n",
        "result = a + b\n",
        "print(result)        # 7.0 (float)\n",
        "print(type(result))  # <class 'float'>\n"
      ],
      "metadata": {
        "colab": {
          "base_uri": "https://localhost:8080/"
        },
        "id": "TLWaBKYk0Ohl",
        "outputId": "55753e9b-26e3-46e8-e091-13ffea9ea7ee"
      },
      "execution_count": 17,
      "outputs": [
        {
          "output_type": "stream",
          "name": "stdout",
          "text": [
            "7.0\n",
            "<class 'float'>\n"
          ]
        }
      ]
    },
    {
      "cell_type": "markdown",
      "source": [
        "- **Explicit Type Casting**\n",
        " - You manually convert one type to another using built-in functions"
      ],
      "metadata": {
        "id": "VPqvGjJQzOoI"
      }
    },
    {
      "cell_type": "code",
      "source": [
        "# EXAMPLE OF EXPILICIT CASTING\n",
        "x = \"10\"\n",
        "y = int(x)     # Convert string to int\n",
        "print(y + 5)   # Output: 15\n"
      ],
      "metadata": {
        "id": "0uhXaman01TN"
      },
      "execution_count": null,
      "outputs": []
    },
    {
      "cell_type": "markdown",
      "source": [
        "11. What is the purpose of conditional statements in Python ?\n",
        "  - **Answer** -: Conditional statements in Python are used to make decisions in your code. They allow your program to execute certain blocks of code only when specific conditions are met, enabling dynamic and responsive behavior.\n",
        "- **Why we Use Them**\n",
        "  - To control the flow of your program\n",
        "  - To perform different actions based on different inputs or states\n",
        "  - To add logic and decision-making to your scripts\n",
        "\n",
        "- **Common Conditional Statements**:\n",
        " - if – Runs a block if the condition is True\n",
        "\n",
        " - elif (else if) – Checks another condition if the first is False\n",
        "\n",
        " - else – Runs if no above conditions are True\n",
        "\n",
        "\n",
        "\n"
      ],
      "metadata": {
        "id": "44K9U2_h6dom"
      }
    },
    {
      "cell_type": "markdown",
      "source": [
        "12. How does the elif statement work ?\n",
        "- Answer:- The elif statement in Python stands for “else if”, and it lets you check multiple conditions after an initial if.\n",
        "  - **How elif Works:-**\n",
        "  \n",
        "  - It only runs if the previous if (or another elif) is False.\n",
        "  - You can have as many elif blocks as you want.\n",
        "  - The first condition that is True will run, and the rest are skipped."
      ],
      "metadata": {
        "id": "YGuXq2Y87iw_"
      }
    },
    {
      "cell_type": "markdown",
      "source": [
        "13. What is the difference between for and while loops ?\n",
        " - **Answer:-** The difference between for and while loops in Python comes down to how and when they repeat code.\n",
        " - for Loop – Used When You Know How Many Times to Loop\n",
        " - Loops over a sequence (like a list, string, or range)\n",
        " - Best for fixed iterations"
      ],
      "metadata": {
        "id": "pney38fl8VyZ"
      }
    },
    {
      "cell_type": "code",
      "execution_count": 20,
      "metadata": {
        "colab": {
          "base_uri": "https://localhost:8080/"
        },
        "id": "0rI4za7Haa47",
        "outputId": "7c7bf4f9-f5a3-4de0-985a-f2d0aa3bc0c0"
      },
      "outputs": [
        {
          "output_type": "stream",
          "name": "stdout",
          "text": [
            "0\n",
            "1\n",
            "2\n",
            "3\n",
            "4\n"
          ]
        }
      ],
      "source": [
        "#EXAMPLE OF FOR LOOP\n",
        "for i in range(5):\n",
        "    print(i)\n",
        "\n",
        "\n"
      ]
    },
    {
      "cell_type": "markdown",
      "source": [
        "The above code prints 0 to 4 — loops 5 times"
      ],
      "metadata": {
        "id": "KCDPhrzPA9Wf"
      }
    },
    {
      "cell_type": "markdown",
      "source": [
        "  - **while Loop:-**   Used When You Do not Know How Many Times to Loop\n",
        "  - Loops as long as a condition is True\n",
        "  - Best for unknown or variable-length loops"
      ],
      "metadata": {
        "id": "p6dJA5c6BHps"
      }
    },
    {
      "cell_type": "code",
      "source": [
        "#THE GIVEN BELOW CODE IS AN EXAMPLE OF WHILE CODE\n",
        "x = 0\n",
        "while x < 5:\n",
        "    print(x)\n",
        "    x += 1\n"
      ],
      "metadata": {
        "id": "Ea9-jwQ0COeB"
      },
      "execution_count": null,
      "outputs": []
    },
    {
      "cell_type": "markdown",
      "source": [
        "Also prints 0 to 4 — but based on a condition, not a fixed range"
      ],
      "metadata": {
        "id": "tQ-pEeL1CNHz"
      }
    },
    {
      "cell_type": "markdown",
      "source": [
        "14. Describe a scenario where a while loop is more suitable than a for loop.\n",
        " - **Answer:-** A while loop is more suitable than a for loop when you don't know in advance how many iterations you need to perform, and instead, you are looping based on a condition that could vary dynamically during the loop.\n",
        "\n",
        " **Scenario: User Input Validation**\n",
        "\n",
        "  Let's say you want to prompt the user to enter a valid password. The user can enter the password any number of times, but the loop should continue until the correct password is entered. This is an ideal use case for a while loop because the number of attempts is unknown, and the loop runs as long as a condition (correct password) is not met.\n",
        "  "
      ],
      "metadata": {
        "id": "R0Yyj0FhCiM6"
      }
    },
    {
      "cell_type": "code",
      "source": [
        "correct_password = \"secure123\"\n",
        "user_input = \"\"\n",
        "\n",
        "while user_input != correct_password:\n",
        "    user_input = input(\"Please enter your password: \")\n",
        "    if user_input != correct_password:\n",
        "        print(\"Incorrect password, try again.\")\n",
        "\n",
        "print(\"Access granted!\")\n"
      ],
      "metadata": {
        "id": "xei-_LelDZSr"
      },
      "execution_count": null,
      "outputs": []
    },
    {
      "cell_type": "markdown",
      "source": [
        "**Why while is Suitable:**\n",
        "\n",
        "Unknown number of attempts: The user could enter the password any number of times before getting it right. The loop continues until the correct password is entered, making the number of iterations dynamic.\n",
        "The loop doesn't know in advance how many times the user will try.\n",
        "\n"
      ],
      "metadata": {
        "id": "YSfWfgIWDany"
      }
    },
    {
      "cell_type": "markdown",
      "source": [
        "# PRACTICAL QUESTIONS"
      ],
      "metadata": {
        "id": "ECFud0svDkbk"
      }
    },
    {
      "cell_type": "markdown",
      "source": [
        "1. Write a Python program to print \"Hello, World!y"
      ],
      "metadata": {
        "id": "vZcet5goMG2T"
      }
    },
    {
      "cell_type": "code",
      "source": [
        "# This is a basic Python program\n",
        "print(\"Hello, World!\")\n"
      ],
      "metadata": {
        "id": "9sBgN1IbMJv2"
      },
      "execution_count": null,
      "outputs": []
    },
    {
      "cell_type": "markdown",
      "source": [
        "2. Write a Python program that displays your name and age\n"
      ],
      "metadata": {
        "id": "UzZCmIxlMPq5"
      }
    },
    {
      "cell_type": "code",
      "source": [
        "# Display name and age\n",
        "name = \"Pranjul Singh\"\n",
        "age = 25\n",
        "\n",
        "print(\"My name is\", name)\n",
        "print(\"I am\", age, \"years old\")\n"
      ],
      "metadata": {
        "colab": {
          "base_uri": "https://localhost:8080/"
        },
        "id": "srmwSrgzMVlB",
        "outputId": "64d911ec-20fd-42d2-fdd3-9409bed1d962"
      },
      "execution_count": 21,
      "outputs": [
        {
          "output_type": "stream",
          "name": "stdout",
          "text": [
            "My name is Pranjul Singh\n",
            "I am 25 years old\n"
          ]
        }
      ]
    },
    {
      "cell_type": "markdown",
      "source": [
        "3. Write code to print all the pre-defined keywords in Python using the keyword library"
      ],
      "metadata": {
        "id": "VT44wIgoMxZ_"
      }
    },
    {
      "cell_type": "code",
      "source": [
        "import keyword\n",
        "\n",
        "# Get the list of all keywords\n",
        "keywords = keyword.kwlist\n",
        "\n",
        "# Print the keywords\n",
        "print(\"Python Keywords:\")\n",
        "for kw in keywords:\n",
        "    print(kw)\n"
      ],
      "metadata": {
        "colab": {
          "base_uri": "https://localhost:8080/"
        },
        "id": "qlbDCYnKM0sK",
        "outputId": "cc700007-2ad0-41e6-8e82-c7f0c5ee3c83"
      },
      "execution_count": 22,
      "outputs": [
        {
          "output_type": "stream",
          "name": "stdout",
          "text": [
            "Python Keywords:\n",
            "False\n",
            "None\n",
            "True\n",
            "and\n",
            "as\n",
            "assert\n",
            "async\n",
            "await\n",
            "break\n",
            "class\n",
            "continue\n",
            "def\n",
            "del\n",
            "elif\n",
            "else\n",
            "except\n",
            "finally\n",
            "for\n",
            "from\n",
            "global\n",
            "if\n",
            "import\n",
            "in\n",
            "is\n",
            "lambda\n",
            "nonlocal\n",
            "not\n",
            "or\n",
            "pass\n",
            "raise\n",
            "return\n",
            "try\n",
            "while\n",
            "with\n",
            "yield\n"
          ]
        }
      ]
    },
    {
      "cell_type": "markdown",
      "source": [
        "4. Write a program that checks if a given word is a Python keyword."
      ],
      "metadata": {
        "id": "ngls6RiFNJqV"
      }
    },
    {
      "cell_type": "code",
      "source": [
        "import keyword\n",
        "\n",
        "# Get input from the user\n",
        "word = input(\"Enter a word to check: \")\n",
        "\n",
        "# Check if it's a Python keyword\n",
        "if keyword.iskeyword(word):\n",
        "    print(f\"'{word}' is a Python keyword.\")\n",
        "else:\n",
        "    print(f\"'{word}' is NOT a Python keyword.\")\n"
      ],
      "metadata": {
        "colab": {
          "base_uri": "https://localhost:8080/"
        },
        "id": "IhTJIs3SNVWN",
        "outputId": "a94d015e-c890-48c5-bfb8-1d69284194d5"
      },
      "execution_count": 43,
      "outputs": [
        {
          "output_type": "stream",
          "name": "stdout",
          "text": [
            "Enter a word to check: else\n",
            "'else' is a Python keyword.\n"
          ]
        }
      ]
    },
    {
      "cell_type": "markdown",
      "source": [
        "5.Create a list and tuple in Python, and demonstrate how attempting to change an element works differently  for each.\n"
      ],
      "metadata": {
        "id": "qGacAhG8NYmE"
      }
    },
    {
      "cell_type": "code",
      "source": [
        "# Create a list and a tuple\n",
        "my_list = [10, 20, 30]\n",
        "my_tuple = (10, 20, 30)\n",
        "\n",
        "# Modify the first element of the list\n",
        "print(\"Original list:\", my_list)\n",
        "my_list[0] = 99\n",
        "print(\"Modified list:\", my_list)\n",
        "\n",
        "# Attempt to modify the first element of the tuple\n",
        "print(\"Original tuple:\", my_tuple)\n",
        "try:\n",
        "    my_tuple[0] = 99  # This will raise a TypeError\n",
        "except TypeError as e:\n",
        "    print(\"Error:\", e)\n"
      ],
      "metadata": {
        "colab": {
          "base_uri": "https://localhost:8080/"
        },
        "id": "nlt1rDQENjeX",
        "outputId": "d79ba91d-7a42-40ee-c1ac-afedc096015f"
      },
      "execution_count": 37,
      "outputs": [
        {
          "output_type": "stream",
          "name": "stdout",
          "text": [
            "Original list: [10, 20, 30]\n",
            "Modified list: [99, 20, 30]\n",
            "Original tuple: (10, 20, 30)\n",
            "Error: 'tuple' object does not support item assignment\n"
          ]
        }
      ]
    },
    {
      "cell_type": "markdown",
      "source": [
        "6. Write a function to demonstrate the behavior of mutable and immutable arguments."
      ],
      "metadata": {
        "id": "R7XNTErqNpEu"
      }
    },
    {
      "cell_type": "code",
      "source": [
        "\n",
        "def modify_arguments(mutable_arg, immutable_arg):\n",
        "    # Modify mutable argument (list)\n",
        "    mutable_arg.append(4)\n",
        "    print(\"Inside function, after modifying mutable_arg:\", mutable_arg)\n",
        "\n",
        "    # Try modifying immutable argument (integer)\n",
        "    immutable_arg += 10\n",
        "    print(\"Inside function, after modifying immutable_arg:\", immutable_arg)\n",
        "\n",
        "# Outside function\n",
        "mutable_list = [1, 2, 3]  # mutable argument (list)\n",
        "immutable_int = 5         # immutable argument (integer)\n",
        "\n",
        "print(\"Before function call:\")\n",
        "print(\"mutable_list:\", mutable_list)\n",
        "print(\"immutable_int:\", immutable_int)\n",
        "\n",
        "# Call the function\n",
        "modify_arguments(mutable_list, immutable_int)\n",
        "\n",
        "# After function call\n",
        "print(\"\\nAfter function call:\")\n",
        "print(\"mutable_list:\", mutable_list)  # This will be modified\n",
        "print(\"immutable_int:\", immutable_int)  # This will remain unchanged\n",
        "\n"
      ],
      "metadata": {
        "colab": {
          "base_uri": "https://localhost:8080/"
        },
        "id": "4D_rnVPoNthR",
        "outputId": "01b2cb97-8576-420f-851a-14823ef59bdf"
      },
      "execution_count": 36,
      "outputs": [
        {
          "output_type": "stream",
          "name": "stdout",
          "text": [
            "Before function call:\n",
            "mutable_list: [1, 2, 3]\n",
            "immutable_int: 5\n",
            "Inside function, after modifying mutable_arg: [1, 2, 3, 4]\n",
            "Inside function, after modifying immutable_arg: 15\n",
            "\n",
            "After function call:\n",
            "mutable_list: [1, 2, 3, 4]\n",
            "immutable_int: 5\n"
          ]
        }
      ]
    },
    {
      "cell_type": "markdown",
      "source": [
        "7.  Write a program that performs basic arithmetic operations on two user-input numbers."
      ],
      "metadata": {
        "id": "WU5l4p89N0Pc"
      }
    },
    {
      "cell_type": "code",
      "source": [
        "# Get input from the user\n",
        "num1 = float(input(\"Enter the first number: \"))\n",
        "num2 = float(input(\"Enter the second number: \"))\n",
        "\n",
        "# Perform arithmetic operations\n",
        "print(\"\\nResults:\")\n",
        "print(f\"Addition: {num1} + {num2} = {num1 + num2}\")\n",
        "print(f\"Subtraction: {num1} - {num2} = {num1 - num2}\")\n",
        "print(f\"Multiplication: {num1} * {num2} = {num1 * num2}\")\n",
        "\n",
        "# Handle division and modulus safely\n",
        "if num2 != 0:\n",
        "    print(f\"Division: {num1} / {num2} = {num1 / num2}\")\n",
        "    print(f\"Modulus: {num1} % {num2} = {num1 % num2}\")\n",
        "else:\n",
        "    print(\"Division and modulus not possible (division by zero).\")\n"
      ],
      "metadata": {
        "colab": {
          "base_uri": "https://localhost:8080/"
        },
        "id": "0djoUnaAOFwX",
        "outputId": "b068c583-97b3-4c2c-8568-7a379cfdde23"
      },
      "execution_count": 34,
      "outputs": [
        {
          "output_type": "stream",
          "name": "stdout",
          "text": [
            "Enter the first number: 23\n",
            "Enter the second number: 45\n",
            "\n",
            "Results:\n",
            "Addition: 23.0 + 45.0 = 68.0\n",
            "Subtraction: 23.0 - 45.0 = -22.0\n",
            "Multiplication: 23.0 * 45.0 = 1035.0\n",
            "Division: 23.0 / 45.0 = 0.5111111111111111\n",
            "Modulus: 23.0 % 45.0 = 23.0\n"
          ]
        }
      ]
    },
    {
      "cell_type": "markdown",
      "source": [
        "8. Write a program to demonstrate the use of logical operators.\n"
      ],
      "metadata": {
        "id": "nM1zhmVMOHBu"
      }
    },
    {
      "cell_type": "code",
      "source": [
        "# Get user input\n",
        "age = int(input(\"Enter your age: \"))\n",
        "has_ticket = input(\"Do you have a ticket? (yes/no): \").lower()\n",
        "\n",
        "# Logical operators demonstration\n",
        "print(\"\\nLogical Operators Demo:\")\n",
        "\n",
        "# Using 'and'\n",
        "if age >= 18 and has_ticket == \"yes\":\n",
        "    print(\"You are allowed to enter the event.\")\n",
        "else:\n",
        "    print(\"Access denied (you must be 18+ and have a ticket).\")\n",
        "\n",
        "# Using 'or'\n",
        "if age < 18 or has_ticket == \"no\":\n",
        "    print(\"Warning: Either you are underage or you don't have a ticket.\")\n",
        "\n",
        "# Using 'not'\n",
        "if not (has_ticket == \"yes\"):\n",
        "    print(\"You need to buy a ticket.\")\n"
      ],
      "metadata": {
        "colab": {
          "base_uri": "https://localhost:8080/"
        },
        "id": "VrBrGXX_PIgU",
        "outputId": "0935dc2a-5994-4edd-bcf2-a52e2a4685ec"
      },
      "execution_count": 33,
      "outputs": [
        {
          "output_type": "stream",
          "name": "stdout",
          "text": [
            "Enter your age: 55\n",
            "Do you have a ticket? (yes/no): yes\n",
            "\n",
            "Logical Operators Demo:\n",
            "You are allowed to enter the event.\n"
          ]
        }
      ]
    },
    {
      "cell_type": "markdown",
      "source": [
        "9. Write a Python program to convert user input from string to integer, float, and boolean types."
      ],
      "metadata": {
        "id": "sTPc0i4ZPJ0-"
      }
    },
    {
      "cell_type": "code",
      "source": [
        "# Get user input as a string\n",
        "user_input = input(\"Enter a value: \")\n",
        "\n",
        "# Convert to integer\n",
        "try:\n",
        "    int_value = int(user_input)\n",
        "    print(\"Integer value:\", int_value)\n",
        "except ValueError:\n",
        "    print(\"Cannot convert to integer.\")\n",
        "\n",
        "# Convert to float\n",
        "try:\n",
        "    float_value = float(user_input)\n",
        "    print(\"Float value:\", float_value)\n",
        "except ValueError:\n",
        "    print(\"Cannot convert to float.\")\n",
        "\n",
        "# Convert to boolean\n",
        "# An empty string is considered False, otherwise True\n",
        "bool_value = user_input.strip().lower() not in [\"\", \"false\", \"0\", \"none\"]\n",
        "print(\"Boolean value:\", bool_value)\n"
      ],
      "metadata": {
        "colab": {
          "base_uri": "https://localhost:8080/"
        },
        "id": "7dId1ei7PPfo",
        "outputId": "7d81b367-49b4-4250-c709-3bd70f3e6f71"
      },
      "execution_count": 25,
      "outputs": [
        {
          "output_type": "stream",
          "name": "stdout",
          "text": [
            "Enter a value: 12\n",
            "Integer value: 12\n",
            "Float value: 12.0\n",
            "Boolean value: True\n"
          ]
        }
      ]
    },
    {
      "cell_type": "markdown",
      "source": [
        "10. Write code to demonstrate type casting with list elements."
      ],
      "metadata": {
        "id": "migi95oYPiRW"
      }
    },
    {
      "cell_type": "code",
      "source": [
        "# Original list of string numbers\n",
        "str_list = [\"10\", \"20\", \"30\", \"40\"]\n",
        "\n",
        "print(\"Original list (strings):\", str_list)\n",
        "\n",
        "# Convert each string to an integer\n",
        "int_list = [int(x) for x in str_list]\n",
        "print(\"Converted to integers:\", int_list)\n",
        "\n",
        "# Convert each string to a float\n",
        "float_list = [float(x) for x in str_list]\n",
        "print(\"Converted to floats:\", float_list)\n",
        "\n",
        "# Convert each string to boolean\n",
        "bool_list = [bool(x) for x in str_list]\n",
        "print(\"Converted to booleans:\", bool_list)\n"
      ],
      "metadata": {
        "colab": {
          "base_uri": "https://localhost:8080/"
        },
        "id": "4ogYF1RWPlLR",
        "outputId": "c4356956-cd25-44e3-cee1-4d092e50030f"
      },
      "execution_count": 23,
      "outputs": [
        {
          "output_type": "stream",
          "name": "stdout",
          "text": [
            "Original list (strings): ['10', '20', '30', '40']\n",
            "Converted to integers: [10, 20, 30, 40]\n",
            "Converted to floats: [10.0, 20.0, 30.0, 40.0]\n",
            "Converted to booleans: [True, True, True, True]\n"
          ]
        }
      ]
    },
    {
      "cell_type": "markdown",
      "source": [
        "11. Write a program that checks if a number is positive, negative, or zero."
      ],
      "metadata": {
        "id": "kki-CKKRP2Wy"
      }
    },
    {
      "cell_type": "code",
      "source": [
        "# Get input from the user\n",
        "num = float(input(\"Enter a number: \"))\n",
        "\n",
        "# Check if the number is positive, negative, or zero\n",
        "if num > 0:\n",
        "    print(\"The number is positive.\")\n",
        "elif num < 0:\n",
        "    print(\"The number is negative.\")\n",
        "else:\n",
        "    print(\"The number is zero.\")\n"
      ],
      "metadata": {
        "colab": {
          "base_uri": "https://localhost:8080/"
        },
        "id": "jDOKnB22P_ra",
        "outputId": "f9f5f798-4781-4a9f-c584-970dceafe380"
      },
      "execution_count": 27,
      "outputs": [
        {
          "output_type": "stream",
          "name": "stdout",
          "text": [
            "Enter a number: -12\n",
            "The number is negative.\n"
          ]
        }
      ]
    },
    {
      "cell_type": "markdown",
      "source": [
        "12. Write a for loop to print numbers from 1 to 10."
      ],
      "metadata": {
        "id": "qpmcBzynQEfb"
      }
    },
    {
      "cell_type": "code",
      "source": [
        "# Using a for loop to print numbers from 1 to 10\n",
        "for i in range(1, 11):\n",
        "    print(i)\n"
      ],
      "metadata": {
        "colab": {
          "base_uri": "https://localhost:8080/"
        },
        "id": "xjmicNrZQGqy",
        "outputId": "d1d18910-62fa-4293-ae29-2a413b13988e"
      },
      "execution_count": 28,
      "outputs": [
        {
          "output_type": "stream",
          "name": "stdout",
          "text": [
            "1\n",
            "2\n",
            "3\n",
            "4\n",
            "5\n",
            "6\n",
            "7\n",
            "8\n",
            "9\n",
            "10\n"
          ]
        }
      ]
    },
    {
      "cell_type": "markdown",
      "source": [
        "13.  Write a Python program to find the sum of all even numbers between 1 and 50."
      ],
      "metadata": {
        "id": "mmaGUiP1QM4V"
      }
    },
    {
      "cell_type": "code",
      "source": [
        "# Initialize sum variable\n",
        "even_sum = 0\n",
        "\n",
        "# Loop through numbers from 1 to 50\n",
        "for i in range(1, 51):\n",
        "    if i % 2 == 0:  # Check if the number is even\n",
        "        even_sum += i  # Add the even number to the sum\n",
        "\n",
        "# Output the result\n",
        "print(\"Sum of all even numbers between 1 and 50 is:\", even_sum)\n"
      ],
      "metadata": {
        "colab": {
          "base_uri": "https://localhost:8080/"
        },
        "id": "gQbkDePqQQ5Y",
        "outputId": "f4384592-29f4-4dbc-a16c-eeea25d9e2a4"
      },
      "execution_count": 29,
      "outputs": [
        {
          "output_type": "stream",
          "name": "stdout",
          "text": [
            "Sum of all even numbers between 1 and 50 is: 650\n"
          ]
        }
      ]
    },
    {
      "cell_type": "markdown",
      "source": [
        "14. Write a program to reverse a string using a while loop."
      ],
      "metadata": {
        "id": "Fi_ZDqmJQcJu"
      }
    },
    {
      "cell_type": "code",
      "source": [
        "# Get input from the user\n",
        "input_string = input(\"Enter a string: \")\n",
        "\n",
        "# Initialize an empty string to store the reversed string\n",
        "reversed_string = \"\"\n",
        "\n",
        "# Initialize a counter for the string's index\n",
        "index = len(input_string) - 1\n",
        "\n",
        "# Use a while loop to reverse the string\n",
        "while index >= 0:\n",
        "    reversed_string += input_string[index]\n",
        "    index -= 1\n",
        "\n",
        "# Output the reversed string\n",
        "print(\"Reversed string:\", reversed_string)\n"
      ],
      "metadata": {
        "colab": {
          "base_uri": "https://localhost:8080/"
        },
        "id": "sG8a64oSQg-M",
        "outputId": "a8ff3f50-e4d0-4468-a34c-8173ad3eed8e"
      },
      "execution_count": 30,
      "outputs": [
        {
          "output_type": "stream",
          "name": "stdout",
          "text": [
            "Enter a string: pranjul\n",
            "Reversed string: lujnarp\n"
          ]
        }
      ]
    },
    {
      "cell_type": "markdown",
      "source": [
        "15. Write a Python program to calculate the factorial of a number provided by the user using a while loop"
      ],
      "metadata": {
        "id": "cp-6zl0BQnLp"
      }
    },
    {
      "cell_type": "code",
      "source": [
        "# Get input from the user\n",
        "num = int(input(\"Enter a number to find its factorial: \"))\n",
        "\n",
        "# Initialize the factorial variable\n",
        "factorial = 1\n",
        "\n",
        "# Ensure the number is non-negative\n",
        "if num < 0:\n",
        "    print(\"Factorial does not exist for negative numbers.\")\n",
        "else:\n",
        "    # Use a while loop to calculate factorial\n",
        "    while num > 0:\n",
        "        factorial *= num\n",
        "        num -= 1  # Decrement the number\n",
        "\n",
        "    # Output the result\n",
        "    print(\"Factorial is:\", factorial)\n"
      ],
      "metadata": {
        "colab": {
          "base_uri": "https://localhost:8080/"
        },
        "id": "BdinVzBlQpjw",
        "outputId": "daa510fb-8fb9-46e5-eef4-da06ff697454"
      },
      "execution_count": 31,
      "outputs": [
        {
          "output_type": "stream",
          "name": "stdout",
          "text": [
            "Enter a number to find its factorial: 87\n",
            "Factorial is: 2107757298379527717213600518699389595229783738061356212322972511214654115727593174080683423236414793504734471782400000000000000000000\n"
          ]
        }
      ]
    }
  ]
}