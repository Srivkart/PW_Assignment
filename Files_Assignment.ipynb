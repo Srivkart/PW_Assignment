{
  "nbformat": 4,
  "nbformat_minor": 0,
  "metadata": {
    "colab": {
      "provenance": []
    },
    "kernelspec": {
      "name": "python3",
      "display_name": "Python 3"
    },
    "language_info": {
      "name": "python"
    }
  },
  "cells": [
    {
      "cell_type": "markdown",
      "source": [
        "# Theory Questions"
      ],
      "metadata": {
        "id": "twFr5AVWP3hW"
      }
    },
    {
      "cell_type": "markdown",
      "source": [
        "#Ques1. 1. What is the difference between interpreted and compiled languages?\n",
        "**Ans:** Compiled languages (like C, C++) are translated into machine code before execution using a compiler. Interpreted languages (like Python) are executed line-by-line by an interpreter at runtime, which makes development faster but can reduce performance compared to compiled languages.\n"
      ],
      "metadata": {
        "id": "dPRG22pGP97J"
      }
    },
    {
      "cell_type": "markdown",
      "source": [
        "#Ques2. What is exception handling in Python?\n",
        "\n",
        "**Ans:** Exception handling in Python allows you to handle errors gracefully without crashing the program. It uses blocks like try, except, else, and finally to catch and manage exceptions during code execution.\n"
      ],
      "metadata": {
        "id": "BDiEjcwdQUaK"
      }
    },
    {
      "cell_type": "markdown",
      "source": [
        "#Ques3. What is the purpose of the finally block in exception handling?\n",
        "**Ans:**The finally block is always executed, whether or not an exception occurs. It is typically used for cleanup actions like closing a file or releasing resources.\n"
      ],
      "metadata": {
        "id": "5--wOxylQhpB"
      }
    },
    {
      "cell_type": "markdown",
      "source": [
        "#Ques4. What is logging in Python?\n",
        "**Ans:**Logging in Python is a way to track events that happen during program execution. The logging module allows developers to record messages with different severity levels, such as debug, info, warning, error, and critical.\n"
      ],
      "metadata": {
        "id": "xkUhlLswQrS-"
      }
    },
    {
      "cell_type": "markdown",
      "source": [
        "#Ques5. What is the significance of the __del__ method in Python?\n",
        "**Ans:** The __del__ method is a destructor method called when an object is about to be destroyed. It can be used to release resources, but its use is discouraged because the timing of its call is not guaranteed due to Python’s garbage collection.\n"
      ],
      "metadata": {
        "id": "p1FJu2MXQxGC"
      }
    },
    {
      "cell_type": "markdown",
      "source": [
        "#Ques6. What is the difference between import and from ... import in Python?\n",
        "**Ans:**\n",
        "•\timport module imports the whole module and requires using the module name to access its content.\n",
        "•\tfrom module import function imports specific functions/classes, which you can use directly without prefixing with the module name.\n"
      ],
      "metadata": {
        "id": "OwowQ6izQ6qh"
      }
    },
    {
      "cell_type": "markdown",
      "source": [
        "#Ques7. How can you handle multiple exceptions in Python?\n",
        "**Ans:** You can handle multiple exceptions using a tuple in a single except block or using multiple except blocks for different exception types:\n",
        "python\n",
        "CopyEdit\n",
        "try:\n",
        "    # code\n",
        "except (TypeError, ValueError) as e:\n",
        "    print(e)\n"
      ],
      "metadata": {
        "id": "oxyRlN77RA7H"
      }
    },
    {
      "cell_type": "markdown",
      "source": [
        "#Ques8. What is the purpose of the with statement when handling files in Python?\n",
        "**Ans:** The with statement simplifies file handling by automatically managing resources. It ensures the file is properly closed after its suite finishes, even if an error occurs:\n",
        "python\n",
        "CopyEdit\n",
        "with open('file.txt') as f:\n",
        "    content = f.read()\n"
      ],
      "metadata": {
        "id": "Ds3tVCE5RPkY"
      }
    },
    {
      "cell_type": "markdown",
      "source": [
        "#Ques 9. What is the difference between multithreading and multiprocessing?\n",
        "**Ans:**Multithreading allows multiple threads to run in a single process, sharing memory space. Multiprocessing uses separate memory and CPU processes, making it more effective for CPU-bound tasks. Python's Global Interpreter Lock (GIL) can limit true parallelism in multithreading.\n"
      ],
      "metadata": {
        "id": "7YaZU4R0RUrW"
      }
    },
    {
      "cell_type": "markdown",
      "source": [
        "#Ques 10. What are the advantages of using logging in a program?\n",
        "**Ans:**Logging helps in debugging, monitoring, and maintaining a record of software behavior. Unlike print statements, logs can be categorized by severity, redirected to files, and controlled in production.\n"
      ],
      "metadata": {
        "id": "Emmfng4KRaCQ"
      }
    },
    {
      "cell_type": "markdown",
      "source": [
        "#Ques11. What is memory management in Python?\n",
        "**Ans:** Memory management in Python involves allocation and deallocation of memory automatically using techniques like reference counting and garbage collection. The Python memory manager handles this internally.\n"
      ],
      "metadata": {
        "id": "BsEoAFSfRgG-"
      }
    },
    {
      "cell_type": "markdown",
      "source": [
        "#Ques12. What are the basic steps involved in exception handling in Python?\n",
        "**Ans:**\n",
        "- \tWrap the code that may raise an error in a try block.\n",
        "- Handle specific exceptions using except.\n",
        "- Use else for code that should run if no error occurs.\n",
        "- Use finally for cleanup operations.\n"
      ],
      "metadata": {
        "id": "6ExjD7BBRlC7"
      }
    },
    {
      "cell_type": "markdown",
      "source": [
        "#Ques13. Why is memory management important in Python?\n",
        "**Ans:** memory management ensures optimal use of system resources, prevents memory leaks, and improves performance and stability, especially in large applications.\n"
      ],
      "metadata": {
        "id": "z05JitHQRw7i"
      }
    },
    {
      "cell_type": "markdown",
      "source": [
        "#Ques14. What is the role of try and except in exception handling?\n",
        "**Ans: **The try block contains code that may cause an exception. If an exception occurs, the except block catches and handles it, preventing program crashes and allowing graceful recovery\n"
      ],
      "metadata": {
        "id": "IfEQp3QMR7E5"
      }
    },
    {
      "cell_type": "markdown",
      "source": [
        "#Ques15. How does Python’s garbage collection system work?\n",
        "**Ans:** Python’s garbage collector uses reference counting and a cyclic garbage collector to detect and clean up unused objects automatically, freeing up memory.\n"
      ],
      "metadata": {
        "id": "nM6S-crkR-Wy"
      }
    },
    {
      "cell_type": "markdown",
      "source": [
        "#Ques16. What is the purpose of the else block in exception handling?\n",
        "**Ans:** The else block runs only if no exception was raised in the try block. It's useful for code that should run only when the try block succeeds.\n"
      ],
      "metadata": {
        "id": "BDSzqE3ZSEW8"
      }
    },
    {
      "cell_type": "markdown",
      "source": [
        "#Ques  17. What are the common logging levels in Python?\n",
        "**Ans:**  Python’s logging module provides five levels:\n",
        "-\tDEBUG: Detailed info, for diagnosing problems.\n",
        "-\tINFO: General events.\n",
        "-\tWARNING: Potential problems.\n",
        "-\tERROR: Serious issues.\n",
        "-\tCRITICAL: Severe errors causing program termination.\n"
      ],
      "metadata": {
        "id": "Fk9q20hQSIqQ"
      }
    },
    {
      "cell_type": "markdown",
      "source": [
        "#Ques18. What is the difference between os.fork() and multiprocessing in Python?\n",
        "**Ans:**\n",
        "-\tos.fork() creates a new child process (UNIX only), duplicating the current process.\n",
        "-\tmultiprocessing is a cross-platform module that uses separate processes and provides a higher-level interface for parallel programming.\n"
      ],
      "metadata": {
        "id": "7gHUIqtKSU2b"
      }
    },
    {
      "cell_type": "markdown",
      "source": [
        "#Ques 19. What is the importance of closing a file in Python?\n",
        "**Ans:**Closing a file frees system resources, ensures data is written (in case of write mode), and prevents file corruption. The with statement automates this.\n"
      ],
      "metadata": {
        "id": "aaH7iin6Shm0"
      }
    },
    {
      "cell_type": "markdown",
      "source": [
        "#Ques20. What is the difference between file.read() and file.readline() in Python?\n",
        " **Ans:**\n",
        "-\tfile.read() reads the entire file as a single string.\n",
        "-\tfile.readline() reads one line at a time, which is useful for large files or line-by-line processing.\n"
      ],
      "metadata": {
        "id": "aTHSNIVeSl5d"
      }
    },
    {
      "cell_type": "markdown",
      "source": [
        "#Ques21. What is the logging module in Python used for?\n",
        "**Ans:** The logging module is used to record program events during execution. It helps track runtime behavior, especially errors and warnings, and is more flexible than print().\n"
      ],
      "metadata": {
        "id": "4uXrVl0rSvK4"
      }
    },
    {
      "cell_type": "markdown",
      "source": [
        "#Ques22. What is the os module in Python used for in file handling?\n",
        "**Ans:**The os module provides functions to interact with the operating system. For file handling, it can be used to create/delete directories, rename files, and access file paths.\n"
      ],
      "metadata": {
        "id": "dBQ3eL_jS0Kx"
      }
    },
    {
      "cell_type": "markdown",
      "source": [
        "#Ques23. What are the challenges associated with memory management in Python?\n",
        "**Ans:**\n",
        "Challenges include:\n",
        "•\tManaging circular references.\n",
        "•\tPreventing memory leaks in long-running applications.\n",
        "•\tEfficient use of memory in data-intensive tasks\n"
      ],
      "metadata": {
        "id": "t1rc-kkIS5uI"
      }
    },
    {
      "cell_type": "markdown",
      "source": [
        "#Ques24. How do you raise an exception manually in Python?\n",
        "**Ans:**Use the raise keyword with an exception class:\n",
        "python\n",
        "CopyEdit\n",
        "raise ValueError(\"Invalid input\")\n",
        "This helps enforce validation or custom error reporting.\n"
      ],
      "metadata": {
        "id": "bzPfCYDnTCZA"
      }
    },
    {
      "cell_type": "markdown",
      "source": [
        "#Ques25. Why is it important to use multithreading in certain applications?\n",
        "**Ans:**Multithreading is useful for I/O-bound tasks like reading/writing files or network operations. It can improve responsiveness and resource utilization by allowing multiple tasks to run concurrently.\n"
      ],
      "metadata": {
        "id": "ED0qpzFATGhP"
      }
    },
    {
      "cell_type": "markdown",
      "source": [
        "# Practical Questons"
      ],
      "metadata": {
        "id": "aMV-rojoFrYG"
      }
    },
    {
      "cell_type": "markdown",
      "source": [
        "#Ques1.  How can you open a file for writing in Python and write a string to it?"
      ],
      "metadata": {
        "id": "Z3X_iR66FwQ5"
      }
    },
    {
      "cell_type": "code",
      "execution_count": 1,
      "metadata": {
        "id": "7II2u8QuEkWH"
      },
      "outputs": [],
      "source": [
        "# Open the file in write mode ('w')\n",
        "with open(\"example.txt\", \"w\") as file:\n",
        "    # Write a string to the file\n",
        "    file.write(\"Hello, world!\")\n"
      ]
    },
    {
      "cell_type": "markdown",
      "source": [
        "#Ques2. Write a Python program to read the contents of a file and print each line."
      ],
      "metadata": {
        "id": "5s4JjTwtGJ9A"
      }
    },
    {
      "cell_type": "code",
      "source": [
        "# Open the file in read mode\n",
        "with open(\"example.txt\", \"r\") as file:\n",
        "    # Loop through each line in the file\n",
        "    for line in file:\n",
        "        # Print each line (end='' prevents adding extra newline)\n",
        "        print(line, end='')\n"
      ],
      "metadata": {
        "id": "qPUFJkedGNXA"
      },
      "execution_count": null,
      "outputs": []
    },
    {
      "cell_type": "markdown",
      "source": [
        "#Ques3. How would you handle a case where the file doesn't exist while trying to open it for reading?"
      ],
      "metadata": {
        "id": "23LODD2TGcI2"
      }
    },
    {
      "cell_type": "code",
      "source": [
        "try:\n",
        "    with open(\"example.txt\", \"r\") as file:\n",
        "        for line in file:\n",
        "            print(line, end='')\n",
        "except FileNotFoundError:\n",
        "    print(\"Error: The file 'example.txt' was not found.\")\n"
      ],
      "metadata": {
        "id": "nVXObYxoGiuT"
      },
      "execution_count": null,
      "outputs": []
    },
    {
      "cell_type": "markdown",
      "source": [
        "#Ques4. Write a Python script that reads from one file and writes its content to another file?"
      ],
      "metadata": {
        "id": "75msMg3IGyiH"
      }
    },
    {
      "cell_type": "code",
      "source": [
        "# Read from source file and write to destination file\n",
        "try:\n",
        "    with open(\"source.txt\", \"r\") as source_file:\n",
        "        content = source_file.read()\n",
        "\n",
        "    with open(\"destination.txt\", \"w\") as destination_file:\n",
        "        destination_file.write(content)\n",
        "\n",
        "    print(\"File content copied successfully.\")\n",
        "except FileNotFoundError:\n",
        "    print(\"Error: 'source.txt' not found.\")\n"
      ],
      "metadata": {
        "id": "PIZEXLRsG2jS"
      },
      "execution_count": null,
      "outputs": []
    },
    {
      "cell_type": "markdown",
      "source": [
        "#Ques5. How would you catch and handle division by zero error in Python?"
      ],
      "metadata": {
        "id": "QvfJeJREHSDs"
      }
    },
    {
      "cell_type": "code",
      "source": [
        "try:\n",
        "    numerator = 10\n",
        "    denominator = 0\n",
        "    result = numerator / denominator\n",
        "    print(\"Result:\", result)\n",
        "except ZeroDivisionError:\n",
        "    print(\"Error: Cannot divide by zero.\")\n"
      ],
      "metadata": {
        "id": "se1Cbp33HXtq"
      },
      "execution_count": null,
      "outputs": []
    },
    {
      "cell_type": "markdown",
      "source": [
        "#Ques6. Write a Python program that logs an error message to a log file when a division by zero exception occurs?"
      ],
      "metadata": {
        "id": "xNRcGrvpH1Uq"
      }
    },
    {
      "cell_type": "code",
      "source": [
        "import logging\n",
        "\n",
        "# Configure logging to write to a file\n",
        "logging.basicConfig(filename='error.log', level=logging.ERROR,\n",
        "                    format='%(asctime)s - %(levelname)s - %(message)s')\n",
        "\n",
        "try:\n",
        "    # Code that may cause division by zero\n",
        "    numerator = 10\n",
        "    denominator = 0\n",
        "    result = numerator / denominator\n",
        "    print(\"Result:\", result)\n",
        "except ZeroDivisionError as e:\n",
        "    # Log the error message to 'error.log'\n",
        "    logging.error(\"Division by zero error occurred: %s\", e)\n",
        "    print(\"An error occurred. Check 'error.log' for details.\")\n"
      ],
      "metadata": {
        "id": "y9WZ4rpvH6mZ"
      },
      "execution_count": null,
      "outputs": []
    },
    {
      "cell_type": "markdown",
      "source": [
        "#Ques7. How do you log information at different levels (INFO, ERROR, WARNING) in Python using the logging module?"
      ],
      "metadata": {
        "id": "E965mqzIH_TV"
      }
    },
    {
      "cell_type": "code",
      "source": [
        "import logging\n",
        "\n",
        "# Configure logging\n",
        "logging.basicConfig(\n",
        "    filename='app.log',          # Log file name\n",
        "    level=logging.DEBUG,         # Minimum level to log\n",
        "    format='%(asctime)s - %(levelname)s - %(message)s'\n",
        ")\n",
        "\n",
        "# Logging at different levels\n",
        "logging.debug(\"This is a DEBUG message\")     # Useful for detailed debugging\n",
        "logging.info(\"This is an INFO message\")      # General info about program execution\n",
        "logging.warning(\"This is a WARNING message\") # Indicates something unexpected\n",
        "logging.error(\"This is an ERROR message\")    # An error that prevents some part of the program from working\n",
        "logging.critical(\"This is a CRITICAL message\") # A serious error (e.g., program crash)\n"
      ],
      "metadata": {
        "id": "rTT3LM1qIHIn"
      },
      "execution_count": null,
      "outputs": []
    },
    {
      "cell_type": "markdown",
      "source": [
        "#Ques8. Write a program to handle a file opening error using exception handling?"
      ],
      "metadata": {
        "id": "AaK_B5ygIdP9"
      }
    },
    {
      "cell_type": "code",
      "source": [
        "try:\n",
        "    # Attempt to open a file for reading\n",
        "    with open(\"non_existing_file.txt\", \"r\") as file:\n",
        "        content = file.read()\n",
        "        print(content)\n",
        "\n",
        "except FileNotFoundError:\n",
        "    print(\"Error: The file does not exist.\")\n",
        "\n",
        "except PermissionError:\n",
        "    print(\"Error: You do not have permission to open this file.\")\n",
        "\n",
        "except Exception as e:\n",
        "    print(f\"An unexpected error occurred: {e}\")\n"
      ],
      "metadata": {
        "id": "CfBJSIkRIiBU"
      },
      "execution_count": null,
      "outputs": []
    },
    {
      "cell_type": "markdown",
      "source": [
        "#Ques9 .How can you read a file line by line and store its content in a list in Python?"
      ],
      "metadata": {
        "id": "RCAVT0CiIhE5"
      }
    },
    {
      "cell_type": "markdown",
      "source": [
        "**Method 1:** Using readlines()"
      ],
      "metadata": {
        "id": "yHLkvWGnI5JX"
      }
    },
    {
      "cell_type": "code",
      "source": [
        "with open(\"example.txt\", \"r\") as file:\n",
        "    lines = file.readlines()\n",
        "\n",
        "print(lines)\n"
      ],
      "metadata": {
        "id": "w1TcfW5qIwcK"
      },
      "execution_count": null,
      "outputs": []
    },
    {
      "cell_type": "markdown",
      "source": [
        "This reads all lines and stores them in a list called lines.\n",
        "\n",
        "Each element in the list is a string representing one line (including \\n if present).\n",
        "\n",
        "**Method 2:** Using a loop with append()\n"
      ],
      "metadata": {
        "id": "nC0cWmj6JHy8"
      }
    },
    {
      "cell_type": "code",
      "source": [
        "lines = []\n",
        "\n",
        "with open(\"example.txt\", \"r\") as file:\n",
        "    for line in file:\n",
        "        lines.append(line)\n",
        "\n",
        "print(lines)\n"
      ],
      "metadata": {
        "id": "OIY9OQa6JYXC"
      },
      "execution_count": null,
      "outputs": []
    },
    {
      "cell_type": "markdown",
      "source": [
        "Works similarly but gives you more control (e.g., stripping whitespace or processing lines while reading).\n",
        "\n"
      ],
      "metadata": {
        "id": "C-ZEDC4AJK5C"
      }
    },
    {
      "cell_type": "markdown",
      "source": [
        "#Ques10. How can you append data to an existing file in Python?\n",
        "**Ans:**To append data to an existing file in Python, open the file using the \"a\" mode (append mode). Here's how:\n",
        "\n",
        "**Example:**"
      ],
      "metadata": {
        "id": "V-kWFGeKJhjR"
      }
    },
    {
      "cell_type": "code",
      "source": [
        "# Open the file in append mode\n",
        "with open(\"example.txt\", \"a\") as file:\n",
        "    file.write(\"This line will be added at the end.\\n\")\n"
      ],
      "metadata": {
        "id": "mpN0ppuWJoym"
      },
      "execution_count": null,
      "outputs": []
    },
    {
      "cell_type": "markdown",
      "source": [
        "**Explanation:**\n",
        "\"a\" mode: Opens the file for appending. If the file doesn’t exist, it creates a new one.\n",
        "\n",
        "file.write(...): Adds the specified text at the end of the file without overwriting existing content.\n",
        "\n",
        "\\n: Ensures that each new line starts on a new line in the file."
      ],
      "metadata": {
        "id": "UvcxRD7AKCq8"
      }
    },
    {
      "cell_type": "code",
      "source": [
        "with open(\"example.txt\", \"r\") as file:\n",
        "    print(file.read())\n"
      ],
      "metadata": {
        "id": "a6gDP8ykKK12"
      },
      "execution_count": null,
      "outputs": []
    },
    {
      "cell_type": "markdown",
      "source": [
        "#Ques11. Write a Python program that uses a try-except block to handle an error when attempting to access a dictionary key that doesn't exist?"
      ],
      "metadata": {
        "id": "tuABsS-RKOwm"
      }
    },
    {
      "cell_type": "code",
      "source": [
        "my_dict = {\"name\": \"Kartikey\", \"age\": 28}\n",
        "\n",
        "try:\n",
        "    # Attempt to access a key that may not exist\n",
        "    value = my_dict[\"address\"]\n",
        "    print(\"Address:\", value)\n",
        "except KeyError:\n",
        "    print(\"Error: The key 'address' does not exist in the dictionary.\")\n"
      ],
      "metadata": {
        "id": "I-nYfgX8KVGM"
      },
      "execution_count": null,
      "outputs": []
    },
    {
      "cell_type": "markdown",
      "source": [
        "#Ques12. Write a program that demonstrates using multiple except blocks to handle different types of exceptions?"
      ],
      "metadata": {
        "id": "0DZvLeRxKmRI"
      }
    },
    {
      "cell_type": "code",
      "source": [
        "try:\n",
        "    # Take user input and convert to integer\n",
        "    num = int(input(\"Enter a number: \"))\n",
        "\n",
        "    # Perform division\n",
        "    result = 10 / num\n",
        "\n",
        "    # Access a dictionary key\n",
        "    my_dict = {\"a\": 1}\n",
        "    print(\"Value:\", my_dict[\"b\"])\n",
        "\n",
        "except ValueError:\n",
        "    print(\"Error: Invalid input. Please enter a valid integer.\")\n",
        "\n",
        "except ZeroDivisionError:\n",
        "    print(\"Error: Cannot divide by zero.\")\n",
        "\n",
        "except KeyError:\n",
        "    print(\"Error: The specified key does not exist in the dictionary.\")\n",
        "\n",
        "except Exception as e:\n",
        "    print(f\"An unexpected error occurred: {e}\")\n"
      ],
      "metadata": {
        "id": "EoVa2To7KpsJ"
      },
      "execution_count": null,
      "outputs": []
    },
    {
      "cell_type": "markdown",
      "source": [
        "#Ques13. How would you check if a file exists before attempting to read it in Python?\n",
        "**Ans:** To check if a file exists before reading it in Python, you can use the os.path.exists() function from the os module or the Path.exists() method from the pathlib module. Here are examples of both:\n",
        "\n",
        "**Using os.path.exists():**"
      ],
      "metadata": {
        "id": "Hv3sostvK5Sr"
      }
    },
    {
      "cell_type": "code",
      "source": [
        "import os\n",
        "\n",
        "filename = \"example.txt\"\n",
        "\n",
        "if os.path.exists(filename):\n",
        "    with open(filename, \"r\") as file:\n",
        "        content = file.read()\n",
        "        print(content)\n",
        "else:\n",
        "    print(f\"The file '{filename}' does not exist.\")\n"
      ],
      "metadata": {
        "id": "EEmBLthZLDSG"
      },
      "execution_count": null,
      "outputs": []
    },
    {
      "cell_type": "markdown",
      "source": [
        "**Using pathlib.Path.exists()**"
      ],
      "metadata": {
        "id": "zHK9xtlOLXrC"
      }
    },
    {
      "cell_type": "code",
      "source": [
        "from pathlib import Path\n",
        "\n",
        "file_path = Path(\"example.txt\")\n",
        "\n",
        "if file_path.exists():\n",
        "    with file_path.open(\"r\") as file:\n",
        "        content = file.read()\n",
        "        print(content)\n",
        "else:\n",
        "    print(f\"The file '{file_path}' does not exist.\")\n"
      ],
      "metadata": {
        "id": "WoFHtCvNLZ3W"
      },
      "execution_count": null,
      "outputs": []
    },
    {
      "cell_type": "markdown",
      "source": [
        "#Ques14.  Write a program that uses the logging module to log both informational and error messages?"
      ],
      "metadata": {
        "id": "eUGlWZdbLfzV"
      }
    },
    {
      "cell_type": "code",
      "source": [
        "import logging\n",
        "\n",
        "# Configure logging\n",
        "logging.basicConfig(\n",
        "    filename='app.log',          # Log output file\n",
        "    level=logging.INFO,          # Minimum level to capture (INFO and above)\n",
        "    format='%(asctime)s - %(levelname)s - %(message)s'\n",
        ")\n",
        "\n",
        "# Log an informational message\n",
        "logging.info(\"Program started successfully.\")\n",
        "\n",
        "try:\n",
        "    # Example operation: division\n",
        "    numerator = 10\n",
        "    denominator = 0\n",
        "    result = numerator / denominator\n",
        "    logging.info(f\"Division result: {result}\")\n",
        "\n",
        "except ZeroDivisionError as e:\n",
        "    # Log the error message\n",
        "    logging.error(f\"An error occurred: {e}\")\n",
        "\n",
        "logging.info(\"Program ended.\")\n"
      ],
      "metadata": {
        "id": "FOs9bV3QMBiT"
      },
      "execution_count": null,
      "outputs": []
    },
    {
      "cell_type": "markdown",
      "source": [
        "#Ques15. Write a Python program that prints the content of a file and handles the case when the file is empty?"
      ],
      "metadata": {
        "id": "_YE67sx7MLO5"
      }
    },
    {
      "cell_type": "code",
      "source": [
        "filename = \"example.txt\"\n",
        "\n",
        "try:\n",
        "    with open(filename, \"r\") as file:\n",
        "        content = file.read()\n",
        "\n",
        "        if content:\n",
        "            print(content)\n",
        "        else:\n",
        "            print(f\"The file '{filename}' is empty.\")\n",
        "except FileNotFoundError:\n",
        "    print(f\"Error: The file '{filename}' does not exist.\")\n"
      ],
      "metadata": {
        "id": "Tq1DRUxJMUCr"
      },
      "execution_count": null,
      "outputs": []
    },
    {
      "cell_type": "markdown",
      "source": [
        "#Ques16. Demonstrate how to use memory profiling to check the memory usage of a small program?\n",
        "**Ans:** To profile memory usage of a small Python program, you can use the memory_profiler module, which is a popular tool for line-by-line memory usage analysis.\n",
        "\n",
        "\n",
        "**Steps to use memory_profiler:**\n",
        "1. Install the package (if not installed):\n",
        "\n"
      ],
      "metadata": {
        "id": "zRTxOZ_-MZXh"
      }
    },
    {
      "cell_type": "code",
      "source": [
        "pip install memory-profiler\n"
      ],
      "metadata": {
        "id": "sg_1P0knMe_3"
      },
      "execution_count": null,
      "outputs": []
    },
    {
      "cell_type": "markdown",
      "source": [
        "2. Write a Python script with the @profile decorator on the function you want to analyze.\n",
        "3. Run the script with memory profiling enabled.\n",
        "\n",
        "\n",
        "**Example**\n",
        "\n",
        "\n"
      ],
      "metadata": {
        "id": "0NeaYWevNBZN"
      }
    },
    {
      "cell_type": "code",
      "source": [
        "from memory_profiler import profile\n",
        "\n",
        "@profile\n",
        "def create_list():\n",
        "    my_list = []\n",
        "    for i in range(100000):\n",
        "        my_list.append(i)\n",
        "    return my_list\n",
        "\n",
        "if __name__ == \"__main__\":\n",
        "    create_list()\n"
      ],
      "metadata": {
        "id": "8w5qPi5XNTux"
      },
      "execution_count": null,
      "outputs": []
    },
    {
      "cell_type": "markdown",
      "source": [
        "**Run memory profiling from the command line:**\n"
      ],
      "metadata": {
        "id": "0EYXWT4ANZPO"
      }
    },
    {
      "cell_type": "code",
      "source": [
        "python -m memory_profiler memory_test.py\n"
      ],
      "metadata": {
        "id": "rC7bbkpBNgQj"
      },
      "execution_count": null,
      "outputs": []
    },
    {
      "cell_type": "markdown",
      "source": [
        "**What happens:**\n",
        "1. The @profile decorator marks the function to analyze.\n",
        "\n",
        "2. The command shows memory usage for each line inside create_list().\n",
        "\n",
        "3. You get a detailed report on how memory changes line-by-line.\n",
        "\n"
      ],
      "metadata": {
        "id": "dUaJpw6wNjDL"
      }
    },
    {
      "cell_type": "code",
      "source": [
        "from memory_profiler import memory_usage\n",
        "\n",
        "def my_func():\n",
        "    return [i for i in range(100000)]\n",
        "\n",
        "mem_usage = memory_usage(my_func)\n",
        "print(f\"Memory usage over time: {mem_usage}\")\n"
      ],
      "metadata": {
        "id": "kQ5ZtIVtNx8o"
      },
      "execution_count": null,
      "outputs": []
    },
    {
      "cell_type": "markdown",
      "source": [
        "#Ques17.  Write a Python program to create and write a list of numbers to a file, one number per line?"
      ],
      "metadata": {
        "id": "uXNS4rhYN0Z8"
      }
    },
    {
      "cell_type": "code",
      "source": [
        "numbers = [1, 2, 3, 4, 5, 6, 7, 8, 9, 10]\n",
        "\n",
        "with open(\"numbers.txt\", \"w\") as file:\n",
        "    for number in numbers:\n",
        "        file.write(str(number) + \"\\n\")\n"
      ],
      "metadata": {
        "id": "C_8LpbaaN4MP"
      },
      "execution_count": null,
      "outputs": []
    },
    {
      "cell_type": "markdown",
      "source": [
        "#Ques18. How would you implement a basic logging setup that logs to a file with rotation after 1MB?"
      ],
      "metadata": {
        "id": "xrHFYuRZN8X9"
      }
    },
    {
      "cell_type": "code",
      "source": [
        "import logging\n",
        "from logging.handlers import RotatingFileHandler\n",
        "\n",
        "# Create logger\n",
        "logger = logging.getLogger(\"MyLogger\")\n",
        "logger.setLevel(logging.INFO)  # Set the logging level\n",
        "\n",
        "# Create a rotating file handler\n",
        "handler = RotatingFileHandler(\n",
        "    \"app.log\", maxBytes=1_000_000, backupCount=3\n",
        ")  # 1MB max, keep 3 backups\n",
        "\n",
        "# Create a logging format\n",
        "formatter = logging.Formatter('%(asctime)s - %(levelname)s - %(message)s')\n",
        "handler.setFormatter(formatter)\n",
        "\n",
        "# Add the handler to the logger\n",
        "logger.addHandler(handler)\n",
        "\n",
        "# Example usage\n",
        "for i in range(10000):\n",
        "    logger.info(f\"Logging line {i + 1}\")\n"
      ],
      "metadata": {
        "id": "tAZPw_sBOO2h"
      },
      "execution_count": null,
      "outputs": []
    },
    {
      "cell_type": "markdown",
      "source": [
        "#Ques 19. Write a program that handles both IndexError and KeyError using a try-except block?"
      ],
      "metadata": {
        "id": "ftVh-83XOLwM"
      }
    },
    {
      "cell_type": "code",
      "source": [
        "my_list = [10, 20, 30]\n",
        "my_dict = {\"a\": 1, \"b\": 2}\n",
        "\n",
        "try:\n",
        "    # Accessing an index that might be out of range\n",
        "    print(\"List item:\", my_list[5])\n",
        "\n",
        "    # Accessing a dictionary key that might not exist\n",
        "    print(\"Dictionary value:\", my_dict[\"c\"])\n",
        "\n",
        "except IndexError:\n",
        "    print(\"Error: List index is out of range.\")\n",
        "\n",
        "except KeyError:\n",
        "    print(\"Error: Dictionary key not found.\")\n"
      ],
      "metadata": {
        "id": "zjnL6TzBOnOx"
      },
      "execution_count": null,
      "outputs": []
    },
    {
      "cell_type": "markdown",
      "source": [
        "#Ques20. How would you open a file and read its contents using a context manager in Python?\n",
        "**Ans:** To open a file and read its contents using a context manager in Python, you use the with statement. It ensures the file is properly closed after its block finishes, even if an error occurs.\n",
        "\n",
        "**Here’s a simple example:**"
      ],
      "metadata": {
        "id": "sfQ8pb0EOdTB"
      }
    },
    {
      "cell_type": "code",
      "source": [
        "with open(\"example.txt\", \"r\") as file:\n",
        "    content = file.read()\n",
        "    print(content)\n"
      ],
      "metadata": {
        "id": "UPNAS_22PBUd"
      },
      "execution_count": null,
      "outputs": []
    },
    {
      "cell_type": "markdown",
      "source": [
        "#Ques21. Write a Python program that reads a file and prints the number of occurrences of a specific word?"
      ],
      "metadata": {
        "id": "l24a86uqOxiw"
      }
    },
    {
      "cell_type": "code",
      "source": [
        "filename = \"example.txt\"\n",
        "word_to_count = \"Python\"\n",
        "\n",
        "try:\n",
        "    with open(filename, \"r\") as file:\n",
        "        content = file.read().lower()  # Convert to lowercase for case-insensitive search\n",
        "        word_count = content.split().count(word_to_count.lower())\n",
        "    print(f\"The word '{word_to_count}' occurs {word_count} times in the file.\")\n",
        "except FileNotFoundError:\n",
        "    print(f\"Error: The file '{filename}' does not exist.\")\n"
      ],
      "metadata": {
        "id": "pk1oFNN3PHej"
      },
      "execution_count": null,
      "outputs": []
    },
    {
      "cell_type": "markdown",
      "source": [
        "#Ques22. How can you check if a file is empty before attempting to read its contents?\n",
        "**Ans:** You can check if a file is empty before reading it by checking its size. Here are two common ways to do that in Python:\n",
        "\n",
        "**Method 1: Using os.path.getsize()**"
      ],
      "metadata": {
        "id": "v5BiWfyCO0Fy"
      }
    },
    {
      "cell_type": "code",
      "source": [
        "import os\n",
        "\n",
        "filename = \"example.txt\"\n",
        "\n",
        "if os.path.exists(filename) and os.path.getsize(filename) > 0:\n",
        "    with open(filename, \"r\") as file:\n",
        "        content = file.read()\n",
        "        print(content)\n",
        "else:\n",
        "    print(f\"The file '{filename}' is empty or does not exist.\")\n"
      ],
      "metadata": {
        "id": "Lziw4-QOPR_T"
      },
      "execution_count": null,
      "outputs": []
    },
    {
      "cell_type": "markdown",
      "source": [
        "**Method 2: Using pathlib.Path.stat()**"
      ],
      "metadata": {
        "id": "Ql-ioK4_PhaD"
      }
    },
    {
      "cell_type": "code",
      "source": [
        "from pathlib import Path\n",
        "\n",
        "file_path = Path(\"example.txt\")\n",
        "\n",
        "if file_path.exists() and file_path.stat().st_size > 0:\n",
        "    with file_path.open(\"r\") as file:\n",
        "        content = file.read()\n",
        "        print(content)\n",
        "else:\n",
        "    print(f\"The file '{file_path}' is empty or does not exist.\")\n"
      ],
      "metadata": {
        "id": "M6OMojNEPi4G"
      },
      "execution_count": null,
      "outputs": []
    },
    {
      "cell_type": "markdown",
      "source": [
        "#Ques23. Write a Python program that writes to a log file when an error occurs during file handling."
      ],
      "metadata": {
        "id": "MWOKbDYYPlN4"
      }
    },
    {
      "cell_type": "code",
      "source": [
        "import logging\n",
        "\n",
        "# Configure logging to write errors to 'error.log'\n",
        "logging.basicConfig(\n",
        "    filename='error.log',\n",
        "    level=logging.ERROR,\n",
        "    format='%(asctime)s - %(levelname)s - %(message)s'\n",
        ")\n",
        "\n",
        "filename = \"example.txt\"\n",
        "\n",
        "try:\n",
        "    with open(filename, \"r\") as file:\n",
        "        content = file.read()\n",
        "        print(content)\n",
        "\n",
        "except FileNotFoundError:\n",
        "    logging.error(f\"File not found: {filename}\")\n",
        "    print(f\"Error: The file '{filename}' does not exist.\")\n",
        "\n",
        "except PermissionError:\n",
        "    logging.error(f\"Permission denied when accessing: {filename}\")\n",
        "    print(f\"Error: Permission denied for file '{filename}'.\")\n",
        "\n",
        "except Exception as e:\n",
        "    logging.error(f\"An unexpected error occurred: {e}\")\n",
        "    print(\"An unexpected error occurred. Check the log file for details.\")\n"
      ],
      "metadata": {
        "id": "81dkpBnKPvy2"
      },
      "execution_count": null,
      "outputs": []
    },
    {
      "cell_type": "markdown",
      "source": [],
      "metadata": {
        "id": "twePjylmPsk5"
      }
    }
  ]
}
