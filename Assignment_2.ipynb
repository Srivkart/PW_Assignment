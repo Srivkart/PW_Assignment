{
  "nbformat": 4,
  "nbformat_minor": 0,
  "metadata": {
    "colab": {
      "provenance": []
    },
    "kernelspec": {
      "name": "python3",
      "display_name": "Python 3"
    },
    "language_info": {
      "name": "python"
    }
  },
  "cells": [
    {
      "cell_type": "markdown",
      "source": [
        "# Theory Questions"
      ],
      "metadata": {
        "id": "UcfYRGZMYSsx"
      }
    },
    {
      "cell_type": "markdown",
      "source": [
        "#Que 1- What are data structures, and why are they important ?\n",
        "\n",
        "  - Data structures are ways of organizing and storing data in a computer so it can be accessed and modified efficiently. Examples include arrays, linked lists, stacks, queues, trees, graphs, and hash tables.\n",
        "\n",
        "Why Are Data Structures Important?\n",
        "\n",
        "Efficiency – Enable fast data access and manipulation.\n",
        "\n",
        "Organization – Help manage and structure data logically.\n",
        "\n",
        "Problem Solving – Essential for designing effective algorithms.\n",
        "\n",
        "Scalability – Support handling of large datasets smoothly.\n",
        "\n",
        "Reusability – Provide modular solutions used across applications.\n",
        "\n"
      ],
      "metadata": {
        "id": "xTYEPwjvYYMW"
      }
    },
    {
      "cell_type": "markdown",
      "source": [
        "#Que 2-  Explain the difference between mutable and immutable data types with examples ?\n",
        "\n",
        "Mutable vs Immutable Data Types\n",
        "\n",
        "- Mutable Data Types can be changed after creation.\n",
        "\n",
        "- Immutable Data Types cannot be changed once created.\n",
        "\n",
        "Mutable Data Types (Can be modified)\n",
        "\n",
        "Examples: list, dict, set\n",
        "\n",
        "Immutable Data Types (Cannot be modified)\n",
        "\n",
        "Examples: int, float, str, tuple\n"
      ],
      "metadata": {
        "id": "PHLtHls_YbP0"
      }
    },
    {
      "cell_type": "markdown",
      "source": [
        "#Que 3- What are the main differences between lists and tuples in Python ?\n",
        "\n",
        "\n",
        "In Python, lists and tuples are both used to store collections of items, but they differ in several key ways. The most important difference is mutability. Lists are mutable, meaning their contents can be changed after creation — you can add, remove, or modify elements. Tuples, on the other hand, are immutable; once created, their contents cannot be altered.\n",
        "\n",
        "In terms of syntax, lists are defined using square brackets, for example: my_list = [1, 2, 3], whereas tuples use parentheses: my_tuple = (1, 2, 3). Because of their mutability, lists offer more built-in methods like append(), remove(), and pop(). Tuples support fewer methods due to their fixed nature.\n",
        "\n",
        "Performance-wise, tuples are generally faster and use less memory than lists, which makes them suitable for situations where the data should not change. For example, tuples are often used for fixed collections like coordinates, dates, or constants, while lists are better suited for dynamic data.\n",
        "\n",
        "In summary, choose lists when you need a flexible, changeable data structure, and use tuples when the data should remain constant throughout the program.\n"
      ],
      "metadata": {
        "id": "FEqMu-UWYhoq"
      }
    },
    {
      "cell_type": "markdown",
      "source": [
        "#Que 4- Describe how dictionaries store data?\n",
        "\n",
        " Dictionaries in Python store data as key-value pairs using a hash table. Each key is hashed to determine where its value is stored in memory, enabling fast lookups.\n",
        "\n",
        " -Keys must be unique and immutable.\n",
        "\n",
        " -Values can be of any data type.\n"
      ],
      "metadata": {
        "id": "sTQ84SRIYmdy"
      }
    },
    {
      "cell_type": "markdown",
      "source": [
        "#Que 5 - Why might you use a set instead of a list in Python?\n",
        "\n",
        "\n",
        "You need unique items – Sets automatically remove duplicates.\n",
        "\n",
        "Fast membership checks – Checking if an item exists in a set is faster (O(1)) than in a list (O(n)).\n",
        "\n",
        "Set operations – Sets support mathematical operations like union, intersection, and difference.\n"
      ],
      "metadata": {
        "id": "IeriERslZEc-"
      }
    },
    {
      "cell_type": "markdown",
      "source": [
        "#Que 6- What is a string in Python, and how is it different from a list?\n",
        "\n",
        "\n",
        "A string in Python is a sequence of characters enclosed in quotes (single, double, or triple). It is used to represent text and is immutable, meaning once created, the string's content cannot be changed. For example, \"Hello, World!\" is a string.\n",
        "\n",
        "On the other hand, a list is a sequence that can store a collection of items, and the elements can be of any data type, including strings, integers, or even other lists. Lists are mutable, meaning their elements can be changed, added, or removed. For example, ['h', 'e', 'l', 'l', 'o'] is a list of characters.\n",
        "\n",
        "The key differences are that strings can only contain characters and are immutable, while lists can hold multiple data types and are mutable. Strings are ideal for handling text, while lists are used for more general collections.\n",
        "\n"
      ],
      "metadata": {
        "id": "YuMNR3U2ZHp_"
      }
    },
    {
      "cell_type": "markdown",
      "source": [
        "#Que 7 How do tuples ensure data integrity in Python\n",
        "Tuples ensure data integrity by being immutable, meaning once created, their elements cannot be modified. This immutability prevents accidental changes, making them ideal for storing constant or fixed data.\n"
      ],
      "metadata": {
        "id": "vCwoc5wwZPBD"
      }
    },
    {
      "cell_type": "markdown",
      "source": [
        "#Que 8 What is a hash table, and how does it relate to dictionaries in Python\n",
        "A hash table is a data structure that stores data in key-value pairs. It uses a hash function to compute an index (hash value) where the value is stored. Python's dictionaries are implemented using hash tables, which allow for efficient lookups, insertions, and deletions by using the hash value of the key.\n",
        "\n"
      ],
      "metadata": {
        "id": "6n_sLFviZTF1"
      }
    },
    {
      "cell_type": "markdown",
      "source": [
        "#Ques 9 Can lists contain different data types in Python\n",
        "Yes, lists in Python can contain elements of different data types. A list can hold integers, strings, floats, and even other lists or dictionaries. For example, my_list = [1, \"apple\", 3.14] is a valid list containing mixed data types.\n",
        "\n"
      ],
      "metadata": {
        "id": "E_Sudyd2ZWGd"
      }
    },
    {
      "cell_type": "markdown",
      "source": [
        "#Ques 10 Explain why strings are immutable in Python\n",
        "Strings are immutable in Python because they are designed to be efficient and safe. Since strings are frequently used and shared between parts of a program, immutability ensures that strings cannot be altered by mistake, which avoids unexpected behavior or errors.\n"
      ],
      "metadata": {
        "id": "1eEWjJtNZZpe"
      }
    },
    {
      "cell_type": "markdown",
      "source": [
        "#Ques 11 What advantages do dictionaries offer over lists for certain tasks\n",
        "Dictionaries offer faster lookups compared to lists because they use a hash table for storing key-value pairs. When you need to access data by a unique identifier (key), dictionaries provide an efficient, constant-time access (O(1)), unlike lists that require linear time (O(n)) for searching.\n",
        "\n"
      ],
      "metadata": {
        "id": "u6CqfSzUZcUL"
      }
    },
    {
      "cell_type": "markdown",
      "source": [
        "#Ques 12 Describe a scenario where using a tuple would be preferable over a list\n",
        "A tuple would be preferable over a list when the data is constant and should not be altered. For example, storing a set of coordinates (x, y, z) in a tuple ensures the values cannot be accidentally modified, preserving data integrity.\n",
        "\n"
      ],
      "metadata": {
        "id": "-yn6wCb5ZfTs"
      }
    },
    {
      "cell_type": "markdown",
      "source": [
        "#Ques 13 How do sets handle duplicate values in Python\n",
        "Sets automatically remove duplicates. If you try to add duplicate values to a set, it will only store one instance of each value. This makes sets useful for ensuring unique items in a collection.\n"
      ],
      "metadata": {
        "id": "ZlyEKtd8ZiPP"
      }
    },
    {
      "cell_type": "markdown",
      "source": [
        "\n",
        "#Ques 14 How does the “in” keyword work differently for lists and dictionaries\n",
        "The in keyword checks if an item exists in a list by searching through the elements, which takes linear time (O(n)). In dictionaries, it checks if a key exists, which is much faster, taking constant time (O(1)), due to the underlying hash table.\n"
      ],
      "metadata": {
        "id": "wsAagTw6Zkc6"
      }
    },
    {
      "cell_type": "markdown",
      "source": [
        "#Que 15 Can you modify the elements of a tuple? Explain why or why not\n",
        "You cannot modify the elements of a tuple because tuples are immutable. Once a tuple is created, its values cannot be changed, which ensures the integrity and consistency of the data it holds."
      ],
      "metadata": {
        "id": "5S9hb-j5Zn5W"
      }
    },
    {
      "cell_type": "markdown",
      "source": [
        "\n",
        "#Ques 16 What is a nested dictionary, and give an example of its use case\n",
        "A nested dictionary is a dictionary where the values themselves are dictionaries. It is useful when you need to represent hierarchical data. For example, {'student1': {'name': 'Alice', 'age': 21}, 'student2': {'name': 'Bob', 'age': 22}} represents data about students, with each student having its own dictionary.\n"
      ],
      "metadata": {
        "id": "I2dsNhwmZq5p"
      }
    },
    {
      "cell_type": "markdown",
      "source": [
        "\n",
        "#Que 17 Describe the time complexity of accessing elements in a dictionary\n",
        "The time complexity of accessing elements in a dictionary is O(1) on average. This constant-time access is made possible by the underlying hash table structure, which allows for fast lookups by key.\n"
      ],
      "metadata": {
        "id": "zt1GWDAUZtAa"
      }
    },
    {
      "cell_type": "markdown",
      "source": [
        "\n",
        "#Que 18 In what situations are lists preferred over dictionaries\n",
        "Lists are preferred when you need an ordered collection of items or when the position of elements matters. Lists are also suitable when you need to perform index-based operations or when the collection contains duplicate values.\n"
      ],
      "metadata": {
        "id": "nah1oLk4ZvRl"
      }
    },
    {
      "cell_type": "markdown",
      "source": [
        "#Ques 19 Why are dictionaries considered unordered, and how does that affect data retrieval\n",
        "Dictionaries are considered unordered because the elements are stored based on the hash values of keys, not in any specific order. However, starting from Python 3.7, dictionaries preserve insertion order. This does not affect data retrieval as long as you access elements by key, which is still efficient.\n"
      ],
      "metadata": {
        "id": "e_q7Fi6gZx0a"
      }
    },
    {
      "cell_type": "markdown",
      "source": [
        "\n",
        "#Que 20 Explain the difference between a list and a dictionary in terms of data retrieval.\n",
        "In a list, data is retrieved using an index, meaning you access elements based on their position in the sequence. In a dictionary, data is retrieved using a key, allowing direct access to the corresponding value without needing to know its position, making dictionaries more efficient for lookups by key."
      ],
      "metadata": {
        "id": "q-p9Xu-8Z0QP"
      }
    },
    {
      "cell_type": "markdown",
      "source": [],
      "metadata": {
        "id": "DkEsVKkZZ3Fa"
      }
    },
    {
      "cell_type": "markdown",
      "source": [
        "## Practical Questions\n"
      ],
      "metadata": {
        "id": "xsugb-QjJe_o"
      }
    },
    {
      "cell_type": "markdown",
      "source": [
        "1. Write a code to create a string with your name and print it."
      ],
      "metadata": {
        "id": "8BizLhLoKynu"
      }
    },
    {
      "cell_type": "code",
      "execution_count": 1,
      "metadata": {
        "colab": {
          "base_uri": "https://localhost:8080/"
        },
        "id": "hq_jX6ixJPvM",
        "outputId": "c923afcc-fbd0-4706-d578-4d32327e2049"
      },
      "outputs": [
        {
          "output_type": "stream",
          "name": "stdout",
          "text": [
            "My name is Pranjul\n"
          ]
        }
      ],
      "source": [
        "# Create a string with your name\n",
        "name = \"Pranjul\"\n",
        "\n",
        "# Print the string\n",
        "print(\"My name is\", name)\n"
      ]
    },
    {
      "cell_type": "markdown",
      "source": [
        "2. Write a code to find the length of the string \"Hello World\".\n"
      ],
      "metadata": {
        "id": "HP2uW_kIL9RQ"
      }
    },
    {
      "cell_type": "code",
      "source": [
        "# Define the string\n",
        "text = \"Hello World\"\n",
        "\n",
        "# Find the length of the string\n",
        "length = len(text)\n",
        "\n",
        "# Print the length\n",
        "print(\"The length of the string is:\", length)\n"
      ],
      "metadata": {
        "colab": {
          "base_uri": "https://localhost:8080/"
        },
        "id": "DwyC6s7XL_ar",
        "outputId": "408ff4df-4f0f-4dd6-c942-d7d0e2e820f0"
      },
      "execution_count": 2,
      "outputs": [
        {
          "output_type": "stream",
          "name": "stdout",
          "text": [
            "The length of the string is: 11\n"
          ]
        }
      ]
    },
    {
      "cell_type": "markdown",
      "source": [
        "3. Write a code to slice the first 3 characters from the string \"Python Programming\"."
      ],
      "metadata": {
        "id": "mgeYJ1ShXvNs"
      }
    },
    {
      "cell_type": "code",
      "source": [
        "# Define the string\n",
        "text = \"Python Programming\"\n",
        "\n",
        "# Slice the first 3 characters\n",
        "first_three = text[0:3]\n",
        "\n",
        "# Print the result\n",
        "print(\"First 3 characters:\", first_three)\n"
      ],
      "metadata": {
        "colab": {
          "base_uri": "https://localhost:8080/"
        },
        "id": "qHkX1QiyMi6j",
        "outputId": "855a7556-c09f-4e3c-c097-61f00913a5e1"
      },
      "execution_count": 3,
      "outputs": [
        {
          "output_type": "stream",
          "name": "stdout",
          "text": [
            "First 3 characters: Pyt\n"
          ]
        }
      ]
    },
    {
      "cell_type": "markdown",
      "source": [
        "4. Write a code to convert the string \"hello\" to uppercase."
      ],
      "metadata": {
        "id": "Flzh7u23MKAB"
      }
    },
    {
      "cell_type": "code",
      "source": [
        "# Define the string\n",
        "text = \"hello\"\n",
        "\n",
        "# Convert to uppercase\n",
        "uppercase_text = text.upper()\n",
        "\n",
        "# Print the result\n",
        "print(\"Uppercase:\", uppercase_text)\n"
      ],
      "metadata": {
        "colab": {
          "base_uri": "https://localhost:8080/"
        },
        "id": "o3DGaK5rK--c",
        "outputId": "bed2248a-20da-4244-c0d0-9bdf383868a5"
      },
      "execution_count": 4,
      "outputs": [
        {
          "output_type": "stream",
          "name": "stdout",
          "text": [
            "Uppercase: HELLO\n"
          ]
        }
      ]
    },
    {
      "cell_type": "markdown",
      "source": [
        "5. Write a code to replace the word \"apple\" with \"orange\" in the string \"I like apple\"."
      ],
      "metadata": {
        "id": "cpMcJZMENEQ1"
      }
    },
    {
      "cell_type": "code",
      "source": [
        "# Define the string\n",
        "text = \"I like apple\"\n",
        "\n",
        "# Replace \"apple\" with \"orange\"\n",
        "new_text = text.replace(\"apple\", \"orange\")\n",
        "\n",
        "# Print the result\n",
        "print(new_text)\n"
      ],
      "metadata": {
        "colab": {
          "base_uri": "https://localhost:8080/"
        },
        "id": "v-sdikehNOXs",
        "outputId": "5c5b59bd-7673-47f9-e396-d5b069c6f259"
      },
      "execution_count": 5,
      "outputs": [
        {
          "output_type": "stream",
          "name": "stdout",
          "text": [
            "I like orange\n"
          ]
        }
      ]
    },
    {
      "cell_type": "markdown",
      "source": [
        "6. Write a code to create a list with numbers 1 to 5 and print it."
      ],
      "metadata": {
        "id": "_dm-1y-iNS35"
      }
    },
    {
      "cell_type": "code",
      "source": [
        "# Create a list with numbers 1 to 5\n",
        "numbers = [1, 2, 3, 4, 5]\n",
        "\n",
        "# Print the list\n",
        "print(\"List of numbers:\", numbers)\n"
      ],
      "metadata": {
        "colab": {
          "base_uri": "https://localhost:8080/"
        },
        "id": "YjOk9RNvNjF7",
        "outputId": "972cbf2a-d399-423f-f490-0e2ba3dd7e47"
      },
      "execution_count": 6,
      "outputs": [
        {
          "output_type": "stream",
          "name": "stdout",
          "text": [
            "List of numbers: [1, 2, 3, 4, 5]\n"
          ]
        }
      ]
    },
    {
      "cell_type": "markdown",
      "source": [
        "7. Write a code to append the number 10 to the list [1, 2, 3, 4]."
      ],
      "metadata": {
        "id": "4jLWyZGNNlUN"
      }
    },
    {
      "cell_type": "code",
      "source": [
        "# Define the list\n",
        "numbers = [1, 2, 3, 4]\n",
        "\n",
        "# Append the number 10\n",
        "numbers.append(10)\n",
        "\n",
        "# Print the updated list\n",
        "print(\"Updated list:\", numbers)\n"
      ],
      "metadata": {
        "colab": {
          "base_uri": "https://localhost:8080/"
        },
        "id": "8X7dKO6zM2ud",
        "outputId": "5099f39c-8c3a-44f6-fccb-bf606c57ac26"
      },
      "execution_count": 7,
      "outputs": [
        {
          "output_type": "stream",
          "name": "stdout",
          "text": [
            "Updated list: [1, 2, 3, 4, 10]\n"
          ]
        }
      ]
    },
    {
      "cell_type": "markdown",
      "source": [
        "8. Write a code to remove the number 3 from the list [1, 2, 3, 4, 5]P"
      ],
      "metadata": {
        "id": "WJWoQusHOalG"
      }
    },
    {
      "cell_type": "code",
      "source": [
        "# Define the list\n",
        "numbers = [1, 2, 3, 4, 5]\n",
        "\n",
        "# Remove the number 3\n",
        "numbers.remove(3)\n",
        "\n",
        "# Print the updated list\n",
        "print(\"Updated list:\", numbers)\n"
      ],
      "metadata": {
        "colab": {
          "base_uri": "https://localhost:8080/"
        },
        "id": "jm9m-Iq7OcwZ",
        "outputId": "c3caca3c-8a5d-42c2-8d9f-a97c27f31c83"
      },
      "execution_count": 8,
      "outputs": [
        {
          "output_type": "stream",
          "name": "stdout",
          "text": [
            "Updated list: [1, 2, 4, 5]\n"
          ]
        }
      ]
    },
    {
      "cell_type": "markdown",
      "source": [
        "9. Write a code to access the second element in the list ['a', 'b', 'c', 'd']."
      ],
      "metadata": {
        "id": "5Rj3LXCCOly8"
      }
    },
    {
      "cell_type": "code",
      "source": [
        "# Define the list\n",
        "letters = ['a', 'b', 'c', 'd']\n",
        "\n",
        "# Access the second element (index 1)\n",
        "second_element = letters[1]\n",
        "\n",
        "# Print the result\n",
        "print(\"Second element:\", second_element)\n"
      ],
      "metadata": {
        "colab": {
          "base_uri": "https://localhost:8080/"
        },
        "id": "ecyAr5E0OwGi",
        "outputId": "f02e3c3a-4a03-4882-9cb1-13ecfefa377e"
      },
      "execution_count": 9,
      "outputs": [
        {
          "output_type": "stream",
          "name": "stdout",
          "text": [
            "Second element: b\n"
          ]
        }
      ]
    },
    {
      "cell_type": "markdown",
      "source": [
        "10. Write a code to reverse the list [10, 20, 30, 40, 50]."
      ],
      "metadata": {
        "id": "VS4OKrtJO8r2"
      }
    },
    {
      "cell_type": "code",
      "source": [
        "# Define the list\n",
        "numbers = [10, 20, 30, 40, 50]\n",
        "\n",
        "# Reverse the list\n",
        "numbers.reverse()\n",
        "\n",
        "# Print the reversed list\n",
        "print(\"Reversed list:\", numbers)\n"
      ],
      "metadata": {
        "colab": {
          "base_uri": "https://localhost:8080/"
        },
        "id": "hV3BpSU0O19e",
        "outputId": "79129b74-4e20-4d4e-ae73-63304639ad3a"
      },
      "execution_count": 10,
      "outputs": [
        {
          "output_type": "stream",
          "name": "stdout",
          "text": [
            "Reversed list: [50, 40, 30, 20, 10]\n"
          ]
        }
      ]
    },
    {
      "cell_type": "markdown",
      "source": [
        "11.  Write a code to create a tuple with the elements 100, 200, 300 and print it.\n"
      ],
      "metadata": {
        "id": "rLcoiexQPMSf"
      }
    },
    {
      "cell_type": "code",
      "source": [
        "# Create a tuple with the elements 100, 200, 300\n",
        "my_tuple = (100, 200, 300)\n",
        "\n",
        "# Print the tuple\n",
        "print(\"Tuple:\", my_tuple)\n"
      ],
      "metadata": {
        "colab": {
          "base_uri": "https://localhost:8080/"
        },
        "id": "SdsUB4qsPV8y",
        "outputId": "65f9b135-ca5e-4054-aecf-db3e0fc0a469"
      },
      "execution_count": 11,
      "outputs": [
        {
          "output_type": "stream",
          "name": "stdout",
          "text": [
            "Tuple: (100, 200, 300)\n"
          ]
        }
      ]
    },
    {
      "cell_type": "markdown",
      "source": [
        "12. Write a code to access the second-to-last element of the tuple ('red', 'green', 'blue', 'yellow')."
      ],
      "metadata": {
        "id": "aHHFI7ewPlac"
      }
    },
    {
      "cell_type": "code",
      "source": [
        "# Define the tuple\n",
        "colors = ('red', 'green', 'blue', 'yellow')\n",
        "\n",
        "# Access the second-to-last element\n",
        "second_to_last = colors[-2]\n",
        "\n",
        "# Print the result\n",
        "print(\"Second-to-last element:\", second_to_last)\n"
      ],
      "metadata": {
        "colab": {
          "base_uri": "https://localhost:8080/"
        },
        "id": "FQLdAm7zPnEC",
        "outputId": "6ccf1b40-475c-4f73-ba9f-a84403133a33"
      },
      "execution_count": 14,
      "outputs": [
        {
          "output_type": "stream",
          "name": "stdout",
          "text": [
            "Second-to-last element: blue\n"
          ]
        }
      ]
    },
    {
      "cell_type": "markdown",
      "source": [
        "13.  Write a code to find the minimum number in the tuple (10, 20, 5, 15)."
      ],
      "metadata": {
        "id": "7lu-x4FXQBlB"
      }
    },
    {
      "cell_type": "code",
      "source": [
        "# Define the tuple\n",
        "numbers = (10, 20, 5, 15)\n",
        "\n",
        "# Find the minimum number in the tuple\n",
        "min_number = min(numbers)\n",
        "\n",
        "# Print the result\n",
        "print(\"The minimum number is:\", min_number)\n"
      ],
      "metadata": {
        "colab": {
          "base_uri": "https://localhost:8080/"
        },
        "id": "lvSQVwvLQrLU",
        "outputId": "51085cfd-4bb0-4f07-83d2-96dbefe56438"
      },
      "execution_count": 15,
      "outputs": [
        {
          "output_type": "stream",
          "name": "stdout",
          "text": [
            "The minimum number is: 5\n"
          ]
        }
      ]
    },
    {
      "cell_type": "markdown",
      "source": [
        "14.  Write a code to find the index of the element \"cat\" in the tuple ('dog', 'cat', 'rabbit')."
      ],
      "metadata": {
        "id": "2TGt6G_OQwfT"
      }
    },
    {
      "cell_type": "code",
      "source": [
        "# Define the tuple\n",
        "animals = ('dog', 'cat', 'rabbit')\n",
        "\n",
        "# Find the index of the element 'cat'\n",
        "index_of_cat = animals.index('cat')\n",
        "\n",
        "# Print the result\n",
        "print(\"The index of 'cat' is:\", index_of_cat)\n"
      ],
      "metadata": {
        "colab": {
          "base_uri": "https://localhost:8080/"
        },
        "id": "zVqwr61lQyyn",
        "outputId": "df11a902-a8df-4b24-8dc2-ee06ceb67061"
      },
      "execution_count": 16,
      "outputs": [
        {
          "output_type": "stream",
          "name": "stdout",
          "text": [
            "The index of 'cat' is: 1\n"
          ]
        }
      ]
    },
    {
      "cell_type": "markdown",
      "source": [
        "15.  Write a code to create a tuple containing three different fruits and check if \"kiwi\" is in it."
      ],
      "metadata": {
        "id": "9fL29rHnRXD1"
      }
    },
    {
      "cell_type": "code",
      "source": [
        "# Define the tuple with three different fruits\n",
        "fruits = ('apple', 'banana', 'orange')\n",
        "\n",
        "# Check if 'kiwi' is in the tuple\n",
        "is_kiwi_in_tuple = 'kiwi' in fruits\n",
        "\n",
        "# Print the result\n",
        "print(\"Is 'kiwi' in the tuple?\", is_kiwi_in_tuple)\n"
      ],
      "metadata": {
        "colab": {
          "base_uri": "https://localhost:8080/"
        },
        "id": "UyBcp_qbRYcn",
        "outputId": "1eb80114-a52f-40c6-8ef1-0bec0577197e"
      },
      "execution_count": 17,
      "outputs": [
        {
          "output_type": "stream",
          "name": "stdout",
          "text": [
            "Is 'kiwi' in the tuple? False\n"
          ]
        }
      ]
    },
    {
      "cell_type": "markdown",
      "source": [
        "16.  Write a code to create a set with the elements 'a', 'b', 'c' and print it."
      ],
      "metadata": {
        "id": "GHVkySM6RjBh"
      }
    },
    {
      "cell_type": "code",
      "source": [
        "# Create a set with the elements 'a', 'b', 'c'\n",
        "my_set = {'a', 'b', 'c'}\n",
        "\n",
        "# Print the set\n",
        "print(\"Set:\", my_set)\n"
      ],
      "metadata": {
        "colab": {
          "base_uri": "https://localhost:8080/"
        },
        "id": "CyI5qwjnRqO_",
        "outputId": "3b6221eb-9630-4e40-dc91-23b2063bb96e"
      },
      "execution_count": 18,
      "outputs": [
        {
          "output_type": "stream",
          "name": "stdout",
          "text": [
            "Set: {'b', 'a', 'c'}\n"
          ]
        }
      ]
    },
    {
      "cell_type": "markdown",
      "source": [
        "17. Write a code to clear all elements from the set {1, 2, 3, 4, 5}."
      ],
      "metadata": {
        "id": "0jyG_LCDRw-C"
      }
    },
    {
      "cell_type": "code",
      "source": [
        "# Define the set\n",
        "my_set = {1, 2, 3, 4, 5}\n",
        "\n",
        "# Clear all elements from the set\n",
        "my_set.clear()\n",
        "\n",
        "# Print the result\n",
        "print(\"Set after clearing:\", my_set)\n"
      ],
      "metadata": {
        "colab": {
          "base_uri": "https://localhost:8080/"
        },
        "id": "m-9wrX95R79W",
        "outputId": "8fee1b52-8116-45ca-c33f-0d8aecdee2a7"
      },
      "execution_count": 19,
      "outputs": [
        {
          "output_type": "stream",
          "name": "stdout",
          "text": [
            "Set after clearing: set()\n"
          ]
        }
      ]
    },
    {
      "cell_type": "markdown",
      "source": [
        "18.  Write a code to remove the element 4 from the set {1, 2, 3, 4}."
      ],
      "metadata": {
        "id": "WysnJV-MSAQW"
      }
    },
    {
      "cell_type": "code",
      "source": [
        "# Define the set\n",
        "my_set = {1, 2, 3, 4}\n",
        "\n",
        "# Remove the element 4\n",
        "my_set.remove(4)\n",
        "\n",
        "# Print the result\n",
        "print(\"Set after removing 4:\", my_set)\n"
      ],
      "metadata": {
        "colab": {
          "base_uri": "https://localhost:8080/"
        },
        "id": "j1qnOoCCSGqo",
        "outputId": "d306be01-c758-4872-b41d-fac099e6297c"
      },
      "execution_count": 20,
      "outputs": [
        {
          "output_type": "stream",
          "name": "stdout",
          "text": [
            "Set after removing 4: {1, 2, 3}\n"
          ]
        }
      ]
    },
    {
      "cell_type": "markdown",
      "source": [
        "19. Write a code to find the union of two sets {1, 2, 3} and {3, 4, 5}."
      ],
      "metadata": {
        "id": "oFGEjLDuSNBJ"
      }
    },
    {
      "cell_type": "code",
      "source": [
        "# Define the two sets\n",
        "set1 = {1, 2, 3}\n",
        "set2 = {3, 4, 5}\n",
        "\n",
        "# Find the union of the two sets\n",
        "union_set = set1.union(set2)\n",
        "\n",
        "# Print the result\n",
        "print(\"Union of the sets:\", union_set)\n"
      ],
      "metadata": {
        "colab": {
          "base_uri": "https://localhost:8080/"
        },
        "id": "3PLkY-gpSPMi",
        "outputId": "7acb678f-e714-4d21-9630-7c9c0716ceb8"
      },
      "execution_count": 21,
      "outputs": [
        {
          "output_type": "stream",
          "name": "stdout",
          "text": [
            "Union of the sets: {1, 2, 3, 4, 5}\n"
          ]
        }
      ]
    },
    {
      "cell_type": "markdown",
      "source": [
        "20.  Write a code to find the intersection of two sets {1, 2, 3} and {2, 3, 4}."
      ],
      "metadata": {
        "id": "SCwo2b4OSYeX"
      }
    },
    {
      "cell_type": "code",
      "source": [
        "# Define the two sets\n",
        "set1 = {1, 2, 3}\n",
        "set2 = {2, 3, 4}\n",
        "\n",
        "# Find the intersection of the two sets\n",
        "intersection_set = set1.intersection(set2)\n",
        "\n",
        "# Print the result\n",
        "print(\"Intersection of the sets:\", intersection_set)\n"
      ],
      "metadata": {
        "colab": {
          "base_uri": "https://localhost:8080/"
        },
        "id": "8p5mToa1SZ_a",
        "outputId": "1bbc2b24-f70f-47d4-8f83-de4b05f47add"
      },
      "execution_count": 22,
      "outputs": [
        {
          "output_type": "stream",
          "name": "stdout",
          "text": [
            "Intersection of the sets: {2, 3}\n"
          ]
        }
      ]
    },
    {
      "cell_type": "markdown",
      "source": [
        "21.  Write a code to create a dictionary with the keys \"name\", \"age\", and \"city\", and print it."
      ],
      "metadata": {
        "id": "NQvMy2iiSipz"
      }
    },
    {
      "cell_type": "code",
      "source": [
        "# Create the dictionary\n",
        "person = {\n",
        "    \"name\": \"Pranjul\",\n",
        "    \"age\": 24,\n",
        "    \"city\": \"Aligarh\"\n",
        "}\n",
        "\n",
        "# Print the dictionary\n",
        "print(\"Dictionary:\", person)\n"
      ],
      "metadata": {
        "colab": {
          "base_uri": "https://localhost:8080/"
        },
        "id": "hoBnqU0MSnwE",
        "outputId": "059bc5e6-bf1b-4f6f-a7a5-7696ce8ce5e8"
      },
      "execution_count": 23,
      "outputs": [
        {
          "output_type": "stream",
          "name": "stdout",
          "text": [
            "Dictionary: {'name': 'Pranjul', 'age': 24, 'city': 'Aligarh'}\n"
          ]
        }
      ]
    },
    {
      "cell_type": "markdown",
      "source": [
        "22.  Write a code to add a new key-value pair \"country\": \"USA\" to the dictionary {'name': 'John', 'age': 25}."
      ],
      "metadata": {
        "id": "--2p-pqZTAMM"
      }
    },
    {
      "cell_type": "code",
      "source": [
        "# Define the dictionary\n",
        "person = {'name': 'John', 'age': 25}\n",
        "\n",
        "# Add a new key-value pair\n",
        "person['country'] = 'USA'\n",
        "\n",
        "# Print the updated dictionary\n",
        "print(\"Updated dictionary:\", person)\n"
      ],
      "metadata": {
        "colab": {
          "base_uri": "https://localhost:8080/"
        },
        "id": "Kjo0qkASTCDi",
        "outputId": "b54c08a4-74d3-4c92-8ae9-8feaca4b9250"
      },
      "execution_count": 24,
      "outputs": [
        {
          "output_type": "stream",
          "name": "stdout",
          "text": [
            "Updated dictionary: {'name': 'John', 'age': 25, 'country': 'USA'}\n"
          ]
        }
      ]
    },
    {
      "cell_type": "markdown",
      "source": [
        "23.  Write a code to access the value associated with the key \"name\" in the dictionary {'name': 'Alice', 'age': 30}."
      ],
      "metadata": {
        "id": "Bi6FI7DXTKIf"
      }
    },
    {
      "cell_type": "code",
      "source": [
        "# Define the dictionary\n",
        "person = {'name': 'Alice', 'age': 30}\n",
        "\n",
        "# Access the value associated with the key 'name'\n",
        "name_value = person['name']\n",
        "\n",
        "# Print the result\n",
        "print(\"The value associated with 'name' is:\", name_value)\n"
      ],
      "metadata": {
        "colab": {
          "base_uri": "https://localhost:8080/"
        },
        "id": "s7e3r909TRgW",
        "outputId": "1428301d-30c9-48d2-dbf3-052906e8825e"
      },
      "execution_count": 25,
      "outputs": [
        {
          "output_type": "stream",
          "name": "stdout",
          "text": [
            "The value associated with 'name' is: Alice\n"
          ]
        }
      ]
    },
    {
      "cell_type": "markdown",
      "source": [
        "24.  Write a code to remove the key \"age\" from the dictionary {'name': 'Bob', 'age': 22, 'city': 'New York'}."
      ],
      "metadata": {
        "id": "TtVhGqBFTcRe"
      }
    },
    {
      "cell_type": "code",
      "source": [
        "# Define the dictionary\n",
        "person = {'name': 'Bob', 'age': 22, 'city': 'New York'}\n",
        "\n",
        "# Remove the key 'age'\n",
        "del person['age']\n",
        "\n",
        "# Print the updated dictionary\n",
        "print(\"Updated dictionary:\", person)\n"
      ],
      "metadata": {
        "colab": {
          "base_uri": "https://localhost:8080/"
        },
        "id": "mByE70_HTdx4",
        "outputId": "ea5e9dfe-8aed-401d-f277-b61354658b00"
      },
      "execution_count": 26,
      "outputs": [
        {
          "output_type": "stream",
          "name": "stdout",
          "text": [
            "Updated dictionary: {'name': 'Bob', 'city': 'New York'}\n"
          ]
        }
      ]
    },
    {
      "cell_type": "markdown",
      "source": [
        "25.  Write a code to check if the key \"city\" exists in the dictionary {'name': 'Alice', 'city': 'Paris'}."
      ],
      "metadata": {
        "id": "Rq8Qg2YyTpHv"
      }
    },
    {
      "cell_type": "code",
      "source": [
        "# Define the dictionary\n",
        "person = {'name': 'Alice', 'city': 'Paris'}\n",
        "\n",
        "# Check if the key 'city' exists in the dictionary\n",
        "if 'city' in person:\n",
        "    print(\"The key 'city' exists in the dictionary.\")\n",
        "else:\n",
        "    print(\"The key 'city' does not exist in the dictionary.\")\n"
      ],
      "metadata": {
        "colab": {
          "base_uri": "https://localhost:8080/"
        },
        "id": "ap_w3sKXTtB4",
        "outputId": "c15e68cf-9c54-4b3f-d0a9-d3bf8ee54e04"
      },
      "execution_count": 27,
      "outputs": [
        {
          "output_type": "stream",
          "name": "stdout",
          "text": [
            "The key 'city' exists in the dictionary.\n"
          ]
        }
      ]
    },
    {
      "cell_type": "markdown",
      "source": [
        "26. Write a code to create a list, a tuple, and a dictionary, and print them all."
      ],
      "metadata": {
        "id": "7wcGzKK7T3cx"
      }
    },
    {
      "cell_type": "code",
      "source": [
        "# Create a list\n",
        "my_list = [1, 2, 3, 4, 5]\n",
        "\n",
        "# Create a tuple\n",
        "my_tuple = ('apple', 'banana', 'cherry')\n",
        "\n",
        "# Create a dictionary\n",
        "my_dict = {'name': 'Pranjul', 'age': 24, 'city': 'Aligarh'}\n",
        "\n",
        "# Print the list, tuple, and dictionary\n",
        "print(\"List:\", my_list)\n",
        "print(\"Tuple:\", my_tuple)\n",
        "print(\"Dictionary:\", my_dict)\n"
      ],
      "metadata": {
        "colab": {
          "base_uri": "https://localhost:8080/"
        },
        "id": "Q_2f9BUPT_Tn",
        "outputId": "3c6dd63b-0b6f-4dc4-ccbd-be62a44bd484"
      },
      "execution_count": 29,
      "outputs": [
        {
          "output_type": "stream",
          "name": "stdout",
          "text": [
            "List: [1, 2, 3, 4, 5]\n",
            "Tuple: ('apple', 'banana', 'cherry')\n",
            "Dictionary: {'name': 'Pranjul', 'age': 24, 'city': 'Aligarh'}\n"
          ]
        }
      ]
    },
    {
      "cell_type": "markdown",
      "source": [
        "27.  Write a code to create a list of 5 random numbers between 1 and 100, sort it in ascending order, and print the\n",
        "result.(replaced)"
      ],
      "metadata": {
        "id": "9o4V2PXOUUbW"
      }
    },
    {
      "cell_type": "code",
      "source": [
        "import random\n",
        "\n",
        "# Create a list of 5 random numbers between 1 and 100\n",
        "random_numbers = [random.randint(1, 100) for _ in range(5)]\n",
        "\n",
        "# Sort the list in ascending order\n",
        "random_numbers.sort()\n",
        "\n",
        "# Print the sorted list\n",
        "print(\"Sorted list:\", random_numbers)\n"
      ],
      "metadata": {
        "colab": {
          "base_uri": "https://localhost:8080/"
        },
        "id": "jQyOJ5olUYW2",
        "outputId": "a1ba9893-0c71-4411-efb9-19362782bc95"
      },
      "execution_count": 32,
      "outputs": [
        {
          "output_type": "stream",
          "name": "stdout",
          "text": [
            "Sorted list: [8, 18, 34, 59, 70]\n"
          ]
        }
      ]
    },
    {
      "cell_type": "markdown",
      "source": [
        "28. Write a code to create a list with strings and print the element at the third index.\n",
        "\n"
      ],
      "metadata": {
        "id": "IpvKSB5fU0ZN"
      }
    },
    {
      "cell_type": "code",
      "source": [
        "# Create a list with strings\n",
        "my_list = ['aligarh', 'agra', 'kanpur', 'narora', 'banaras']\n",
        "\n",
        "# Print the element at the third index (index 3)\n",
        "print(\"Element at index 3:\", my_list[3])\n"
      ],
      "metadata": {
        "colab": {
          "base_uri": "https://localhost:8080/"
        },
        "id": "3KVen_3eU5vI",
        "outputId": "3b14852b-c5ab-48d3-f3d9-af97baa5fb2b"
      },
      "execution_count": 35,
      "outputs": [
        {
          "output_type": "stream",
          "name": "stdout",
          "text": [
            "Element at index 3: narora\n"
          ]
        }
      ]
    },
    {
      "cell_type": "markdown",
      "source": [
        "29. Write a code to combine two dictionaries into one and print the result."
      ],
      "metadata": {
        "id": "uHwc8ZT2VZE2"
      }
    },
    {
      "cell_type": "code",
      "source": [
        "# Define the two dictionaries\n",
        "dict1 = {'name': 'Pranjul', 'age': 24}\n",
        "dict2 = {'city': 'Delhi', 'Kanpur': 'Aligarh'}\n",
        "\n",
        "# Combine the two dictionaries\n",
        "combined_dict = {**dict1, **dict2}\n",
        "\n",
        "# Print the combined dictionary\n",
        "print(\"Combined dictionary:\", combined_dict)\n"
      ],
      "metadata": {
        "colab": {
          "base_uri": "https://localhost:8080/"
        },
        "id": "3WlDjucxVajR",
        "outputId": "8d0e7e07-cfd3-4b1a-8406-c6dd49089a5f"
      },
      "execution_count": 36,
      "outputs": [
        {
          "output_type": "stream",
          "name": "stdout",
          "text": [
            "Combined dictionary: {'name': 'Pranjul', 'age': 24, 'city': 'Delhi', 'Kanpur': 'Aligarh'}\n"
          ]
        }
      ]
    },
    {
      "cell_type": "markdown",
      "source": [
        "30.  Write a code to convert a list of strings into a set."
      ],
      "metadata": {
        "id": "75xzNRYBV09X"
      }
    },
    {
      "cell_type": "code",
      "source": [
        "# Define the list of strings\n",
        "my_list = ['apple', 'banana', 'cherry', 'apple', 'date']\n",
        "\n",
        "# Convert the list to a set (removes duplicates)\n",
        "my_set = set(my_list)\n",
        "\n",
        "# Print the set\n",
        "print(\"Converted set:\", my_set)\n"
      ],
      "metadata": {
        "colab": {
          "base_uri": "https://localhost:8080/"
        },
        "id": "Wfk6FY3fV2WG",
        "outputId": "bf24be6e-de83-471c-fc9f-c9dda0021d0a"
      },
      "execution_count": 37,
      "outputs": [
        {
          "output_type": "stream",
          "name": "stdout",
          "text": [
            "Converted set: {'cherry', 'date', 'apple', 'banana'}\n"
          ]
        }
      ]
    }
  ]
}