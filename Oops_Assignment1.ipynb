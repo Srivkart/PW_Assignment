{
  "nbformat": 4,
  "nbformat_minor": 0,
  "metadata": {
    "colab": {
      "provenance": []
    },
    "kernelspec": {
      "name": "python3",
      "display_name": "Python 3"
    },
    "language_info": {
      "name": "python"
    }
  },
  "cells": [
    {
      "cell_type": "markdown",
      "source": [
        "# Theory Questions"
      ],
      "metadata": {
        "id": "7A6v0SfCjUo6"
      }
    },
    {
      "cell_type": "markdown",
      "source": [
        "#Ques 1. What is Object-Oriented Programming (OOP)?\n",
        "**Ans:-**  OOP is a way of writing code where we model real-world things as \"objects.\" These objects have data (attributes) and behaviors (methods).\n"
      ],
      "metadata": {
        "id": "Hd7aIBx9jZdP"
      }
    },
    {
      "cell_type": "markdown",
      "source": [
        "#Ques 2. What is a class in OOP?\n",
        "**Ans:-** A class is like a blueprint for creating objects. It defines what the object will be and what it can do.\n"
      ],
      "metadata": {
        "id": "amn2ZCgGkFu4"
      }
    },
    {
      "cell_type": "markdown",
      "source": [
        "#Ques 3. What is an object in OOP?\n",
        "**Ans:-** An object is an actual instance of a class — like a real car made from a car design.\n",
        "\n"
      ],
      "metadata": {
        "id": "xsAAxy5JkPY4"
      }
    },
    {
      "cell_type": "markdown",
      "source": [
        "#Ques4. What is the difference between abstraction and encapsulation?\n",
        "\n",
        "**Ans:-** Abstraction hides what's happening inside and only shows what's necessary.\n",
        "\n",
        "Encapsulation keeps data safe by wrapping it inside a class and controlling access.\n"
      ],
      "metadata": {
        "id": "KfqGWle2kYMu"
      }
    },
    {
      "cell_type": "markdown",
      "source": [
        "#Ques 5. What are dunder methods in Python?\n",
        "**Ans:-** Dunder (double underscore) methods like _init, __str_ are special methods Python uses to do things like initializing, printing, etc.\n",
        "\n"
      ],
      "metadata": {
        "id": "KcJtw5P9khBn"
      }
    },
    {
      "cell_type": "markdown",
      "source": [
        "#Ques 6. Explain the concept of inheritance in OOP.\n",
        "**Ans:-** Inheritance lets one class use the features of another class. Like a child class getting traits from a parent class.\n"
      ],
      "metadata": {
        "id": "lu3w6vhDknF_"
      }
    },
    {
      "cell_type": "markdown",
      "source": [
        "#Ques 7. What is polymorphism in OOP?\n",
        "**Ans:-** Polymorphism means using the same method name in different ways depending on the object.\n"
      ],
      "metadata": {
        "id": "fs1SJijcku4c"
      }
    },
    {
      "cell_type": "markdown",
      "source": [
        "#Ques 8. How is encapsulation achieved in Python?\n",
        "**Ans:-** By using private variables (prefix with _ or __) and methods to hide internal details from outside code."
      ],
      "metadata": {
        "id": "Nwmu3HTDkyjP"
      }
    },
    {
      "cell_type": "markdown",
      "source": [
        "#Ques 9. What is a constructor in Python?\n",
        "**Ans:-**      _init_   is Python’s constructor. It runs automatically when a new object is created to set things up.\n",
        "\n"
      ],
      "metadata": {
        "id": "OYVlQZPpk61T"
      }
    },
    {
      "cell_type": "markdown",
      "source": [
        "#Ques 10. What are class and static methods in Python?\n",
        "\n",
        "**Ans:-** Class method works with the class itself. Static method doesn’t access class or object data — it’s just like a regular function inside a class.\n"
      ],
      "metadata": {
        "id": "s0xzW3kQlknV"
      }
    },
    {
      "cell_type": "markdown",
      "source": [
        "#Ques 11. What is method overloading in Python?\n",
        "**Ans:-** Python doesn’t support true overloading, but you can use default or variable arguments to mimic it."
      ],
      "metadata": {
        "id": "C-3CpRb7mCWK"
      }
    },
    {
      "cell_type": "markdown",
      "source": [
        "#Ques 12. What is method overriding in OOP?\n",
        "**Ans:-** Overriding means changing a method in the child class that was inherited from the parent class.\n"
      ],
      "metadata": {
        "id": "MsmlHAcXmJ1-"
      }
    },
    {
      "cell_type": "markdown",
      "source": [
        "#Ques 13. What is a property decorator in Python?\n",
        "**Ans:-** It lets you use methods like variables, mostly for getting/setting private data cleanly using @property.\n"
      ],
      "metadata": {
        "id": "pDN0_c4pmP3Z"
      }
    },
    {
      "cell_type": "markdown",
      "source": [
        "\n",
        "#Ques 14. Why is polymorphism important in OOP?\n",
        "**Ans:-** It makes code more flexible and easier to scale by allowing different classes to be used through a common interface.\n"
      ],
      "metadata": {
        "id": "BR9778MamVgX"
      }
    },
    {
      "cell_type": "markdown",
      "source": [
        "#Ques 15. What is an abstract class in Python?\n",
        "**Ans:-** An abstract class can’t be used directly. It sets rules (abstract methods) that child classes must follow."
      ],
      "metadata": {
        "id": "lOA4rEFWmckc"
      }
    },
    {
      "cell_type": "markdown",
      "source": [
        "#Ques 16. What are the advantages of OOP?\n",
        "\n",
        "**Ans:-** Easier to manage and scale code Reusable code via inheritance Better data safety with encapsulation More flexible with polymorphism\n",
        "\n"
      ],
      "metadata": {
        "id": "dqtXeh3imh-h"
      }
    },
    {
      "cell_type": "markdown",
      "source": [
        "#Ques 17. What is the difference between a class variable and an instance variable?\n",
        "\n",
        "**Ans:-** Class variable is shared by all objects. Instance variable is unique to each object.\n"
      ],
      "metadata": {
        "id": "3lLrsKeJmuU2"
      }
    },
    {
      "cell_type": "markdown",
      "source": [
        "#Ques 18. What is multiple inheritance in Python?\n",
        "**Ans:-** It means a class can inherit from more than one parent class.\n",
        "\n"
      ],
      "metadata": {
        "id": "oNcrOgxQm28q"
      }
    },
    {
      "cell_type": "markdown",
      "source": [
        "#Ques 19. Explain the purpose of _str_ and _repr_ methods in Python.\n",
        "\n",
        "**Ans:-** _str_ gives a user-friendly string (like for print()). _repr_ gives a developer-friendly version, often used for debugging.\n",
        "\n"
      ],
      "metadata": {
        "id": "YkaXmXFmm_j7"
      }
    },
    {
      "cell_type": "markdown",
      "source": [
        "#Ques 20. What is the significance of the super() function in Python?\n",
        "**Ans:-** It lets you call methods from a parent class — helpful when extending or overriding behavior.\n",
        "\n"
      ],
      "metadata": {
        "id": "SjLdW5wWnKgV"
      }
    },
    {
      "cell_type": "markdown",
      "source": [
        "#Ques 21. What is the significance of the _del_ method in Python?\n",
        "Ans:- It’s a destructor — runs when an object is about to be deleted (used for cleanup).\n"
      ],
      "metadata": {
        "id": "xtB13fldnQOo"
      }
    },
    {
      "cell_type": "markdown",
      "source": [
        "#Ques 22. What is the difference between @staticmethod and @classmethod in Python?\n",
        "\n",
        "**Ans:-** @staticmethod is just a function in a class. @classmethod works with the class, not instances, and gets cls as its first argument.\n",
        "\n"
      ],
      "metadata": {
        "id": "nTh-P4JAnYc5"
      }
    },
    {
      "cell_type": "markdown",
      "source": [
        "#Ques 23. How does polymorphism work in Python with inheritance?\n",
        "Ans:- Child classes can have their own version of a method, and Python will automatically call the right one.\n"
      ],
      "metadata": {
        "id": "_5byg7-NnhQp"
      }
    },
    {
      "cell_type": "markdown",
      "source": [
        "#Ques 24. What is method chaining in Python?\n",
        "**Ans:-** Calling multiple methods one after another like: obj.method1().method2() — it works if each returns self.\n"
      ],
      "metadata": {
        "id": "6aLMgyXPnwfs"
      }
    },
    {
      "cell_type": "markdown",
      "source": [
        "#Ques 25. What is the purpose of the _call_ method in Python?\n",
        "**Ans:-** It lets you make objects behave like functions — you can “call” them like obj()."
      ],
      "metadata": {
        "id": "SFIExQFln2HO"
      }
    },
    {
      "cell_type": "markdown",
      "source": [
        "# Practical Questions"
      ],
      "metadata": {
        "id": "ulrBBezuZz9_"
      }
    },
    {
      "cell_type": "markdown",
      "source": [
        "#Ques1. Create a parent class Animal with a method speak() that prints a generic message. Create a child class Dog that overrides the speak() method to print \"Bark!\"."
      ],
      "metadata": {
        "id": "KlsdpTgyaNHo"
      }
    },
    {
      "cell_type": "code",
      "execution_count": 1,
      "metadata": {
        "colab": {
          "base_uri": "https://localhost:8080/"
        },
        "id": "8qFKjWp7ZusT",
        "outputId": "988aa69c-e08b-4757-d437-73d4a2a41cae"
      },
      "outputs": [
        {
          "output_type": "stream",
          "name": "stdout",
          "text": [
            "The animal makes a sound.\n",
            "Bark!\n"
          ]
        }
      ],
      "source": [
        "# Parent class\n",
        "class Animal:\n",
        "    def speak(self):\n",
        "        print(\"The animal makes a sound.\")\n",
        "\n",
        "# Child class\n",
        "class Dog(Animal):\n",
        "    def speak(self):\n",
        "        print(\"Bark!\")\n",
        "\n",
        "# Example usage\n",
        "generic_animal = Animal()\n",
        "generic_animal.speak()  # Output: The animal makes a sound.\n",
        "\n",
        "dog = Dog()\n",
        "dog.speak()  # Output: Bark!\n"
      ]
    },
    {
      "cell_type": "markdown",
      "source": [
        "#Ques 2.Write a program to create an abstract class Shape with a method area(). Derive classes Circle and Rectangle from it and implement the area() method in both.\n",
        "\n",
        "\n"
      ],
      "metadata": {
        "id": "yIawFunEcHdM"
      }
    },
    {
      "cell_type": "code",
      "source": [
        "from abc import ABC, abstractmethod\n",
        "import math\n",
        "\n",
        "# Abstract base class\n",
        "class Shape(ABC):\n",
        "    @abstractmethod\n",
        "    def area(self):\n",
        "        pass\n",
        "\n",
        "# Derived class for Circle\n",
        "class Circle(Shape):\n",
        "    def __init__(self, radius):\n",
        "        self.radius = radius\n",
        "\n",
        "    def area(self):\n",
        "        return math.pi * self.radius ** 2\n",
        "\n",
        "# Derived class for Rectangle\n",
        "class Rectangle(Shape):\n",
        "    def __init__(self, width, height):\n",
        "        self.width = width\n",
        "        self.height = height\n",
        "\n",
        "    def area(self):\n",
        "        return self.width * self.height\n",
        "\n",
        "# Example usage\n",
        "circle = Circle(5)\n",
        "print(f\"Area of circle: {circle.area()}\")  # Output: Area of circle: 78.53981633974483\n",
        "\n",
        "rectangle = Rectangle(4, 6)\n",
        "print(f\"Area of rectangle: {rectangle.area()}\")  # Output: Area of rectangle: 24\n"
      ],
      "metadata": {
        "colab": {
          "base_uri": "https://localhost:8080/"
        },
        "id": "UWePUaRScO7W",
        "outputId": "8e7bef3c-5e6f-467b-f748-acc7c19a64b3"
      },
      "execution_count": 2,
      "outputs": [
        {
          "output_type": "stream",
          "name": "stdout",
          "text": [
            "Area of circle: 78.53981633974483\n",
            "Area of rectangle: 24\n"
          ]
        }
      ]
    },
    {
      "cell_type": "markdown",
      "source": [
        "#Ques. 3. Implement a multi-level inheritance scenario where a class Vehicle has an attribute type. Derive a class Car and further derive a class ElectricCar that adds a battery attribute."
      ],
      "metadata": {
        "id": "JRJBDkmlce5g"
      }
    },
    {
      "cell_type": "code",
      "source": [
        "# Base class\n",
        "class Vehicle:\n",
        "    def __init__(self, vehicle_type):\n",
        "        self.vehicle_type = vehicle_type\n",
        "\n",
        "    def show_type(self):\n",
        "        print(f\"Vehicle type: {self.vehicle_type}\")\n",
        "\n",
        "# Derived class from Vehicle\n",
        "class Car(Vehicle):\n",
        "    def __init__(self, vehicle_type, brand):\n",
        "        super().__init__(vehicle_type)\n",
        "        self.brand = brand\n",
        "\n",
        "    def show_brand(self):\n",
        "        print(f\"Car brand: {self.brand}\")\n",
        "\n",
        "# Derived class from Car (multi-level inheritance)\n",
        "class ElectricCar(Car):\n",
        "    def __init__(self, vehicle_type, brand, battery_capacity):\n",
        "        super().__init__(vehicle_type, brand)\n",
        "        self.battery_capacity = battery_capacity\n",
        "\n",
        "    def show_battery(self):\n",
        "        print(f\"Battery capacity: {self.battery_capacity} kWh\")\n",
        "\n",
        "# Example usage\n",
        "e_car = ElectricCar(\"Four-wheeler\", \"Tesla\", 75)\n",
        "e_car.show_type()       # Output: Vehicle type: Four-wheeler\n",
        "e_car.show_brand()      # Output: Car brand: Tesla\n",
        "e_car.show_battery()    # Output: Battery capacity: 75 kWh\n"
      ],
      "metadata": {
        "colab": {
          "base_uri": "https://localhost:8080/"
        },
        "id": "TY9YGQH_c2pC",
        "outputId": "4a4fad9d-853d-45ed-99e6-6450dad72ef1"
      },
      "execution_count": 3,
      "outputs": [
        {
          "output_type": "stream",
          "name": "stdout",
          "text": [
            "Vehicle type: Four-wheeler\n",
            "Car brand: Tesla\n",
            "Battery capacity: 75 kWh\n"
          ]
        }
      ]
    },
    {
      "cell_type": "markdown",
      "source": [
        "#Ques 4.Demonstrate polymorphism by creating a base class Bird with a method fly(). Create two derived classes Sparrow and Penguin that override the fly() method.\n"
      ],
      "metadata": {
        "id": "ebAURgAdc7vy"
      }
    },
    {
      "cell_type": "code",
      "source": [
        "# Base class\n",
        "class Bird:\n",
        "    def fly(self):\n",
        "        print(\"Some bird is flying.\")\n",
        "\n",
        "# Derived class Sparrow\n",
        "class Sparrow(Bird):\n",
        "    def fly(self):\n",
        "        print(\"Sparrow flies high in the sky.\")\n",
        "\n",
        "# Derived class Penguin\n",
        "class Penguin(Bird):\n",
        "    def fly(self):\n",
        "        print(\"Penguins can't fly, but they can swim!\")\n",
        "\n",
        "# Function to demonstrate polymorphism\n",
        "def bird_fly_test(bird):\n",
        "    bird.fly()\n",
        "\n",
        "# Example usage\n",
        "sparrow = Sparrow()\n",
        "penguin = Penguin()\n",
        "\n",
        "bird_fly_test(sparrow)  # Output: Sparrow flies high in the sky.\n",
        "bird_fly_test(penguin)  # Output: Penguins can't fly, but they can swim!\n"
      ],
      "metadata": {
        "colab": {
          "base_uri": "https://localhost:8080/"
        },
        "id": "bMduXAAGdGOz",
        "outputId": "4704cf86-7fb2-4aad-bb83-60a4aebdb51b"
      },
      "execution_count": 4,
      "outputs": [
        {
          "output_type": "stream",
          "name": "stdout",
          "text": [
            "Sparrow flies high in the sky.\n",
            "Penguins can't fly, but they can swim!\n"
          ]
        }
      ]
    },
    {
      "cell_type": "markdown",
      "source": [
        "#Ques.5. Write a program to demonstrate encapsulation by creating a class BankAccount with private attributes balance and methods to deposit, withdraw, and check balance."
      ],
      "metadata": {
        "id": "cz4EJlbgdcII"
      }
    },
    {
      "cell_type": "code",
      "source": [
        "class BankAccount:\n",
        "    def __init__(self, initial_balance=0):\n",
        "        self.__balance = initial_balance  # private attribute\n",
        "\n",
        "    # Method to deposit money\n",
        "    def deposit(self, amount):\n",
        "        if amount > 0:\n",
        "            self.__balance += amount\n",
        "            print(f\"Deposited: ${amount}\")\n",
        "        else:\n",
        "            print(\"Deposit amount must be positive.\")\n",
        "\n",
        "    # Method to withdraw money\n",
        "    def withdraw(self, amount):\n",
        "        if 0 < amount <= self.__balance:\n",
        "            self.__balance -= amount\n",
        "            print(f\"Withdrew: ${amount}\")\n",
        "        else:\n",
        "            print(\"Insufficient balance or invalid amount.\")\n",
        "\n",
        "    # Method to check balance\n",
        "    def check_balance(self):\n",
        "        print(f\"Current balance: ${self.__balance}\")\n",
        "\n",
        "# Example usage\n",
        "account = BankAccount(100)   # Initial balance of $100\n",
        "account.check_balance()      # Output: Current balance: $100\n",
        "account.deposit(50)          # Output: Deposited: $50\n",
        "account.withdraw(30)         # Output: Withdrew: $30\n",
        "account.check_balance()      # Output: Current balance: $120\n",
        "\n",
        "# Trying to access private attribute directly (not recommended)\n",
        "# print(account.__balance)   # This will raise an AttributeError\n"
      ],
      "metadata": {
        "colab": {
          "base_uri": "https://localhost:8080/"
        },
        "id": "mz9gGw0pdpXh",
        "outputId": "a1915874-5422-4621-eccb-c4e6499ee76f"
      },
      "execution_count": 5,
      "outputs": [
        {
          "output_type": "stream",
          "name": "stdout",
          "text": [
            "Current balance: $100\n",
            "Deposited: $50\n",
            "Withdrew: $30\n",
            "Current balance: $120\n"
          ]
        }
      ]
    },
    {
      "cell_type": "markdown",
      "source": [
        "#Ques.6. Demonstrate runtime polymorphism using a method play() in a base class Instrument. Derive classes Guitar and Piano that implement their own version of play()."
      ],
      "metadata": {
        "id": "h3kix64Odu6v"
      }
    },
    {
      "cell_type": "code",
      "source": [
        "# Base class\n",
        "class Instrument:\n",
        "    def play(self):\n",
        "        print(\"Playing an instrument.\")\n",
        "\n",
        "# Derived class Guitar\n",
        "class Guitar(Instrument):\n",
        "    def play(self):\n",
        "        print(\"Strumming the guitar.\")\n",
        "\n",
        "# Derived class Piano\n",
        "class Piano(Instrument):\n",
        "    def play(self):\n",
        "        print(\"Playing the piano.\")\n",
        "\n",
        "# Function to demonstrate runtime polymorphism\n",
        "def start_playing(instrument):\n",
        "    instrument.play()\n",
        "\n",
        "# Example usage\n",
        "guitar = Guitar()\n",
        "piano = Piano()\n",
        "\n",
        "start_playing(guitar)  # Output: Strumming the guitar.\n",
        "start_playing(piano)   # Output: Playing the piano.\n"
      ],
      "metadata": {
        "colab": {
          "base_uri": "https://localhost:8080/"
        },
        "id": "WC6T-_rad9bk",
        "outputId": "f5179038-a570-4051-b08a-4d96a1169f35"
      },
      "execution_count": 6,
      "outputs": [
        {
          "output_type": "stream",
          "name": "stdout",
          "text": [
            "Strumming the guitar.\n",
            "Playing the piano.\n"
          ]
        }
      ]
    },
    {
      "cell_type": "markdown",
      "source": [
        "#Ques. 7. Create a class MathOperations with a class method add_numbers() to add two numbers and a static method subtract_numbers() to subtract two numbers."
      ],
      "metadata": {
        "id": "8i9mttZNeAzJ"
      }
    },
    {
      "cell_type": "code",
      "source": [
        "class MathOperations:\n",
        "    @classmethod\n",
        "    def add_numbers(cls, a, b):\n",
        "        return a + b\n",
        "\n",
        "    @staticmethod\n",
        "    def subtract_numbers(a, b):\n",
        "        return a - b\n",
        "\n",
        "# Example usage\n",
        "sum_result = MathOperations.add_numbers(10, 5)\n",
        "print(f\"Sum: {sum_result}\")  # Output: Sum: 15\n",
        "\n",
        "difference_result = MathOperations.subtract_numbers(10, 5)\n",
        "print(f\"Difference: {difference_result}\")  # Output: Difference: 5\n"
      ],
      "metadata": {
        "colab": {
          "base_uri": "https://localhost:8080/"
        },
        "id": "xIXk9im0eT58",
        "outputId": "4a1349f6-2137-4d81-c4ea-a5e9ec302f2c"
      },
      "execution_count": 7,
      "outputs": [
        {
          "output_type": "stream",
          "name": "stdout",
          "text": [
            "Sum: 15\n",
            "Difference: 5\n"
          ]
        }
      ]
    },
    {
      "cell_type": "markdown",
      "source": [
        "#Ques8. Implement a class Person with a class method to count the total number of persons created."
      ],
      "metadata": {
        "id": "HFNxfoX2eYyG"
      }
    },
    {
      "cell_type": "code",
      "source": [
        "class Person:\n",
        "    count = 0  # Class variable to track the number of instances\n",
        "\n",
        "    def __init__(self, name):\n",
        "        self.name = name\n",
        "        Person.count += 1  # Increment count when a new person is created\n",
        "\n",
        "    @classmethod\n",
        "    def total_persons(cls):\n",
        "        return cls.count\n",
        "\n",
        "# Example usage\n",
        "p1 = Person(\"Alice\")\n",
        "p2 = Person(\"Bob\")\n",
        "p3 = Person(\"Charlie\")\n",
        "\n",
        "print(f\"Total persons created: {Person.total_persons()}\")  # Output: Total persons created: 3\n"
      ],
      "metadata": {
        "colab": {
          "base_uri": "https://localhost:8080/"
        },
        "id": "cQiE9NEFebbZ",
        "outputId": "685731d5-12f6-4df1-abd1-2fbbf35a51d3"
      },
      "execution_count": 8,
      "outputs": [
        {
          "output_type": "stream",
          "name": "stdout",
          "text": [
            "Total persons created: 3\n"
          ]
        }
      ]
    },
    {
      "cell_type": "markdown",
      "source": [
        "#Ques. 9. Write a class Fraction with attributes numerator and denominator. Override the str method to display the fraction as \"numerator/denominator\"."
      ],
      "metadata": {
        "id": "x84pU95MepVG"
      }
    },
    {
      "cell_type": "code",
      "source": [
        "class Fraction:\n",
        "    def __init__(self, numerator, denominator):\n",
        "        self.numerator = numerator\n",
        "        self.denominator = denominator\n",
        "\n",
        "    def __str__(self):\n",
        "        return f\"{self.numerator}/{self.denominator}\"\n",
        "\n",
        "# Example usage\n",
        "f1 = Fraction(3, 4)\n",
        "f2 = Fraction(7, 2)\n",
        "\n",
        "print(f1)  # Output: 3/4\n",
        "print(f2)  # Output: 7/2\n"
      ],
      "metadata": {
        "colab": {
          "base_uri": "https://localhost:8080/"
        },
        "id": "RJq0D1xqesBI",
        "outputId": "0e9c1ce0-38b9-4ab3-8432-f9565f9ef2e8"
      },
      "execution_count": 9,
      "outputs": [
        {
          "output_type": "stream",
          "name": "stdout",
          "text": [
            "3/4\n",
            "7/2\n"
          ]
        }
      ]
    },
    {
      "cell_type": "markdown",
      "source": [
        "#Ques. 10. Demonstrate operator overloading by creating a class Vector and overriding the add method to add two vectors.\n",
        "\n",
        "\n"
      ],
      "metadata": {
        "id": "7l_yz40Ge4rP"
      }
    },
    {
      "cell_type": "code",
      "source": [
        "class Vector:\n",
        "    def __init__(self, x, y):\n",
        "        self.x = x\n",
        "        self.y = y\n",
        "\n",
        "    # Override the + operator\n",
        "    def __add__(self, other):\n",
        "        return Vector(self.x + other.x, self.y + other.y)\n",
        "\n",
        "    def __str__(self):\n",
        "        return f\"Vector({self.x}, {self.y})\"\n",
        "\n",
        "# Example usage\n",
        "v1 = Vector(2, 3)\n",
        "v2 = Vector(4, 5)\n",
        "\n",
        "v3 = v1 + v2  # This uses the overloaded __add__ method\n",
        "print(v3)     # Output: Vector(6, 8)\n"
      ],
      "metadata": {
        "colab": {
          "base_uri": "https://localhost:8080/"
        },
        "id": "PZkTVYR5e7VC",
        "outputId": "ff38ba91-a263-4121-a22f-b4c1b75f7ff4"
      },
      "execution_count": 10,
      "outputs": [
        {
          "output_type": "stream",
          "name": "stdout",
          "text": [
            "Vector(6, 8)\n"
          ]
        }
      ]
    },
    {
      "cell_type": "markdown",
      "source": [
        "#Ques.11. Create a class Person with attributes name and age. Add a method greet() that prints \"Hello, my name is {name} and I am {age} years old.\""
      ],
      "metadata": {
        "id": "AqBOENvLfGOi"
      }
    },
    {
      "cell_type": "code",
      "source": [
        "class Person:\n",
        "    def __init__(self, name, age):\n",
        "        self.name = name\n",
        "        self.age = age\n",
        "\n",
        "    def greet(self):\n",
        "        print(f\"Hello, my name is {self.name} and I am {self.age} years old.\")\n",
        "\n",
        "# Example usage\n",
        "person = Person(\"Pranjul\", 25)\n",
        "person.greet()  # Output: Hello, my name is Pranjul and I am 25 years old.\n"
      ],
      "metadata": {
        "colab": {
          "base_uri": "https://localhost:8080/"
        },
        "id": "9pO4GhtlfK21",
        "outputId": "508a4d05-4d01-4443-d094-a8032835ebd1"
      },
      "execution_count": 12,
      "outputs": [
        {
          "output_type": "stream",
          "name": "stdout",
          "text": [
            "Hello, my name is Pranjul and I am 25 years old.\n"
          ]
        }
      ]
    },
    {
      "cell_type": "markdown",
      "source": [
        "#Ques.12. Implement a class Student with attributes name and grades. Create a method average_grade() to compute the average of the grades."
      ],
      "metadata": {
        "id": "dvqwadJ0fdN9"
      }
    },
    {
      "cell_type": "code",
      "source": [
        "class Student:\n",
        "    def __init__(self, name, grades):\n",
        "        self.name = name\n",
        "        self.grades = grades  # Expecting a list of numbers\n",
        "\n",
        "    def average_grade(self):\n",
        "        if not self.grades:\n",
        "            return 0\n",
        "        return sum(self.grades) / len(self.grades)\n",
        "\n",
        "# Example usage\n",
        "student = Student(\"Pranjul\", [85, 90, 78, 92])\n",
        "print(f\"{student.name}'s average grade is {student.average_grade():.2f}\")\n",
        "# Output: Pranjul's average grade is 86.25\n"
      ],
      "metadata": {
        "colab": {
          "base_uri": "https://localhost:8080/"
        },
        "id": "91oNbhXHfkPY",
        "outputId": "d515bff7-bd97-42c6-c2c7-875653663308"
      },
      "execution_count": 14,
      "outputs": [
        {
          "output_type": "stream",
          "name": "stdout",
          "text": [
            "Pranjul's average grade is 86.25\n"
          ]
        }
      ]
    },
    {
      "cell_type": "markdown",
      "source": [
        "#Ques 13. Create a class Rectangle with methods set_dimensions() to set the dimensions and area() to calculate the area."
      ],
      "metadata": {
        "id": "VsAiKCMthk6C"
      }
    },
    {
      "cell_type": "code",
      "source": [
        "class Rectangle:\n",
        "    def __init__(self):\n",
        "        self.width = 0\n",
        "        self.height = 0\n",
        "\n",
        "    def set_dimensions(self, width, height):\n",
        "        self.width = width\n",
        "        self.height = height\n",
        "\n",
        "    def area(self):\n",
        "        return self.width * self.height\n",
        "\n",
        "# Example usage\n",
        "rect = Rectangle()\n",
        "rect.set_dimensions(5, 10)\n",
        "print(f\"Area of rectangle: {rect.area()}\")  # Output: Area of rectangle: 50\n"
      ],
      "metadata": {
        "colab": {
          "base_uri": "https://localhost:8080/"
        },
        "id": "ByNet488hrVe",
        "outputId": "8ec4eb62-e491-4473-a19e-5f505725d3a1"
      },
      "execution_count": 15,
      "outputs": [
        {
          "output_type": "stream",
          "name": "stdout",
          "text": [
            "Area of rectangle: 50\n"
          ]
        }
      ]
    },
    {
      "cell_type": "markdown",
      "source": [
        "#Ques 14. Create a class Employee with a method calculate_salary() that computes the salary based on hours worked and hourly rate. Create a derived class Manager that adds a bonus to the salary."
      ],
      "metadata": {
        "id": "-vRi0qfUhznI"
      }
    },
    {
      "cell_type": "code",
      "source": [
        "class Employee:\n",
        "    def __init__(self, name, hours_worked, hourly_rate):\n",
        "        self.name = name\n",
        "        self.hours_worked = hours_worked\n",
        "        self.hourly_rate = hourly_rate\n",
        "\n",
        "    def calculate_salary(self):\n",
        "        return self.hours_worked * self.hourly_rate\n",
        "\n",
        "class Manager(Employee):\n",
        "    def __init__(self, name, hours_worked, hourly_rate, bonus):\n",
        "        super().__init__(name, hours_worked, hourly_rate)\n",
        "        self.bonus = bonus\n",
        "\n",
        "    def calculate_salary(self):\n",
        "        base_salary = super().calculate_salary()\n",
        "        return base_salary + self.bonus\n",
        "\n",
        "# Example usage\n",
        "emp = Employee(\"Divya\", 40, 20)\n",
        "mgr = Manager(\"Pranjul\", 40, 25, 500)\n",
        "\n",
        "print(f\"{emp.name}'s salary: ${emp.calculate_salary()}\")  # Output: Divya's salary: $800\n",
        "print(f\"{mgr.name}'s salary: ${mgr.calculate_salary()}\")  # Output: Pranjul's salary: $1500\n"
      ],
      "metadata": {
        "colab": {
          "base_uri": "https://localhost:8080/"
        },
        "id": "vR5mXSoNh4qa",
        "outputId": "c780149e-8fe0-4a11-ec57-a4971df46754"
      },
      "execution_count": 16,
      "outputs": [
        {
          "output_type": "stream",
          "name": "stdout",
          "text": [
            "Divya's salary: $800\n",
            "Pranjul's salary: $1500\n"
          ]
        }
      ]
    },
    {
      "cell_type": "markdown",
      "source": [
        "#Ques 15. Create a class Product with attributes name, price, and quantity. Implement a method total_price() that calculates the total price of the product."
      ],
      "metadata": {
        "id": "EtW8yBzEiQoS"
      }
    },
    {
      "cell_type": "code",
      "source": [
        "class Product:\n",
        "    def __init__(self, name, price, quantity):\n",
        "        self.name = name\n",
        "        self.price = price\n",
        "        self.quantity = quantity\n",
        "\n",
        "    def total_price(self):\n",
        "        return self.price * self.quantity\n",
        "\n",
        "# Example usage\n",
        "product = Product(\"Laptop\", 1200, 3)\n",
        "print(f\"Total price for {product.quantity} {product.name}(s): ${product.total_price()}\")\n",
        "# Output: Total price for 3 Laptop(s): $3600\n"
      ],
      "metadata": {
        "colab": {
          "base_uri": "https://localhost:8080/"
        },
        "id": "wheBaFr_iVBt",
        "outputId": "5619f253-b3f1-427a-b982-320c43533376"
      },
      "execution_count": 18,
      "outputs": [
        {
          "output_type": "stream",
          "name": "stdout",
          "text": [
            "Total price for 3 Laptop(s): $3600\n"
          ]
        }
      ]
    },
    {
      "cell_type": "markdown",
      "source": [
        "#Ques16. Create a class Animal with an abstract method sound(). Create two derived classes Cow and Sheep that implement the sound() method."
      ],
      "metadata": {
        "id": "uIp8Sh7rineW"
      }
    },
    {
      "cell_type": "code",
      "source": [
        "from abc import ABC, abstractmethod\n",
        "\n",
        "class Animal(ABC):\n",
        "    @abstractmethod\n",
        "    def sound(self):\n",
        "        pass\n",
        "\n",
        "class Cow(Animal):\n",
        "    def sound(self):\n",
        "        print(\"Moo\")\n",
        "\n",
        "class Sheep(Animal):\n",
        "    def sound(self):\n",
        "        print(\"Baa\")\n",
        "\n",
        "# Example usage\n",
        "cow = Cow()\n",
        "sheep = Sheep()\n",
        "\n",
        "cow.sound()   # Output: Moo\n",
        "sheep.sound() # Output: Baa\n"
      ],
      "metadata": {
        "colab": {
          "base_uri": "https://localhost:8080/"
        },
        "id": "FyYcQyJjiwDp",
        "outputId": "e6c641ff-c859-4fe0-982f-1c051dced130"
      },
      "execution_count": 19,
      "outputs": [
        {
          "output_type": "stream",
          "name": "stdout",
          "text": [
            "Moo\n",
            "Baa\n"
          ]
        }
      ]
    },
    {
      "cell_type": "markdown",
      "source": [
        "#Ques17. Create a class Book with attributes title, author, and year_published. Add a method get_book_info() that returns a formatted string with the book's details"
      ],
      "metadata": {
        "id": "1HCoaSkyi17Q"
      }
    },
    {
      "cell_type": "code",
      "source": [
        "class Book:\n",
        "    def __init__(self, title, author, year_published):\n",
        "        self.title = title\n",
        "        self.author = author\n",
        "        self.year_published = year_published\n",
        "\n",
        "    def get_book_info(self):\n",
        "        return f\"'{self.title}' by {self.author}, published in {self.year_published}\"\n",
        "\n",
        "# Example usage\n",
        "book = Book(\"To Kill a Mockingbird\", \"Harper Lee\", 1960)\n",
        "print(book.get_book_info())\n",
        "# Output: 'To Kill a Mockingbird' by Harper Lee, published in 1960\n"
      ],
      "metadata": {
        "colab": {
          "base_uri": "https://localhost:8080/"
        },
        "id": "xJsoIj9AjA5w",
        "outputId": "f63cd3fb-4884-4c76-8a00-663d8b0d8610"
      },
      "execution_count": 20,
      "outputs": [
        {
          "output_type": "stream",
          "name": "stdout",
          "text": [
            "'To Kill a Mockingbird' by Harper Lee, published in 1960\n"
          ]
        }
      ]
    },
    {
      "cell_type": "markdown",
      "source": [
        "#Ques18. Create a class House with attributes address and price. Create a derived class Mansion that adds an attribute number_of_rooms."
      ],
      "metadata": {
        "id": "mAalSZ2NjG0G"
      }
    },
    {
      "cell_type": "code",
      "source": [
        "class House:\n",
        "    def __init__(self, address, price):\n",
        "        self.address = address\n",
        "        self.price = price\n",
        "\n",
        "class Mansion(House):\n",
        "    def __init__(self, address, price, number_of_rooms):\n",
        "        super().__init__(address, price)\n",
        "        self.number_of_rooms = number_of_rooms\n",
        "\n",
        "    def show_details(self):\n",
        "        print(f\"Address: {self.address}\")\n",
        "        print(f\"Price: ${self.price}\")\n",
        "        print(f\"Number of rooms: {self.number_of_rooms}\")\n",
        "\n",
        "# Example usage\n",
        "mansion = Mansion(\"123 Luxury St\", 2_000_000, 10)\n",
        "mansion.show_details()\n",
        "# Output:\n",
        "# Address: 123 Luxury St\n",
        "# Price: $2000000\n",
        "# Number of rooms: 10\n"
      ],
      "metadata": {
        "colab": {
          "base_uri": "https://localhost:8080/"
        },
        "id": "875rlnLcjLTR",
        "outputId": "da10890a-1268-407b-db86-60a045dc447d"
      },
      "execution_count": 21,
      "outputs": [
        {
          "output_type": "stream",
          "name": "stdout",
          "text": [
            "Address: 123 Luxury St\n",
            "Price: $2000000\n",
            "Number of rooms: 10\n"
          ]
        }
      ]
    }
  ]
}